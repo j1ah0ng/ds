{
 "cells": [
  {
   "cell_type": "code",
   "execution_count": 1,
   "metadata": {
    "deletable": false,
    "editable": false
   },
   "outputs": [],
   "source": [
    "# Initialize Otter\n",
    "import otter\n",
    "grader = otter.Notebook()"
   ]
  },
  {
   "cell_type": "markdown",
   "metadata": {
    "nbgrader": {
     "grade": false,
     "grade_id": "intro",
     "locked": true,
     "schema_version": 2,
     "solution": false
    }
   },
   "source": [
    "# Lab 13: Principal Component Analysis\n",
    "\n",
    "In this lab assignment, we will walk through an example of using Principal Component Analysis (PCA) on a dataset involving [iris plants](https://en.wikipedia.org/wiki/Iris_(plant)).\n",
    "\n",
    "\n",
    "### Due Date\n",
    "\n",
    "This assignment is due at **Tuesday, August 4th** at **11:59 pm PST**.\n",
    "\n",
    "### Collaboration Policy\n",
    "\n",
    "Data science is a collaborative activity. While you may talk with others about this assignment, we ask that you **write your solutions individually**. If you discuss the assignment with others, please **include their names** in the cell below."
   ]
  },
  {
   "cell_type": "markdown",
   "metadata": {},
   "source": [
    "**Collaborators:** n/a"
   ]
  },
  {
   "cell_type": "code",
   "execution_count": 2,
   "metadata": {
    "nbgrader": {
     "grade": false,
     "grade_id": "imports",
     "locked": true,
     "schema_version": 2,
     "solution": false
    }
   },
   "outputs": [],
   "source": [
    "from sklearn.datasets import load_iris\n",
    "import pandas as pd\n",
    "import numpy as np\n",
    "import seaborn as sns\n",
    "import matplotlib.pyplot as plt\n",
    "%matplotlib inline"
   ]
  },
  {
   "cell_type": "markdown",
   "metadata": {},
   "source": [
    "To begin, run the following cell to load the dataset into this notebook. \n",
    "* `iris_features` will contain a numpy array of 4 attributes for 150 different plants (shape 150 x 4). \n",
    "* `iris_target` will contain the class of each plant. There are 3 classes of plants in the dataset: Iris-Setosa, Iris-Versicolour, and Iris-Virginica. The class names will be stored in `iris_target_names`.\n",
    "* `iris_feature_names` will be a list of 4 names, one for each attribute in `iris_features`. \n",
    "\n",
    "Additional information on the dataset will be included in the description printed at the end of the following cell."
   ]
  },
  {
   "cell_type": "code",
   "execution_count": 3,
   "metadata": {},
   "outputs": [],
   "source": [
    "from sklearn.datasets import load_iris\n",
    "iris_data = load_iris() # Loading the dataset\n",
    "\n",
    "# Unpacking the data into arrays\n",
    "iris_features = iris_data['data']\n",
    "iris_target = iris_data['target']\n",
    "iris_feature_names = iris_data['feature_names']\n",
    "iris_target_names = iris_data['target_names']\n",
    "\n",
    "# Convert iris_target to string labels instead of int labels currently (0, 1, 2) for the classes\n",
    "iris_target = iris_target_names[iris_target]"
   ]
  },
  {
   "cell_type": "markdown",
   "metadata": {
    "deletable": false,
    "editable": false
   },
   "source": [
    "## Question 1\n",
    "\n",
    "Let's explore the data by creating a scatter matrix of our iris features. To do this, we'll create 2D scatter plots for every possible pair of our four features. This should result in six total scatter plots in our scatter matrix.\n",
    "\n",
    "Complete the code below using `sns.scatterplot` to create the scatter matrix.\n",
    "\n",
    "**Hint:** Use the `hue` argument of `sns.scatterplot` to color the points by class. A legend should then appear in each scatter plot automatically.\n",
    "\n",
    "<!--\n",
    "BEGIN QUESTION\n",
    "name: q1\n",
    "-->"
   ]
  },
  {
   "cell_type": "code",
   "execution_count": 4,
   "metadata": {},
   "outputs": [
    {
     "data": {
      "image/png": "[encoded data removed]",
      "text/plain": [
       "<Figure size 1008x720 with 6 Axes>"
      ]
     },
     "metadata": {
      "needs_background": "light"
     },
     "output_type": "display_data"
    }
   ],
   "source": [
    "plt.figure(figsize=(14, 10))\n",
    "plt.suptitle(\"Scatter Matrix of Iris Features\")\n",
    "plt.subplots_adjust(wspace=0.3, hspace=0.3)\n",
    "for i in range(1, 4):\n",
    "    for j in range(i):\n",
    "        plt.subplot(3, 3, i+3*j)\n",
    "        sns.scatterplot(iris_features[i], iris_features[j])\n",
    "        plt.xlabel(iris_feature_names[i])\n",
    "        plt.ylabel(iris_feature_names[j])"
   ]
  },
  {
   "cell_type": "markdown",
   "metadata": {
    "deletable": false,
    "editable": false
   },
   "source": [
    "## Question 2a\n",
    "\n",
    "To apply PCA, we will first need to \"center\" the data so that the mean of each feature is 0. \n",
    "\n",
    "Compute the columnwise mean of `iris_features` in the cell below and store it in `iris_mean` (should be a numpy array of 4 means, 1 for each attribute). Then, subtract `iris_mean` from `iris_features`, and save the result in `features`.\n",
    "\n",
    "**Hints:** \n",
    "* Use `np.mean` or `np.average` to compute `iris_mean`, and pay attention to the `axis` argument.\n",
    "* If you are confused about how numpy deals with arithmetic operations between arrays of different shapes, see this note about [broadcasting](https://docs.scipy.org/doc/numpy/user/basics.broadcasting.html) for explanations/examples.\n",
    "\n",
    "<!--\n",
    "BEGIN QUESTION\n",
    "name: q2a\n",
    "-->"
   ]
  },
  {
   "cell_type": "code",
   "execution_count": 5,
   "metadata": {},
   "outputs": [
    {
     "data": {
      "text/plain": [
       "array([5.84333333, 3.05733333, 3.758     , 1.19933333])"
      ]
     },
     "execution_count": 5,
     "metadata": {},
     "output_type": "execute_result"
    }
   ],
   "source": [
    "iris_mean = np.mean(iris_features, axis=0)\n",
    "features = iris_features - iris_mean\n",
    "iris_mean"
   ]
  },
  {
   "cell_type": "code",
   "execution_count": 6,
   "metadata": {
    "deletable": false,
    "editable": false
   },
   "outputs": [
    {
     "data": {
      "text/html": [
       "\n",
       "    \n",
       "    \n",
       "        <p>All tests passed!</p>\n",
       "    \n",
       "    "
      ],
      "text/plain": [
       "\n",
       "    All tests passed!\n",
       "    "
      ]
     },
     "execution_count": 6,
     "metadata": {},
     "output_type": "execute_result"
    }
   ],
   "source": [
    "grader.check(\"q2a\")"
   ]
  },
  {
   "cell_type": "markdown",
   "metadata": {
    "deletable": false,
    "editable": false
   },
   "source": [
    "## Question 2b\n",
    "\n",
    "As you may recall from lecture, PCA is a specific application of the singular value decomposition (SVD) for matrices. In the following cell, let's use the [`np.linalg.svd`](https://docs.scipy.org/doc/numpy/reference/generated/numpy.linalg.svd.html) function to compute the SVD of our `features`. Store the left singular vectors, singular values, and right singular vectors in `u`, `s`, and `vt`, respectively.\n",
    "\n",
    "**Hint:** Set the `full_matrices` argument of `np.linalg.svd` to `False`.\n",
    "\n",
    "<!--\n",
    "BEGIN QUESTION\n",
    "name: q2b\n",
    "-->"
   ]
  },
  {
   "cell_type": "code",
   "execution_count": 7,
   "metadata": {},
   "outputs": [
    {
     "data": {
      "text/plain": [
       "((150, 4), array([25.09996044,  6.01314738,  3.41368064,  1.88452351]), (4, 4))"
      ]
     },
     "execution_count": 7,
     "metadata": {},
     "output_type": "execute_result"
    }
   ],
   "source": [
    "u, s, vt = np.linalg.svd(features, full_matrices=False)\n",
    "u.shape, s, vt.shape"
   ]
  },
  {
   "cell_type": "code",
   "execution_count": 8,
   "metadata": {
    "deletable": false,
    "editable": false
   },
   "outputs": [
    {
     "data": {
      "text/html": [
       "\n",
       "    \n",
       "    \n",
       "        <p>All tests passed!</p>\n",
       "    \n",
       "    "
      ],
      "text/plain": [
       "\n",
       "    All tests passed!\n",
       "    "
      ]
     },
     "execution_count": 8,
     "metadata": {},
     "output_type": "execute_result"
    }
   ],
   "source": [
    "grader.check(\"q2b\")"
   ]
  },
  {
   "cell_type": "markdown",
   "metadata": {
    "deletable": false,
    "editable": false
   },
   "source": [
    "## Question 2c\n",
    "\n",
    "What can we learn from the singular values in `s`? First, we can compute the total variance of the data by summing the squared singular values. We will later be able to use this value to determine the variance captured by a subset of our principal components.\n",
    "\n",
    "Compute the total variance below by summing the square of `s` and store the result in the variable `total_variance`.\n",
    "\n",
    "<!--\n",
    "BEGIN QUESTION\n",
    "name: q2c\n",
    "-->"
   ]
  },
  {
   "cell_type": "code",
   "execution_count": 9,
   "metadata": {
    "scrolled": true
   },
   "outputs": [
    {
     "name": "stdout",
     "output_type": "stream",
     "text": [
      "total_variance: 4.542 should approximately equal the sum of the feature variances: 4.542\n"
     ]
    }
   ],
   "source": [
    "total_variance = np.sum(s**2) / len(features)\n",
    "print(\"total_variance: {:.3f} should approximately equal the sum of the feature variances: {:.3f}\"\n",
    "      .format(total_variance, np.sum(np.var(iris_features, axis=0))))"
   ]
  },
  {
   "cell_type": "code",
   "execution_count": 10,
   "metadata": {
    "deletable": false,
    "editable": false
   },
   "outputs": [
    {
     "data": {
      "text/html": [
       "\n",
       "    \n",
       "    \n",
       "        <p>All tests passed!</p>\n",
       "    \n",
       "    "
      ],
      "text/plain": [
       "\n",
       "    All tests passed!\n",
       "    "
      ]
     },
     "execution_count": 10,
     "metadata": {},
     "output_type": "execute_result"
    }
   ],
   "source": [
    "grader.check(\"q2c\")"
   ]
  },
  {
   "cell_type": "markdown",
   "metadata": {},
   "source": [
    "As you can see, `total_variance` is equal to the sum of the feature variances."
   ]
  },
  {
   "cell_type": "markdown",
   "metadata": {
    "deletable": false,
    "editable": false
   },
   "source": [
    "## Question 3a\n",
    "\n",
    "Let's now use only the first two principal components to see what a 2D version of our iris data looks like.\n",
    "\n",
    "First, construct the 2D version of the iris data by matrix-multiplying our `features` by the first two right singular vectors in `v`. Because the first two right singular vectors are directions for the first two principal components, this will project the iris data down from a 4D subspace to a 2D subspace.\n",
    "\n",
    "**Hints:**\n",
    "* To matrix-multiply two numpy arrays, use @ or np.dot.\n",
    "* The first two right singular vectors in `v` will be the first two columns of `v`, or the first two rows of `vt` (transposed to be column vectors instead of row vectors). \n",
    "* Since we want to obtain a 2D version of our iris dataset, the shape of `iris_2d` should be (150, 2).\n",
    "\n",
    "<!--\n",
    "BEGIN QUESTION\n",
    "name: q3a\n",
    "-->"
   ]
  },
  {
   "cell_type": "code",
   "execution_count": 76,
   "metadata": {},
   "outputs": [
    {
     "data": {
      "text/plain": [
       "<matplotlib.axes._subplots.AxesSubplot at 0x7f8d58945290>"
      ]
     },
     "execution_count": 76,
     "metadata": {},
     "output_type": "execute_result"
    },
    {
     "data": {
      "image/png": "[encoded data removed]",
      "text/plain": [
       "<Figure size 432x288 with 1 Axes>"
      ]
     },
     "metadata": {
      "needs_background": "light"
     },
     "output_type": "display_data"
    }
   ],
   "source": [
    "proj = (features[:, :2] @ vt[:2, :2])\n",
    "sns.scatterplot(proj[:, 0], proj[:, 1], hue=iris_target)"
   ]
  },
  {
   "cell_type": "code",
   "execution_count": 72,
   "metadata": {},
   "outputs": [
    {
     "data": {
      "text/plain": [
       "array([[-2.68412563, -0.31939725],\n",
       "       [-2.71414169,  0.17700123],\n",
       "       [-2.88899057,  0.14494943],\n",
       "       [-2.74534286,  0.31829898],\n",
       "       [-2.72871654, -0.32675451],\n",
       "       [-2.28085963, -0.74133045],\n",
       "       [-2.82053775,  0.08946138],\n",
       "       [-2.62614497, -0.16338496],\n",
       "       [-2.88638273,  0.57831175],\n",
       "       [-2.6727558 ,  0.11377425],\n",
       "       [-2.50694709, -0.6450689 ],\n",
       "       [-2.61275523, -0.01472994],\n",
       "       [-2.78610927,  0.235112  ],\n",
       "       [-3.22380374,  0.51139459],\n",
       "       [-2.64475039, -1.17876464],\n",
       "       [-2.38603903, -1.33806233],\n",
       "       [-2.62352788, -0.81067951],\n",
       "       [-2.64829671, -0.31184914],\n",
       "       [-2.19982032, -0.87283904],\n",
       "       [-2.5879864 , -0.51356031],\n",
       "       [-2.31025622, -0.39134594],\n",
       "       [-2.54370523, -0.43299606],\n",
       "       [-3.21593942, -0.13346807],\n",
       "       [-2.30273318, -0.09870885],\n",
       "       [-2.35575405,  0.03728186],\n",
       "       [-2.50666891,  0.14601688],\n",
       "       [-2.46882007, -0.13095149],\n",
       "       [-2.56231991, -0.36771886],\n",
       "       [-2.63953472, -0.31203998],\n",
       "       [-2.63198939,  0.19696122],\n",
       "       [-2.58739848,  0.20431849],\n",
       "       [-2.4099325 , -0.41092426],\n",
       "       [-2.64886233, -0.81336382],\n",
       "       [-2.59873675, -1.09314576],\n",
       "       [-2.63692688,  0.12132235],\n",
       "       [-2.86624165, -0.06936447],\n",
       "       [-2.62523805, -0.59937002],\n",
       "       [-2.80068412, -0.26864374],\n",
       "       [-2.98050204,  0.48795834],\n",
       "       [-2.59000631, -0.22904384],\n",
       "       [-2.77010243, -0.26352753],\n",
       "       [-2.84936871,  0.94096057],\n",
       "       [-2.99740655,  0.34192606],\n",
       "       [-2.40561449, -0.18887143],\n",
       "       [-2.20948924, -0.43666314],\n",
       "       [-2.71445143,  0.2502082 ],\n",
       "       [-2.53814826, -0.50377114],\n",
       "       [-2.83946217,  0.22794557],\n",
       "       [-2.54308575, -0.57941002],\n",
       "       [-2.70335978, -0.10770608],\n",
       "       [ 1.28482569, -0.68516047],\n",
       "       [ 0.93248853, -0.31833364],\n",
       "       [ 1.46430232, -0.50426282],\n",
       "       [ 0.18331772,  0.82795901],\n",
       "       [ 1.08810326, -0.07459068],\n",
       "       [ 0.64166908,  0.41824687],\n",
       "       [ 1.09506066, -0.28346827],\n",
       "       [-0.74912267,  1.00489096],\n",
       "       [ 1.04413183, -0.2283619 ],\n",
       "       [-0.0087454 ,  0.72308191],\n",
       "       [-0.50784088,  1.26597119],\n",
       "       [ 0.51169856,  0.10398124],\n",
       "       [ 0.26497651,  0.55003646],\n",
       "       [ 0.98493451,  0.12481785],\n",
       "       [-0.17392537,  0.25485421],\n",
       "       [ 0.92786078, -0.46717949],\n",
       "       [ 0.66028376,  0.35296967],\n",
       "       [ 0.23610499,  0.33361077],\n",
       "       [ 0.94473373,  0.54314555],\n",
       "       [ 0.04522698,  0.58383438],\n",
       "       [ 1.11628318,  0.08461685],\n",
       "       [ 0.35788842,  0.06892503],\n",
       "       [ 1.29818388,  0.32778731],\n",
       "       [ 0.92172892,  0.18273779],\n",
       "       [ 0.71485333, -0.14905594],\n",
       "       [ 0.90017437, -0.32850447],\n",
       "       [ 1.33202444, -0.24444088],\n",
       "       [ 1.55780216, -0.26749545],\n",
       "       [ 0.81329065,  0.1633503 ],\n",
       "       [-0.30558378,  0.36826219],\n",
       "       [-0.06812649,  0.70517213],\n",
       "       [-0.18962247,  0.68028676],\n",
       "       [ 0.13642871,  0.31403244],\n",
       "       [ 1.38002644,  0.42095429],\n",
       "       [ 0.58800644,  0.48428742],\n",
       "       [ 0.80685831, -0.19418231],\n",
       "       [ 1.22069088, -0.40761959],\n",
       "       [ 0.81509524,  0.37203706],\n",
       "       [ 0.24595768,  0.2685244 ],\n",
       "       [ 0.16641322,  0.68192672],\n",
       "       [ 0.46480029,  0.67071154],\n",
       "       [ 0.8908152 ,  0.03446444],\n",
       "       [ 0.23054802,  0.40438585],\n",
       "       [-0.70453176,  1.01224823],\n",
       "       [ 0.35698149,  0.50491009],\n",
       "       [ 0.33193448,  0.21265468],\n",
       "       [ 0.37621565,  0.29321893],\n",
       "       [ 0.64257601, -0.01773819],\n",
       "       [-0.90646986,  0.75609337],\n",
       "       [ 0.29900084,  0.34889781],\n",
       "       [ 2.53119273,  0.00984911],\n",
       "       [ 1.41523588,  0.57491635],\n",
       "       [ 2.61667602, -0.34390315],\n",
       "       [ 1.97153105,  0.1797279 ],\n",
       "       [ 2.35000592,  0.04026095],\n",
       "       [ 3.39703874, -0.55083667],\n",
       "       [ 0.52123224,  1.19275873],\n",
       "       [ 2.93258707, -0.3555    ],\n",
       "       [ 2.32122882,  0.2438315 ],\n",
       "       [ 2.91675097, -0.78279195],\n",
       "       [ 1.66177415, -0.24222841],\n",
       "       [ 1.80340195,  0.21563762],\n",
       "       [ 2.1655918 , -0.21627559],\n",
       "       [ 1.34616358,  0.77681835],\n",
       "       [ 1.58592822,  0.53964071],\n",
       "       [ 1.90445637, -0.11925069],\n",
       "       [ 1.94968906, -0.04194326],\n",
       "       [ 3.48705536, -1.17573933],\n",
       "       [ 3.79564542, -0.25732297],\n",
       "       [ 1.30079171,  0.76114964],\n",
       "       [ 2.42781791, -0.37819601],\n",
       "       [ 1.19900111,  0.60609153],\n",
       "       [ 3.49992004, -0.4606741 ],\n",
       "       [ 1.38876613,  0.20439933],\n",
       "       [ 2.2754305 , -0.33499061],\n",
       "       [ 2.61409047, -0.56090136],\n",
       "       [ 1.25850816,  0.17970479],\n",
       "       [ 1.29113206,  0.11666865],\n",
       "       [ 2.12360872,  0.20972948],\n",
       "       [ 2.38800302, -0.4646398 ],\n",
       "       [ 2.84167278, -0.37526917],\n",
       "       [ 3.23067366, -1.37416509],\n",
       "       [ 2.15943764,  0.21727758],\n",
       "       [ 1.44416124,  0.14341341],\n",
       "       [ 1.78129481,  0.49990168],\n",
       "       [ 3.07649993, -0.68808568],\n",
       "       [ 2.14424331, -0.1400642 ],\n",
       "       [ 1.90509815, -0.04930053],\n",
       "       [ 1.16932634,  0.16499026],\n",
       "       [ 2.10761114, -0.37228787],\n",
       "       [ 2.31415471, -0.18365128],\n",
       "       [ 1.9222678 , -0.40920347],\n",
       "       [ 1.41523588,  0.57491635],\n",
       "       [ 2.56301338, -0.2778626 ],\n",
       "       [ 2.41874618, -0.3047982 ],\n",
       "       [ 1.94410979, -0.1875323 ],\n",
       "       [ 1.52716661,  0.37531698],\n",
       "       [ 1.76434572, -0.07885885],\n",
       "       [ 1.90094161, -0.11662796],\n",
       "       [ 1.39018886,  0.28266094]])"
      ]
     },
     "execution_count": 72,
     "metadata": {},
     "output_type": "execute_result"
    }
   ],
   "source": [
    "(u @ np.diag(s))[:, :2]"
   ]
  },
  {
   "cell_type": "code",
   "execution_count": 77,
   "metadata": {},
   "outputs": [
    {
     "data": {
      "text/plain": [
       "array([[-5.59280663e-01, -2.60389726e-01],\n",
       "       [-3.03263595e-01,  1.21595494e-01],\n",
       "       [-5.06858668e-01, -7.53229028e-03],\n",
       "       [-4.77338450e-01,  7.39361046e-02],\n",
       "       [-6.61078199e-01, -3.24953618e-01],\n",
       "       [-7.13500194e-01, -5.77811054e-01],\n",
       "       [-6.74315081e-01, -1.45112326e-01],\n",
       "       [-5.29760445e-01, -1.78921331e-01],\n",
       "       [-4.18298014e-01,  2.36872894e-01],\n",
       "       [-3.68922472e-01,  4.85793504e-02],\n",
       "       [-5.82182439e-01, -4.31778768e-01],\n",
       "       [-6.02037763e-01, -1.62016829e-01],\n",
       "       [-3.39402255e-01,  1.30047745e-01],\n",
       "       [-5.20095550e-01,  1.72309002e-01],\n",
       "       [-6.34604434e-01, -6.84636204e-01],\n",
       "       [-9.33378602e-01, -9.68248526e-01],\n",
       "       [-7.13500194e-01, -5.77811054e-01],\n",
       "       [-5.59280663e-01, -2.60389726e-01],\n",
       "       [-5.39425339e-01, -5.30151665e-01],\n",
       "       [-7.56257294e-01, -4.79438157e-01],\n",
       "       [-3.85205808e-01, -2.12730337e-01],\n",
       "       [-6.90598417e-01, -4.06422013e-01],\n",
       "       [-8.05632836e-01, -2.91144613e-01],\n",
       "       [-4.27962908e-01, -1.14357439e-01],\n",
       "       [-6.02037763e-01, -1.62016829e-01],\n",
       "       [-2.67124936e-01,  1.13143242e-01],\n",
       "       [-5.29760445e-01, -1.78921331e-01],\n",
       "       [-5.23142003e-01, -2.68841978e-01],\n",
       "       [-4.57483126e-01, -1.95825834e-01],\n",
       "       [-5.06858668e-01, -7.53229028e-03],\n",
       "       [-4.05061132e-01,  5.70316018e-02],\n",
       "       [-3.85205808e-01, -2.12730337e-01],\n",
       "       [-9.17095266e-01, -7.06938839e-01],\n",
       "       [-8.74338166e-01, -8.05311736e-01],\n",
       "       [-3.68922472e-01,  4.85793504e-02],\n",
       "       [-3.98442690e-01, -3.28890445e-02],\n",
       "       [-4.14726026e-01, -2.94198732e-01],\n",
       "       [-6.97216858e-01, -3.16501367e-01],\n",
       "       [-4.83956891e-01,  1.63856751e-01],\n",
       "       [-4.93621786e-01, -1.87373583e-01],\n",
       "       [-5.95419322e-01, -2.51937475e-01],\n",
       "       [ 1.17939078e-02,  6.66517504e-01],\n",
       "       [-6.15274646e-01,  1.78244639e-02],\n",
       "       [-5.95419322e-01, -2.51937475e-01],\n",
       "       [-7.56257294e-01, -4.79438157e-01],\n",
       "       [-3.39402255e-01,  1.30047745e-01],\n",
       "       [-7.56257294e-01, -4.79438157e-01],\n",
       "       [-5.42997327e-01,  9.19961124e-04],\n",
       "       [-6.18321099e-01, -4.23326516e-01],\n",
       "       [-4.64101568e-01, -1.05905188e-01],\n",
       "       [ 3.24330493e-01, -2.01934073e-01],\n",
       "       [ 1.07498538e-01, -1.51220564e-01],\n",
       "       [ 3.53850711e-01, -1.20465678e-01],\n",
       "       [ 3.73180500e-01,  5.81994990e-01],\n",
       "       [ 4.06272706e-01,  1.32391758e-01],\n",
       "       [ 1.17163432e-01,  2.00009770e-01],\n",
       "       [ 5.70100175e-03, -2.15784456e-01],\n",
       "       [ 9.06896674e-02,  5.59692355e-01],\n",
       "       [ 3.76752488e-01,  5.09233634e-02],\n",
       "       [ 2.12901356e-03,  3.15287170e-01],\n",
       "       [ 3.89463835e-01,  8.43304677e-01],\n",
       "       [ 5.81229964e-02,  3.70729798e-02],\n",
       "       [ 6.19532673e-01,  6.12749876e-01],\n",
       "       [ 1.96059192e-01,  9.31846205e-02],\n",
       "       [ 1.53658960e-02,  1.35445877e-01],\n",
       "       [ 2.81573393e-01, -1.03561175e-01],\n",
       "       [-5.02929811e-02,  6.24297340e-02],\n",
       "       [ 2.18960969e-01,  2.64573662e-01],\n",
       "       [ 6.91809991e-01,  5.95845373e-01],\n",
       "       [ 2.78001405e-01,  4.27510451e-01],\n",
       "       [-7.31947578e-02, -1.08959307e-01],\n",
       "       [ 2.61718069e-01,  1.66200764e-01],\n",
       "       [ 5.30972019e-01,  3.68344692e-01],\n",
       "       [ 2.61718069e-01,  1.66200764e-01],\n",
       "       [ 3.04475169e-01,  6.78278662e-02],\n",
       "       [ 3.11093611e-01, -2.20927800e-02],\n",
       "       [ 5.14688683e-01,  1.07035004e-01],\n",
       "       [ 3.47232270e-01, -3.05450315e-02],\n",
       "       [ 1.59920533e-01,  1.01636872e-01],\n",
       "       [ 2.48481187e-01,  3.46042057e-01],\n",
       "       [ 3.07521622e-01,  5.08978846e-01],\n",
       "       [ 3.07521622e-01,  5.08978846e-01],\n",
       "       [ 2.18960969e-01,  2.64573662e-01],\n",
       "       [ 2.91238287e-01,  2.47669159e-01],\n",
       "       [-1.22570299e-01,  7.93342368e-02],\n",
       "       [-1.68373853e-01, -2.63443846e-01],\n",
       "       [ 2.81573393e-01, -1.03561175e-01],\n",
       "       [ 6.62289773e-01,  5.14376979e-01],\n",
       "       [-5.02929811e-02,  6.24297340e-02],\n",
       "       [ 2.41862745e-01,  4.35962703e-01],\n",
       "       [ 1.76203868e-01,  3.62946559e-01],\n",
       "       [ 1.30400315e-01,  2.01684770e-02],\n",
       "       [ 2.84619846e-01,  3.37589805e-01],\n",
       "       [ 1.92487204e-01,  6.24256247e-01],\n",
       "       [ 1.46683650e-01,  2.81478164e-01],\n",
       "       [-1.41543219e-02,  5.39774826e-02],\n",
       "       [ 5.15045552e-02,  1.26993626e-01],\n",
       "       [ 2.32197851e-01,  8.47323691e-02],\n",
       "       [ 9.73081086e-02,  4.69771708e-01],\n",
       "       [ 1.17163432e-01,  2.00009770e-01],\n",
       "       [ 5.70100175e-03, -2.15784456e-01],\n",
       "       [ 2.18960969e-01,  2.64573662e-01],\n",
       "       [ 4.91786907e-01, -6.43540371e-02],\n",
       "       [ 2.68336510e-01,  7.62801177e-02],\n",
       "       [ 2.74954951e-01, -1.36405286e-02],\n",
       "       [ 6.72480202e-01, -1.06615294e-01],\n",
       "       [ 2.50307903e-02,  4.86676211e-01],\n",
       "       [ 6.29723102e-01, -8.24239641e-03],\n",
       "       [ 6.75526655e-01,  3.34535686e-01],\n",
       "       [ 1.33972303e-01, -5.10903149e-01],\n",
       "       [ 1.43637197e-01, -1.59672816e-01],\n",
       "       [ 4.35792924e-01,  2.13860153e-01],\n",
       "       [ 3.83370929e-01, -3.89972829e-02],\n",
       "       [ 3.14140064e-01,  4.19058200e-01],\n",
       "       [ 1.53302092e-01,  1.91557518e-01],\n",
       "       [ 1.07498538e-01, -1.51220564e-01],\n",
       "       [ 2.74954951e-01, -1.36405286e-02],\n",
       "       [ 1.83347845e-01, -6.99196693e-01],\n",
       "       [ 9.71254370e-01,  1.76997028e-01],\n",
       "       [ 6.19532673e-01,  6.12749876e-01],\n",
       "       [ 2.88191834e-01, -1.93481821e-01],\n",
       "       [ 8.10247731e-02,  2.08462021e-01],\n",
       "       [ 8.39936616e-01,  3.09647414e-02],\n",
       "       [ 3.99654265e-01,  2.22312405e-01],\n",
       "       [ 1.50255638e-01, -2.49593462e-01],\n",
       "       [ 3.96607811e-01, -2.18838575e-01],\n",
       "       [ 2.97856728e-01,  1.57748513e-01],\n",
       "       [ 1.30400315e-01,  2.01684770e-02],\n",
       "       [ 3.70134047e-01,  1.40844010e-01],\n",
       "       [ 5.27925566e-01, -7.28062885e-02],\n",
       "       [ 7.31520638e-01,  5.63214957e-02],\n",
       "       [ 2.55625163e-01, -7.16101196e-01],\n",
       "       [ 3.70134047e-01,  1.40844010e-01],\n",
       "       [ 3.33995387e-01,  1.49296261e-01],\n",
       "       [ 3.93035823e-01,  3.12233051e-01],\n",
       "       [ 7.08618862e-01, -1.15067546e-01],\n",
       "       [-5.99578754e-02, -2.88800600e-01],\n",
       "       [ 1.73157415e-01, -7.82044207e-02],\n",
       "       [ 9.42616556e-02,  2.86207284e-02],\n",
       "       [ 3.53850711e-01, -1.20465678e-01],\n",
       "       [ 2.81573393e-01, -1.03561175e-01],\n",
       "       [ 3.53850711e-01, -1.20465678e-01],\n",
       "       [ 2.18960969e-01,  2.64573662e-01],\n",
       "       [ 2.52053175e-01, -1.85029570e-01],\n",
       "       [ 1.50255638e-01, -2.49593462e-01],\n",
       "       [ 3.47232270e-01, -3.05450315e-02],\n",
       "       [ 5.30972019e-01,  3.68344692e-01],\n",
       "       [ 2.74954951e-01, -1.36405286e-02],\n",
       "       [-9.60965346e-02, -2.80348348e-01],\n",
       "       [ 5.81229964e-02,  3.70729798e-02]])"
      ]
     },
     "execution_count": 77,
     "metadata": {},
     "output_type": "execute_result"
    }
   ],
   "source": [
    "iris_2d = (features[:, :2] @ vt[:2, :2])\n",
    "iris_2d"
   ]
  },
  {
   "cell_type": "code",
   "execution_count": 78,
   "metadata": {},
   "outputs": [
    {
     "data": {
      "text/plain": [
       "-0.8196703889936081"
      ]
     },
     "execution_count": 78,
     "metadata": {},
     "output_type": "execute_result"
    }
   ],
   "source": [
    "np.sum(iris_2d[0])"
   ]
  },
  {
   "cell_type": "code",
   "execution_count": 79,
   "metadata": {
    "deletable": false,
    "editable": false
   },
   "outputs": [
    {
     "data": {
      "text/html": [
       "\n",
       "    \n",
       "    \n",
       "        <p>0 of 1 tests passed</p>\n",
       "        \n",
       "        \n",
       "        <p> <strong>Tests failed: </strong>\n",
       "            <ul>\n",
       "            \n",
       "                <li> \n",
       "    <p><strong style='color: red;'>tests/q3a.py</strong></p>\n",
       "    <p><strong>Test code:</strong><pre><div class=\"highlight\" style=\"background: #f8f8f8\"><pre style=\"line-height: 125%\"><span></span><span style=\"color: #000080; font-weight: bold\">&gt;&gt;&gt; </span><span style=\"color: #666666\">-3.01</span> <span style=\"color: #666666\">&lt;</span> np<span style=\"color: #666666\">.</span>sum(iris_2d[<span style=\"color: #666666\">0</span>]) <span style=\"color: #666666\">&lt;</span> <span style=\"color: #666666\">-3.00</span>\n",
       "<span style=\"color: #888888\">True</span>\n",
       "</pre></div>\n",
       "</pre></p>\n",
       "    <p><strong>Test result:</strong><pre>Trying:\n",
       "    -3.01 < np.sum(iris_2d[0]) < -3.00\n",
       "Expecting:\n",
       "    True\n",
       "**********************************************************************\n",
       "Line 1, in tests/q3a.py 1\n",
       "Failed example:\n",
       "    -3.01 < np.sum(iris_2d[0]) < -3.00\n",
       "Expected:\n",
       "    True\n",
       "Got:\n",
       "    False\n",
       "</pre></p>\n",
       "     </li>\n",
       "            \n",
       "            </ul>\n",
       "        \n",
       "    \n",
       "    "
      ],
      "text/plain": [
       "\n",
       "    \n",
       "    0 of 1 tests passed\n",
       "    \n",
       "    \n",
       "    Tests failed:\n",
       "    \n",
       "           tests/q3a.py\n",
       "\n",
       "Test result:\n",
       "Trying:\n",
       "    -3.01 < np.sum(iris_2d[0]) < -3.00\n",
       "Expecting:\n",
       "    True\n",
       "**********************************************************************\n",
       "Line 1, in tests/q3a.py 1\n",
       "Failed example:\n",
       "    -3.01 < np.sum(iris_2d[0]) < -3.00\n",
       "Expected:\n",
       "    True\n",
       "Got:\n",
       "    False\n",
       "\n",
       "    \n",
       "    \n",
       "    \n",
       "    "
      ]
     },
     "execution_count": 79,
     "metadata": {},
     "output_type": "execute_result"
    }
   ],
   "source": [
    "grader.check(\"q3a\")"
   ]
  },
  {
   "cell_type": "markdown",
   "metadata": {},
   "source": [
    "Now, run the cell below to create the scatter plot of our 2D version of the iris data, `iris_2d`."
   ]
  },
  {
   "cell_type": "code",
   "execution_count": 80,
   "metadata": {},
   "outputs": [
    {
     "data": {
      "image/png": "[encoded data removed]",
      "text/plain": [
       "<Figure size 648x432 with 1 Axes>"
      ]
     },
     "metadata": {
      "needs_background": "light"
     },
     "output_type": "display_data"
    }
   ],
   "source": [
    "plt.figure(figsize=(9, 6))\n",
    "plt.title(\"PC2 vs. PC1 for Iris Data\")\n",
    "plt.xlabel(\"Iris PC1\")\n",
    "plt.ylabel(\"Iris PC2\")\n",
    "sns.scatterplot(iris_2d[:, 0], iris_2d[:, 1], hue=iris_target);"
   ]
  },
  {
   "cell_type": "markdown",
   "metadata": {
    "deletable": false,
    "editable": false
   },
   "source": [
    "## Question 3b\n",
    "\n",
    "What do you observe about the plot above? If you were given a point in the subspace defined by PC1 and PC2, how well would you be able to classify the point as one of the three iris types?\n",
    "\n",
    "<!--\n",
    "BEGIN QUESTION\n",
    "name: q3b\n",
    "-->"
   ]
  },
  {
   "cell_type": "markdown",
   "metadata": {},
   "source": [
    "There seems to be two clear clusters: `setosa` and not `setosa`. This is because there is quite a large overlap between `versicolor` records and `virginica` records in the first two dimensions. Then we would be able to classify `setosa`s rather well, but we wouldn't really be able to distinguish `versicolor` from `virginica`."
   ]
  },
  {
   "cell_type": "markdown",
   "metadata": {
    "deletable": false,
    "editable": false
   },
   "source": [
    "## Question 3c\n",
    "\n",
    "What proportion of the total variance is accounted for when we project the iris data down to two dimensions? Compute this quantity in the cell below by dividing the sum of the first two squared singular values (also known as component scores) in `s` by the `total_variance` you calculated previously. Store the result in `two_dim_variance`.\n",
    "\n",
    "<!--\n",
    "BEGIN QUESTION\n",
    "name: q3c\n",
    "-->"
   ]
  },
  {
   "cell_type": "code",
   "execution_count": 86,
   "metadata": {},
   "outputs": [
    {
     "data": {
      "text/plain": [
       "0.977685206318795"
      ]
     },
     "execution_count": 86,
     "metadata": {},
     "output_type": "execute_result"
    }
   ],
   "source": [
    "two_dim_variance = np.sum((s[:2])**2) / np.sum(s**2)\n",
    "two_dim_variance"
   ]
  },
  {
   "cell_type": "code",
   "execution_count": 87,
   "metadata": {
    "deletable": false,
    "editable": false
   },
   "outputs": [
    {
     "data": {
      "text/html": [
       "\n",
       "    \n",
       "    \n",
       "        <p>All tests passed!</p>\n",
       "    \n",
       "    "
      ],
      "text/plain": [
       "\n",
       "    All tests passed!\n",
       "    "
      ]
     },
     "execution_count": 87,
     "metadata": {},
     "output_type": "execute_result"
    }
   ],
   "source": [
    "grader.check(\"q3c\")"
   ]
  },
  {
   "cell_type": "markdown",
   "metadata": {},
   "source": [
    "Most of the variance in the data is explained by the two-dimensional projection!"
   ]
  },
  {
   "cell_type": "markdown",
   "metadata": {
    "deletable": false,
    "editable": false
   },
   "source": [
    "## Question 4\n",
    "\n",
    "As a last step, let's create a [scree plot](https://en.wikipedia.org/wiki/Scree_plot) to visualize the weight of each principal component. In the cell below, create a scree plot by plotting a line plot of the square of the singular values in `s` vs. the principal component number (1st, 2nd, 3rd, or 4th).\n",
    "\n",
    "<img src=\"scree.png\" width=\"400px\" />\n",
    "\n",
    "<!--\n",
    "BEGIN QUESTION\n",
    "name: q4\n",
    "-->"
   ]
  },
  {
   "cell_type": "code",
   "execution_count": 91,
   "metadata": {},
   "outputs": [
    {
     "data": {
      "text/plain": [
       "Text(0.5, 1.0, 'Scree Plot of Iris Principal Components')"
      ]
     },
     "execution_count": 91,
     "metadata": {},
     "output_type": "execute_result"
    },
    {
     "data": {
      "image/png": "[encoded data removed]",
      "text/plain": [
       "<Figure size 432x288 with 1 Axes>"
      ]
     },
     "metadata": {
      "needs_background": "light"
     },
     "output_type": "display_data"
    }
   ],
   "source": [
    "sns.lineplot(y=s**2/len(features), x=[1, 2, 3, 4])\n",
    "plt.xlabel(\"Principal Component\")\n",
    "plt.ylabel(\"Variance (Component Scores)\")\n",
    "plt.title(\"Scree Plot of Iris Principal Components\")"
   ]
  },
  {
   "cell_type": "markdown",
   "metadata": {
    "deletable": false,
    "editable": false
   },
   "source": [
    "---\n",
    "\n",
    "To double-check your work, the cell below will rerun all of the autograder tests."
   ]
  },
  {
   "cell_type": "code",
   "execution_count": 92,
   "metadata": {
    "deletable": false,
    "editable": false
   },
   "outputs": [
    {
     "data": {
      "text/html": [
       "<p><strong>q2a:</strong></p>\n",
       "\n",
       "    \n",
       "    \n",
       "        <p>All tests passed!</p>\n",
       "    \n",
       "    \n",
       "\n",
       "<p><strong>q2b:</strong></p>\n",
       "\n",
       "    \n",
       "    \n",
       "        <p>All tests passed!</p>\n",
       "    \n",
       "    \n",
       "\n",
       "<p><strong>q2c:</strong></p>\n",
       "\n",
       "    \n",
       "    \n",
       "        <p>All tests passed!</p>\n",
       "    \n",
       "    \n",
       "\n",
       "<p><strong>q3a:</strong></p>\n",
       "\n",
       "    \n",
       "    \n",
       "        <p>0 of 1 tests passed</p>\n",
       "        \n",
       "        \n",
       "        <p> <strong>Tests failed: </strong>\n",
       "            <ul>\n",
       "            \n",
       "                <li> \n",
       "    <p><strong style='color: red;'>tests/q3a.py</strong></p>\n",
       "    <p><strong>Test code:</strong><pre><div class=\"highlight\" style=\"background: #f8f8f8\"><pre style=\"line-height: 125%\"><span></span><span style=\"color: #000080; font-weight: bold\">&gt;&gt;&gt; </span><span style=\"color: #666666\">-3.01</span> <span style=\"color: #666666\">&lt;</span> np<span style=\"color: #666666\">.</span>sum(iris_2d[<span style=\"color: #666666\">0</span>]) <span style=\"color: #666666\">&lt;</span> <span style=\"color: #666666\">-3.00</span>\n",
       "<span style=\"color: #888888\">True</span>\n",
       "</pre></div>\n",
       "</pre></p>\n",
       "    <p><strong>Test result:</strong><pre>Trying:\n",
       "    -3.01 < np.sum(iris_2d[0]) < -3.00\n",
       "Expecting:\n",
       "    True\n",
       "**********************************************************************\n",
       "Line 1, in tests/q3a.py 1\n",
       "Failed example:\n",
       "    -3.01 < np.sum(iris_2d[0]) < -3.00\n",
       "Expected:\n",
       "    True\n",
       "Got:\n",
       "    False\n",
       "</pre></p>\n",
       "     </li>\n",
       "            \n",
       "            </ul>\n",
       "        \n",
       "    \n",
       "    \n",
       "\n",
       "<p><strong>q3c:</strong></p>\n",
       "\n",
       "    \n",
       "    \n",
       "        <p>All tests passed!</p>\n",
       "    \n",
       "    \n",
       "\n"
      ],
      "text/plain": [
       "q2a:\n",
       "\n",
       "    All tests passed!\n",
       "    \n",
       "\n",
       "q2b:\n",
       "\n",
       "    All tests passed!\n",
       "    \n",
       "\n",
       "q2c:\n",
       "\n",
       "    All tests passed!\n",
       "    \n",
       "\n",
       "q3a:\n",
       "\n",
       "    \n",
       "    0 of 1 tests passed\n",
       "    \n",
       "    \n",
       "    Tests failed:\n",
       "    \n",
       "           tests/q3a.py\n",
       "\n",
       "Test result:\n",
       "Trying:\n",
       "    -3.01 < np.sum(iris_2d[0]) < -3.00\n",
       "Expecting:\n",
       "    True\n",
       "**********************************************************************\n",
       "Line 1, in tests/q3a.py 1\n",
       "Failed example:\n",
       "    -3.01 < np.sum(iris_2d[0]) < -3.00\n",
       "Expected:\n",
       "    True\n",
       "Got:\n",
       "    False\n",
       "\n",
       "    \n",
       "    \n",
       "    \n",
       "    \n",
       "\n",
       "q3c:\n",
       "\n",
       "    All tests passed!\n",
       "    \n"
      ]
     },
     "execution_count": 92,
     "metadata": {},
     "output_type": "execute_result"
    }
   ],
   "source": [
    "grader.check_all()"
   ]
  },
  {
   "cell_type": "markdown",
   "metadata": {
    "deletable": false,
    "editable": false
   },
   "source": [
    "## Submission\n",
    "\n",
    "Make sure you have run all cells in your notebook in order before     running the cell below, so that all images/graphs appear in the output. The cell below will generate     a zipfile for you to submit. **Please save before exporting!**"
   ]
  },
  {
   "cell_type": "code",
   "execution_count": null,
   "metadata": {
    "deletable": false,
    "editable": false
   },
   "outputs": [],
   "source": [
    "# Save your notebook first, then run this cell to export your submission.\n",
    "grader.export(pdf=False)"
   ]
  },
  {
   "cell_type": "markdown",
   "metadata": {},
   "source": [
    " "
   ]
  }
 ],
 "metadata": {
  "celltoolbar": "Create Assignment",
  "kernelspec": {
   "display_name": "Python 3",
   "language": "python",
   "name": "python3"
  },
  "language_info": {
   "codemirror_mode": {
    "name": "ipython",
    "version": 3
   },
   "file_extension": ".py",
   "mimetype": "text/x-python",
   "name": "python",
   "nbconvert_exporter": "python",
   "pygments_lexer": "ipython3",
   "version": "3.7.6"
  },
  "latex_envs": {
   "LaTeX_envs_menu_present": true,
   "autoclose": false,
   "autocomplete": true,
   "bibliofile": "biblio.bib",
   "cite_by": "apalike",
   "current_citInitial": 1,
   "eqLabelWithNumbers": true,
   "eqNumInitial": 1,
   "hotkeys": {
    "equation": "Ctrl-E",
    "itemize": "Ctrl-I"
   },
   "labels_anchors": false,
   "latex_user_defs": false,
   "report_style_numbering": false,
   "user_envs_cfg": false
  }
 },
 "nbformat": 4,
 "nbformat_minor": 2
}
