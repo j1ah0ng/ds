{
 "cells": [
  {
   "cell_type": "code",
   "execution_count": 1,
   "metadata": {
    "deletable": false,
    "editable": false
   },
   "outputs": [],
   "source": [
    "# Initialize Otter\n",
    "import otter\n",
    "grader = otter.Notebook()"
   ]
  },
  {
   "cell_type": "markdown",
   "metadata": {
    "nbgrader": {
     "grade": false,
     "grade_id": "intro",
     "locked": true,
     "schema_version": 2,
     "solution": false
    }
   },
   "source": [
    "# Lab 1\n",
    "\n",
    "Welcome to the first lab of Data 100! This lab is meant to help you familiarize yourself with JupyterHub, review Python and NumPy, and introduce you to `matplotlib`, a Python visualization library. \n",
    "\n",
    "To receive credit for a lab, answer all questions correctly and submit before the deadline.\n",
    "\n",
    "**This lab is due Tuesday, June 23rd  at 11:59 PM.**"
   ]
  },
  {
   "cell_type": "markdown",
   "metadata": {},
   "source": [
    "### Collaboration Policy\n",
    "\n",
    "Data science is a collaborative activity. While you may talk with others about the labs, we ask that you **write your solutions individually**. If you do discuss the assignments with others please **include their names** below. (That's a good way to learn your classmates' names.)"
   ]
  },
  {
   "cell_type": "markdown",
   "metadata": {},
   "source": [
    "**Collaborators**: *list collaborators here*"
   ]
  },
  {
   "cell_type": "markdown",
   "metadata": {
    "nbgrader": {
     "grade": false,
     "grade_id": "running-a-cell",
     "locked": true,
     "schema_version": 2,
     "solution": false
    }
   },
   "source": [
    "---\n",
    "## Part 1: Jupyter Tips\n"
   ]
  },
  {
   "cell_type": "markdown",
   "metadata": {},
   "source": [
    "### Viewing Documentation\n",
    "\n",
    "To output the documentation for a function, use the `help` function."
   ]
  },
  {
   "cell_type": "code",
   "execution_count": 2,
   "metadata": {
    "ExecuteTime": {
     "end_time": "2019-01-18T23:27:51.618364Z",
     "start_time": "2019-01-18T23:27:51.596329Z"
    }
   },
   "outputs": [
    {
     "name": "stdout",
     "output_type": "stream",
     "text": [
      "Help on built-in function print in module builtins:\n",
      "\n",
      "print(...)\n",
      "    print(value, ..., sep=' ', end='\\n', file=sys.stdout, flush=False)\n",
      "    \n",
      "    Prints the values to a stream, or to sys.stdout by default.\n",
      "    Optional keyword arguments:\n",
      "    file:  a file-like object (stream); defaults to the current sys.stdout.\n",
      "    sep:   string inserted between values, default a space.\n",
      "    end:   string appended after the last value, default a newline.\n",
      "    flush: whether to forcibly flush the stream.\n",
      "\n"
     ]
    }
   ],
   "source": [
    "help(print)"
   ]
  },
  {
   "cell_type": "markdown",
   "metadata": {},
   "source": [
    "You can also use Jupyter to view function documentation inside your notebook. The function must already be defined in the kernel for this to work.\n",
    "\n",
    "Below, click your mouse anywhere on `print()` and use `Shift` + `Tab` to view the function's documentation. "
   ]
  },
  {
   "cell_type": "code",
   "execution_count": 3,
   "metadata": {
    "ExecuteTime": {
     "end_time": "2019-01-18T23:27:51.642969Z",
     "start_time": "2019-01-18T23:27:51.620450Z"
    }
   },
   "outputs": [
    {
     "name": "stdout",
     "output_type": "stream",
     "text": [
      "Welcome to Data 100.\n"
     ]
    }
   ],
   "source": [
    "print('Welcome to Data 100.')"
   ]
  },
  {
   "cell_type": "markdown",
   "metadata": {},
   "source": [
    "### Importing Libraries and Magic Commands\n",
    "\n",
    "In Data 100, we will be using common Python libraries to help us process data. By convention, we import all libraries at the very top of the notebook. There are also a set of standard aliases that are used to shorten the library names. Below are some of the libraries that you may encounter throughout the course, along with their respective aliases."
   ]
  },
  {
   "cell_type": "code",
   "execution_count": 4,
   "metadata": {
    "ExecuteTime": {
     "end_time": "2019-01-18T23:27:53.746048Z",
     "start_time": "2019-01-18T23:27:51.644613Z"
    }
   },
   "outputs": [],
   "source": [
    "import pandas as pd\n",
    "import numpy as np\n",
    "import matplotlib.pyplot as plt\n",
    "plt.style.use('fivethirtyeight')\n",
    "%matplotlib inline"
   ]
  },
  {
   "cell_type": "markdown",
   "metadata": {},
   "source": [
    "`%matplotlib inline` is a [Jupyter magic command](https://ipython.readthedocs.io/en/stable/interactive/magics.html) that configures the notebook so that Matplotlib displays any plots that you draw directly in the notebook rather than to a file, allowing you to view the plots upon executing your code. (Note: In practice, this is no longer necessary, but we're showing it to you now anyway)\n",
    "\n",
    "Another useful magic command is `%%time`, which times the execution of that cell. You can use this by writing it as the first line of a cell. (Note that `%%` is used for *cell magic commands* that apply to the entire cell, whereas `%` is used for *line magic commands* that only apply to a single line.)"
   ]
  },
  {
   "cell_type": "code",
   "execution_count": 5,
   "metadata": {
    "ExecuteTime": {
     "end_time": "2019-01-18T23:27:53.755085Z",
     "start_time": "2019-01-18T23:27:53.749765Z"
    }
   },
   "outputs": [
    {
     "name": "stdout",
     "output_type": "stream",
     "text": [
      "CPU times: user 20 µs, sys: 4 µs, total: 24 µs\n",
      "Wall time: 28.6 µs\n"
     ]
    }
   ],
   "source": [
    "%%time\n",
    "\n",
    "lst = []\n",
    "for i in range(100):\n",
    "    lst.append(i)"
   ]
  },
  {
   "cell_type": "markdown",
   "metadata": {
    "nbgrader": {
     "grade": false,
     "grade_id": "shortcuts",
     "locked": true,
     "schema_version": 2,
     "solution": false
    }
   },
   "source": [
    "### Keyboard Shortcuts\n",
    "\n",
    "Even if you are familiar with Jupyter, we strongly encourage you to become proficient with keyboard shortcuts (this will save you time in the future). To learn about keyboard shortcuts, go to **Help --> Keyboard Shortcuts** in the menu above. \n",
    "\n",
    "Here are a few that we like:\n",
    "1. `Ctrl` + `Return` : *Evaluate the current cell*\n",
    "1. `Shift` + `Return`: *Evaluate the current cell and move to the next*\n",
    "1. `ESC` : *command mode* (may need to press before using any of the commands below)\n",
    "1. `a` : *create a cell above*\n",
    "1. `b` : *create a cell below*\n",
    "1. `dd` : *delete a cell*\n",
    "1. `z` : *undo the last cell operation*\n",
    "1. `m` : *convert a cell to markdown*\n",
    "1. `y` : *convert a cell to code*"
   ]
  },
  {
   "cell_type": "markdown",
   "metadata": {},
   "source": [
    "---\n",
    "## Part 2: Prerequisites\n",
    "\n",
    "It's time to answer some review questions. Each question has a response cell directly below it. Most response cells are followed by a test cell that runs automated tests to check your work. Please don't delete questions, response cells, or test cells. You won't get credit for your work if you do.\n",
    "\n",
    "If you have extra content in a response cell, such as an example call to a function you're implementing, that's fine.\n",
    "\n",
    "Note that for labs, ontime submissions that pass all the test cases will receive full credit. However for homeworks and projects, test cells don't always confirm that your response is correct. They are meant to give you some useful feedback, but it's your responsibility to answer the question. There may be other tests that we run when scoring your notebooks. We **strongly recommend** that you check your solutions yourself rather than just relying on the test cells."
   ]
  },
  {
   "cell_type": "markdown",
   "metadata": {},
   "source": [
    "### Python\n",
    "\n",
    "Python is the main programming language we'll use in the course. We expect that you've taken CS 61A, Data 8, or an equivalent class, so we will not be covering general Python syntax. If any of the following exercises are challenging (or if you would like to refresh your Python knowledge), please review one or more of the following materials.\n",
    "\n",
    "- **[Python Tutorial](https://docs.python.org/3.5/tutorial/)**: Introduction to Python from the creators of Python.\n",
    "- **[Composing Programs Chapter 1](http://composingprograms.com/pages/11-getting-started.html)**: This is more of a introduction to programming with Python.\n",
    "- **[Advanced Crash Course](http://cs231n.github.io/python-numpy-tutorial/)**: A fast crash course which assumes some programming background."
   ]
  },
  {
   "cell_type": "markdown",
   "metadata": {},
   "source": [
    "### Question 1"
   ]
  },
  {
   "cell_type": "markdown",
   "metadata": {
    "deletable": false,
    "editable": false
   },
   "source": [
    "#### Question 1a\n",
    "\n",
    "Write a function `summation` that evaluates the following summation for $n \\geq 1$:\n",
    "\n",
    "$$\\sum_{i=1}^{n} i^3 + 3 i^2$$\n",
    "\n",
    "<!--\n",
    "BEGIN QUESTION\n",
    "name: q1a\n",
    "-->"
   ]
  },
  {
   "cell_type": "code",
   "execution_count": 6,
   "metadata": {
    "ExecuteTime": {
     "end_time": "2019-01-18T23:27:53.778780Z",
     "start_time": "2019-01-18T23:27:53.758946Z"
    }
   },
   "outputs": [],
   "source": [
    "from functools import reduce # for those sicc one-liners\n",
    "\n",
    "def summation(n):\n",
    "    \"\"\"Compute the summation i^3 + 3 * i^2 for 1 <= i <= n.\"\"\"\n",
    "    return reduce(lambda acc, i: acc + i**3 + 3 * i**2, range(1, n + 1), 0)"
   ]
  },
  {
   "cell_type": "code",
   "execution_count": 7,
   "metadata": {
    "deletable": false,
    "editable": false
   },
   "outputs": [
    {
     "data": {
      "text/html": [
       "\n",
       "    \n",
       "    \n",
       "        <p>All tests passed!</p>\n",
       "    \n",
       "    "
      ],
      "text/plain": [
       "\n",
       "    All tests passed!\n",
       "    "
      ]
     },
     "execution_count": 7,
     "metadata": {},
     "output_type": "execute_result"
    }
   ],
   "source": [
    "grader.check(\"q1a\")"
   ]
  },
  {
   "cell_type": "markdown",
   "metadata": {
    "deletable": false,
    "editable": false
   },
   "source": [
    "#### Question 1b\n",
    "\n",
    "Write a function `elementwise_list_sum` that computes the square of each value in `list_1`, the cube of each value in `list_2`, then returns a list containing the element-wise sum of these results. Assume that `list_1` and `list_2` have the same number of elements.\n",
    "\n",
    "**Hint:** The `zip` function may be useful here.\n",
    "\n",
    "<!--\n",
    "BEGIN QUESTION\n",
    "name: q1b\n",
    "-->"
   ]
  },
  {
   "cell_type": "code",
   "execution_count": 8,
   "metadata": {
    "ExecuteTime": {
     "end_time": "2019-01-18T23:27:53.847700Z",
     "start_time": "2019-01-18T23:27:53.812524Z"
    }
   },
   "outputs": [],
   "source": [
    "def elementwise_list_sum(list_1, list_2):\n",
    "    \"\"\"Compute x^2 + y^3 for each x, y in list_1, list_2. \n",
    "    \n",
    "    Assume list_1 and list_2 have the same length.\n",
    "    \"\"\"\n",
    "    assert len(list_1) == len(list_2), \"both args must have the same number of elements\"\n",
    "    zipped = zip(list_1, list_2)\n",
    "    return [x**2 + y**3 for x, y in zipped]"
   ]
  },
  {
   "cell_type": "code",
   "execution_count": 9,
   "metadata": {
    "deletable": false,
    "editable": false
   },
   "outputs": [
    {
     "data": {
      "text/html": [
       "\n",
       "    \n",
       "    \n",
       "        <p>All tests passed!</p>\n",
       "    \n",
       "    "
      ],
      "text/plain": [
       "\n",
       "    All tests passed!\n",
       "    "
      ]
     },
     "execution_count": 9,
     "metadata": {},
     "output_type": "execute_result"
    }
   ],
   "source": [
    "grader.check(\"q1b\")"
   ]
  },
  {
   "cell_type": "markdown",
   "metadata": {
    "deletable": false,
    "editable": false
   },
   "source": [
    "#### Question 1c\n",
    "Recall the formula for population variance below:\n",
    "\n",
    "$$\\sigma^2 = \\frac{\\sum_{i=1}^N (x_i - \\mu)^2}{N}$$\n",
    "\n",
    "Complete the functions below to compute the population variance of `population`, an array of numbers. For this question, **do not use built in NumPy functions; we will use NumPy to verify your code.** Don't worry if you're unfamiliar with what NumPy is, we discuss it in the next section.\n",
    "\n",
    "<!--\n",
    "BEGIN QUESTION\n",
    "name: q1c\n",
    "points: 1\n",
    "-->"
   ]
  },
  {
   "cell_type": "code",
   "execution_count": 10,
   "metadata": {},
   "outputs": [],
   "source": [
    "def mean(population):\n",
    "    \"\"\"\n",
    "    Returns the mean of population (mu)\n",
    "    \n",
    "    Keyword arguments:\n",
    "    population -- a numpy array of numbers\n",
    "    \"\"\"\n",
    "    # Calculate the mean of a population\n",
    "    return reduce(lambda acc, x: acc + x, population, 0) / len(population)\n",
    "\n",
    "def variance(population):\n",
    "    \"\"\"\n",
    "    Returns the variance of population (sigma squared)\n",
    "    \n",
    "    Keyword arguments:\n",
    "    population -- a numpy array of numbers\n",
    "    \"\"\"\n",
    "    # Calculate the variance of a population\n",
    "    mu = mean(population)\n",
    "    return reduce(lambda acc, d: acc + (d - mu)**2, population, 0) / len(population)"
   ]
  },
  {
   "cell_type": "code",
   "execution_count": 11,
   "metadata": {
    "deletable": false,
    "editable": false
   },
   "outputs": [
    {
     "data": {
      "text/html": [
       "\n",
       "    \n",
       "    \n",
       "        <p>All tests passed!</p>\n",
       "    \n",
       "    "
      ],
      "text/plain": [
       "\n",
       "    All tests passed!\n",
       "    "
      ]
     },
     "execution_count": 11,
     "metadata": {},
     "output_type": "execute_result"
    }
   ],
   "source": [
    "grader.check(\"q1c\")"
   ]
  },
  {
   "cell_type": "markdown",
   "metadata": {},
   "source": [
    "### NumPy\n",
    "\n",
    "NumPy is the numerical computing module introduced in Data 8, which is a prerequisite for this course. Here's a quick recap of NumPy. For more review, read the following materials.\n",
    "\n",
    "- **[NumPy Quick Start Tutorial](https://numpy.org/doc/stable/user/quickstart.html)**\n",
    "- **[DS100 NumPy Review](http://ds100.org/fa17/assets/notebooks/numpy/Numpy_Review.html)**\n",
    "- **[Stanford CS231n NumPy Tutorial](http://cs231n.github.io/python-numpy-tutorial/#numpy)**\n",
    "- **[The Data 8 Textbook Chapter on NumPy](https://www.inferentialthinking.com/chapters/05/1/Arrays)**"
   ]
  },
  {
   "cell_type": "markdown",
   "metadata": {
    "deletable": false,
    "editable": false
   },
   "source": [
    "### Question 2\n",
    "\n",
    "The core of NumPy is the array. Like Python lists, arrays store data; however, they store data in a more efficient manner. In many cases, this allows for faster computation and data manipulation.\n",
    "\n",
    "In Data 8, we used `make_array` from the `datascience` module, but that's not the most typical way. Instead, use `np.array` to create an array. It takes a sequence, such as a list or range. \n",
    "\n",
    "Below, create an array `arr` containing the values 1, 2, 3, 4, and 5 (in that order).\n",
    "\n",
    "<!--\n",
    "BEGIN QUESTION\n",
    "name: q2\n",
    "-->"
   ]
  },
  {
   "cell_type": "code",
   "execution_count": 12,
   "metadata": {
    "ExecuteTime": {
     "end_time": "2019-01-18T23:27:53.985409Z",
     "start_time": "2019-01-18T23:27:53.949516Z"
    }
   },
   "outputs": [],
   "source": [
    "arr = np.array([1, 2, 3, 4, 5])"
   ]
  },
  {
   "cell_type": "code",
   "execution_count": 13,
   "metadata": {
    "deletable": false,
    "editable": false
   },
   "outputs": [
    {
     "data": {
      "text/html": [
       "\n",
       "    \n",
       "    \n",
       "        <p>All tests passed!</p>\n",
       "    \n",
       "    "
      ],
      "text/plain": [
       "\n",
       "    All tests passed!\n",
       "    "
      ]
     },
     "execution_count": 13,
     "metadata": {},
     "output_type": "execute_result"
    }
   ],
   "source": [
    "grader.check(\"q2\")"
   ]
  },
  {
   "cell_type": "markdown",
   "metadata": {},
   "source": [
    "In addition to values in the array, we can access attributes such as shape and data type. A full list of attributes can be found [here](https://docs.scipy.org/doc/numpy-1.15.0/reference/arrays.ndarray.html#array-attributes)."
   ]
  },
  {
   "cell_type": "code",
   "execution_count": 14,
   "metadata": {
    "ExecuteTime": {
     "end_time": "2019-01-18T23:27:54.069669Z",
     "start_time": "2019-01-18T23:27:54.036105Z"
    }
   },
   "outputs": [
    {
     "data": {
      "text/plain": [
       "4"
      ]
     },
     "execution_count": 14,
     "metadata": {},
     "output_type": "execute_result"
    }
   ],
   "source": [
    "arr[3]"
   ]
  },
  {
   "cell_type": "code",
   "execution_count": 15,
   "metadata": {
    "ExecuteTime": {
     "end_time": "2019-01-18T23:27:54.099933Z",
     "start_time": "2019-01-18T23:27:54.072605Z"
    }
   },
   "outputs": [
    {
     "data": {
      "text/plain": [
       "array([3, 4])"
      ]
     },
     "execution_count": 15,
     "metadata": {},
     "output_type": "execute_result"
    }
   ],
   "source": [
    "arr[2:4]"
   ]
  },
  {
   "cell_type": "code",
   "execution_count": 16,
   "metadata": {
    "ExecuteTime": {
     "end_time": "2019-01-18T23:27:54.124874Z",
     "start_time": "2019-01-18T23:27:54.101938Z"
    }
   },
   "outputs": [
    {
     "data": {
      "text/plain": [
       "(5,)"
      ]
     },
     "execution_count": 16,
     "metadata": {},
     "output_type": "execute_result"
    }
   ],
   "source": [
    "arr.shape"
   ]
  },
  {
   "cell_type": "code",
   "execution_count": 17,
   "metadata": {
    "ExecuteTime": {
     "end_time": "2019-01-18T23:27:54.148914Z",
     "start_time": "2019-01-18T23:27:54.127372Z"
    },
    "scrolled": true
   },
   "outputs": [
    {
     "data": {
      "text/plain": [
       "dtype('int64')"
      ]
     },
     "execution_count": 17,
     "metadata": {},
     "output_type": "execute_result"
    }
   ],
   "source": [
    "arr.dtype"
   ]
  },
  {
   "cell_type": "markdown",
   "metadata": {},
   "source": [
    "Arrays, unlike Python lists, cannot store items of different data types."
   ]
  },
  {
   "cell_type": "code",
   "execution_count": 18,
   "metadata": {
    "ExecuteTime": {
     "end_time": "2019-01-18T23:27:54.173873Z",
     "start_time": "2019-01-18T23:27:54.150888Z"
    }
   },
   "outputs": [
    {
     "data": {
      "text/plain": [
       "[1, '3']"
      ]
     },
     "execution_count": 18,
     "metadata": {},
     "output_type": "execute_result"
    }
   ],
   "source": [
    "# A regular Python list can store items of different data types\n",
    "[1, '3']"
   ]
  },
  {
   "cell_type": "code",
   "execution_count": 19,
   "metadata": {
    "ExecuteTime": {
     "end_time": "2019-01-18T23:27:54.198281Z",
     "start_time": "2019-01-18T23:27:54.176631Z"
    }
   },
   "outputs": [
    {
     "data": {
      "text/plain": [
       "array(['1', '3'], dtype='<U21')"
      ]
     },
     "execution_count": 19,
     "metadata": {},
     "output_type": "execute_result"
    }
   ],
   "source": [
    "# Arrays will convert everything to the same data type\n",
    "np.array([1, '3'])"
   ]
  },
  {
   "cell_type": "code",
   "execution_count": 20,
   "metadata": {
    "ExecuteTime": {
     "end_time": "2019-01-18T23:27:54.227988Z",
     "start_time": "2019-01-18T23:27:54.200270Z"
    }
   },
   "outputs": [
    {
     "data": {
      "text/plain": [
       "array([5. , 8.3])"
      ]
     },
     "execution_count": 20,
     "metadata": {},
     "output_type": "execute_result"
    }
   ],
   "source": [
    "# Another example of array type conversion\n",
    "np.array([5, 8.3])"
   ]
  },
  {
   "cell_type": "markdown",
   "metadata": {},
   "source": [
    "Arrays are also useful in performing *vectorized operations*. Given two or more arrays of equal length, arithmetic will perform element-wise computations across the arrays. \n",
    "\n",
    "For example, observe the following:"
   ]
  },
  {
   "cell_type": "code",
   "execution_count": 21,
   "metadata": {
    "ExecuteTime": {
     "end_time": "2019-01-18T23:27:54.266157Z",
     "start_time": "2019-01-18T23:27:54.231648Z"
    }
   },
   "outputs": [
    {
     "data": {
      "text/plain": [
       "[1, 2, 3, 4, 5, 6]"
      ]
     },
     "execution_count": 21,
     "metadata": {},
     "output_type": "execute_result"
    }
   ],
   "source": [
    "# Python list addition will concatenate the two lists\n",
    "[1, 2, 3] + [4, 5, 6]"
   ]
  },
  {
   "cell_type": "code",
   "execution_count": 22,
   "metadata": {
    "ExecuteTime": {
     "end_time": "2019-01-18T23:27:54.299682Z",
     "start_time": "2019-01-18T23:27:54.269136Z"
    }
   },
   "outputs": [
    {
     "data": {
      "text/plain": [
       "array([5, 7, 9])"
      ]
     },
     "execution_count": 22,
     "metadata": {},
     "output_type": "execute_result"
    }
   ],
   "source": [
    "# NumPy array addition will add them element-wise\n",
    "np.array([1, 2, 3]) + np.array([4, 5, 6])"
   ]
  },
  {
   "cell_type": "markdown",
   "metadata": {
    "deletable": false,
    "editable": false
   },
   "source": [
    "### Question 3\n",
    "#### Question 3a\n",
    "\n",
    "Given the array `random_arr`, assign `valid_values` to an array containing all values $x$ such that $2x^4 > 1$.\n",
    "\n",
    "**Note**: You should not use `for` loops in your solution. Instead, look at `numpy`'s documentation on [Boolean Indexing](https://numpy.org/devdocs/reference/arrays.indexing.html). \n",
    "\n",
    "<!--\n",
    "BEGIN QUESTION\n",
    "name: q3a\n",
    "-->"
   ]
  },
  {
   "cell_type": "code",
   "execution_count": 23,
   "metadata": {
    "ExecuteTime": {
     "end_time": "2019-01-18T23:27:54.368504Z",
     "start_time": "2019-01-18T23:27:54.331370Z"
    }
   },
   "outputs": [],
   "source": [
    "np.random.seed(42)\n",
    "random_arr = np.random.rand(60)\n",
    "valid_values = random_arr[2 * random_arr**4 > 1]"
   ]
  },
  {
   "cell_type": "code",
   "execution_count": 24,
   "metadata": {
    "deletable": false,
    "editable": false
   },
   "outputs": [
    {
     "data": {
      "text/html": [
       "\n",
       "    \n",
       "    \n",
       "        <p>All tests passed!</p>\n",
       "    \n",
       "    "
      ],
      "text/plain": [
       "\n",
       "    All tests passed!\n",
       "    "
      ]
     },
     "execution_count": 24,
     "metadata": {},
     "output_type": "execute_result"
    }
   ],
   "source": [
    "grader.check(\"q3a\")"
   ]
  },
  {
   "cell_type": "markdown",
   "metadata": {
    "deletable": false,
    "editable": false
   },
   "source": [
    "#### Question 3b\n",
    "\n",
    "Use NumPy to recreate your answer to Question 1b. The input parameters will both be **python lists**, so you will need to convert the lists into arrays before performing your operations. The output should be a **numpy array.**\n",
    "\n",
    "**Hint:** Use the [NumPy documentation](https://docs.scipy.org/doc/numpy-1.15.1/reference/index.html). If you're stuck, try a search engine! Searching the web for examples of how to use modules is very common in data science.\n",
    "\n",
    "<!--\n",
    "BEGIN QUESTION\n",
    "name: q3b\n",
    "-->"
   ]
  },
  {
   "cell_type": "code",
   "execution_count": 25,
   "metadata": {
    "ExecuteTime": {
     "end_time": "2019-01-18T23:27:54.462427Z",
     "start_time": "2019-01-18T23:27:54.420148Z"
    }
   },
   "outputs": [],
   "source": [
    "def elementwise_array_sum(list_1, list_2):\n",
    "    \"\"\"Compute x^2 + y^3 for each x, y in list_1, list_2. \n",
    "    \n",
    "    Assume list_1 and list_2 have the same length.\n",
    "    \n",
    "    Return a NumPy array.\n",
    "    \"\"\"\n",
    "    assert len(list_1) == len(list_2), \"both args must have the same number of elements\"\n",
    "    list_1 = np.array(list_1)\n",
    "    list_2 = np.array(list_2)\n",
    "    return list_1**2 + list_2**3\n",
    "    ..."
   ]
  },
  {
   "cell_type": "code",
   "execution_count": 26,
   "metadata": {
    "deletable": false,
    "editable": false
   },
   "outputs": [
    {
     "data": {
      "text/html": [
       "\n",
       "    \n",
       "    \n",
       "        <p>All tests passed!</p>\n",
       "    \n",
       "    "
      ],
      "text/plain": [
       "\n",
       "    All tests passed!\n",
       "    "
      ]
     },
     "execution_count": 26,
     "metadata": {},
     "output_type": "execute_result"
    }
   ],
   "source": [
    "grader.check(\"q3b\")"
   ]
  },
  {
   "cell_type": "markdown",
   "metadata": {},
   "source": [
    "You might have been told that Python is slow, but array arithmetic is carried out very fast, even for large arrays.\n",
    "\n",
    "For ten numbers, `list_sum` and `elementwise_array_sum` both take a similar amount of time."
   ]
  },
  {
   "cell_type": "code",
   "execution_count": 27,
   "metadata": {
    "ExecuteTime": {
     "end_time": "2019-01-18T23:27:54.532950Z",
     "start_time": "2019-01-18T23:27:54.499655Z"
    }
   },
   "outputs": [],
   "source": [
    "sample_list_1 = list(range(10))\n",
    "sample_array_1 = np.arange(10)"
   ]
  },
  {
   "cell_type": "code",
   "execution_count": 28,
   "metadata": {
    "ExecuteTime": {
     "end_time": "2019-01-18T23:27:54.565618Z",
     "start_time": "2019-01-18T23:27:54.537177Z"
    }
   },
   "outputs": [
    {
     "name": "stdout",
     "output_type": "stream",
     "text": [
      "CPU times: user 12 µs, sys: 3 µs, total: 15 µs\n",
      "Wall time: 18.6 µs\n"
     ]
    },
    {
     "data": {
      "text/plain": [
       "[0, 2, 12, 36, 80, 150, 252, 392, 576, 810]"
      ]
     },
     "execution_count": 28,
     "metadata": {},
     "output_type": "execute_result"
    }
   ],
   "source": [
    "%%time\n",
    "elementwise_list_sum(sample_list_1, sample_list_1)"
   ]
  },
  {
   "cell_type": "code",
   "execution_count": 29,
   "metadata": {
    "ExecuteTime": {
     "end_time": "2019-01-18T23:27:54.598741Z",
     "start_time": "2019-01-18T23:27:54.568363Z"
    }
   },
   "outputs": [
    {
     "name": "stdout",
     "output_type": "stream",
     "text": [
      "CPU times: user 88 µs, sys: 22 µs, total: 110 µs\n",
      "Wall time: 80.8 µs\n"
     ]
    },
    {
     "data": {
      "text/plain": [
       "array([  0,   2,  12,  36,  80, 150, 252, 392, 576, 810])"
      ]
     },
     "execution_count": 29,
     "metadata": {},
     "output_type": "execute_result"
    }
   ],
   "source": [
    "%%time\n",
    "elementwise_array_sum(sample_array_1, sample_array_1)"
   ]
  },
  {
   "cell_type": "markdown",
   "metadata": {},
   "source": [
    "The time difference seems negligible for a list/array of size 10; depending on your setup, you may even observe that `list_sum` executes faster than `elementwise_array_sum`! However, we will commonly be working with much larger datasets:"
   ]
  },
  {
   "cell_type": "code",
   "execution_count": 30,
   "metadata": {
    "ExecuteTime": {
     "end_time": "2019-01-18T23:27:54.639977Z",
     "start_time": "2019-01-18T23:27:54.604370Z"
    }
   },
   "outputs": [],
   "source": [
    "sample_list_2 = list(range(100000))\n",
    "sample_array_2 = np.arange(100000)"
   ]
  },
  {
   "cell_type": "code",
   "execution_count": 31,
   "metadata": {
    "ExecuteTime": {
     "end_time": "2019-01-18T23:27:54.822043Z",
     "start_time": "2019-01-18T23:27:54.643966Z"
    },
    "scrolled": true
   },
   "outputs": [
    {
     "name": "stdout",
     "output_type": "stream",
     "text": [
      "CPU times: user 62.3 ms, sys: 11.4 ms, total: 73.8 ms\n",
      "Wall time: 71.3 ms\n"
     ]
    },
    {
     "data": {
      "text/plain": [
       "'# The semicolon hides the output'"
      ]
     },
     "execution_count": 31,
     "metadata": {},
     "output_type": "execute_result"
    }
   ],
   "source": [
    "%%time\n",
    "elementwise_list_sum(sample_list_2, sample_list_2)\n",
    "; # The semicolon hides the output"
   ]
  },
  {
   "cell_type": "code",
   "execution_count": 32,
   "metadata": {
    "ExecuteTime": {
     "end_time": "2019-01-18T23:27:54.835570Z",
     "start_time": "2019-01-18T23:27:54.825798Z"
    }
   },
   "outputs": [
    {
     "name": "stdout",
     "output_type": "stream",
     "text": [
      "CPU times: user 0 ns, sys: 5.13 ms, total: 5.13 ms\n",
      "Wall time: 3.6 ms\n"
     ]
    },
    {
     "data": {
      "text/plain": [
       "''"
      ]
     },
     "execution_count": 32,
     "metadata": {},
     "output_type": "execute_result"
    }
   ],
   "source": [
    "%%time\n",
    "elementwise_array_sum(sample_array_2, sample_array_2)\n",
    ";"
   ]
  },
  {
   "cell_type": "markdown",
   "metadata": {},
   "source": [
    "With the larger dataset, we see that using NumPy results in code that executes over 50 times faster! Throughout this course (and in the real world), you will find that writing efficient code will be important; arrays and vectorized operations are the most common way of making Python programs run quickly."
   ]
  },
  {
   "cell_type": "markdown",
   "metadata": {},
   "source": [
    "---\n",
    "## Part 3: Plotting\n",
    "Here we explore plotting using `matplotlib` and `numpy`."
   ]
  },
  {
   "cell_type": "markdown",
   "metadata": {
    "deletable": false,
    "editable": false
   },
   "source": [
    "### Question 4 ###\n",
    "\n",
    "\n",
    "Consider the function $f(x) = x^2$ for $-\\infty < x < \\infty$.\n",
    "\n",
    "#### Question 4a) #####\n",
    "Find the equation of the tangent line to $f$ at $x = 0$.\n",
    "\n",
    "<!--\n",
    "BEGIN QUESTION\n",
    "name: q4a\n",
    "-->"
   ]
  },
  {
   "cell_type": "markdown",
   "metadata": {},
   "source": [
    "$y = 0$"
   ]
  },
  {
   "cell_type": "markdown",
   "metadata": {
    "deletable": false,
    "editable": false
   },
   "source": [
    "#### Question 4b) ####\n",
    "Find the equation of the tangent line to $f$ at $x = 8$. \n",
    "\n",
    "<!--\n",
    "BEGIN QUESTION\n",
    "name: q4b\n",
    "-->"
   ]
  },
  {
   "cell_type": "markdown",
   "metadata": {},
   "source": [
    "$y = 16x - 64$"
   ]
  },
  {
   "cell_type": "markdown",
   "metadata": {
    "deletable": false,
    "editable": false
   },
   "source": [
    "#### Question 4c)#### \n",
    "\n",
    "Write code to plot the function $f$, the tangent line at $x=8$, and the tangent line at $x=0$. \n",
    "\n",
    "Set the range of the x-axis to (-15, 15) and the range of the y-axis to (-100, 300) and the figure size to (4,4).\n",
    "\n",
    "Your resulting plot should look like this:\n",
    "\n",
    "<img src=\"derivative.png\" align=\"center\"/>\n",
    "\n",
    "You should use the `plt.plot` function to plot lines. You may find the following functions useful:\n",
    "\n",
    "- [`plt.plot(..)`](https://matplotlib.org/api/_as_gen/matplotlib.pyplot.plot.html)\n",
    "- [`plt.figure(figsize=..)`](https://stackoverflow.com/questions/332289/how-do-you-change-the-size-of-figures-drawn-with-matplotlib)\n",
    "- [`plt.ylim(..)`](https://matplotlib.org/api/_as_gen/matplotlib.pyplot.ylim.html)\n",
    "- [`plt.axhline(..)`](https://matplotlib.org/api/_as_gen/matplotlib.pyplot.hlines.html)\n",
    "\n",
    "<!--\n",
    "BEGIN QUESTION\n",
    "name: q4c\n",
    "-->"
   ]
  },
  {
   "cell_type": "code",
   "execution_count": 33,
   "metadata": {},
   "outputs": [
    {
     "data": {
      "image/png": "[encoded data removed]",
      "text/plain": [
       "<Figure size 432x288 with 1 Axes>"
      ]
     },
     "metadata": {
      "needs_background": "light"
     },
     "output_type": "display_data"
    },
    {
     "data": {
      "text/plain": [
       "<Figure size 288x288 with 0 Axes>"
      ]
     },
     "metadata": {},
     "output_type": "display_data"
    }
   ],
   "source": [
    "def f(x):\n",
    "    return x**2\n",
    "    \n",
    "def df(x):\n",
    "    return 2*x\n",
    "\n",
    "def plot(f, df):\n",
    "    xlim = (-15, 15)\n",
    "    x = np.linspace(*xlim, 100)\n",
    "    plt.plot(x, f(x), color='lightblue')\n",
    "    plt.plot(x, df(0)*x + 0, color='r')\n",
    "    plt.plot(x, df(8)*x - 64, color='orange')\n",
    "    plt.xlim(*xlim)\n",
    "    plt.ylim([-100, 300])\n",
    "    plt.figure(figsize=[4, 4])\n",
    "    \n",
    "plot(f, df)"
   ]
  },
  {
   "cell_type": "markdown",
   "metadata": {
    "deletable": false,
    "editable": false
   },
   "source": [
    "### Question 5 ##\n",
    "\n",
    "Data science is a rapidly expanding field and no degree program can hope to teach you everything that will be helpful to you as a data scientist. So it's important that you become familiar with looking up documentation and learning how to read it. \n",
    "\n",
    "Below is a section of code that plots a three-dimensional \"wireframe\" plot. You'll see what that means when you draw it. Replace each `# Your answer here` with a description of what the line above does, what the arguments being passed in are, and how the arguments are used in the function. For example,\n",
    "\n",
    "```\n",
    "np.arange(2, 5, 0.2)\n",
    "# This returns an array of numbers from 2 to 5 with an interval size of 0.2\n",
    "```\n",
    "\n",
    "**Hint:** The `Shift` + `Tab` tip from earlier in the notebook may help here. Remember that objects must be defined in order for the documentation shortcut to work; for example, all of the documentation will show for method calls from `np` since we've already executed `import numpy as np`. However, since `z` is not yet defined in the kernel, `z.reshape()` will not show documentation until you run the line `z = np.cos(squared)`.\n",
    "\n",
    "<!--\n",
    "BEGIN QUESTION\n",
    "name: q5\n",
    "-->"
   ]
  },
  {
   "cell_type": "code",
   "execution_count": 34,
   "metadata": {},
   "outputs": [
    {
     "data": {
      "image/png": "[encoded data removed]",
      "text/plain": [
       "<Figure size 432x432 with 1 Axes>"
      ]
     },
     "metadata": {
      "needs_background": "light"
     },
     "output_type": "display_data"
    }
   ],
   "source": [
    "from mpl_toolkits.mplot3d import axes3d\n",
    "\n",
    "u = np.linspace(1.5*np.pi, -1.5*np.pi, 100)\n",
    "# Generates 100 equidistant points between 3pi/2 and -3pi/2, inclusive\n",
    "[x,y] = np.meshgrid(u, u)\n",
    "# Creates an x-y coordinate matrix representing a 2D plane with \n",
    "# points at every x=u, y=u\n",
    "squared = np.sqrt(x.flatten()**2 + y.flatten()**2)\n",
    "z = np.cos(squared)\n",
    "# Creates a list z with corresponding to each (x^2 + y^2)^(1/2) \n",
    "# for every x, y \n",
    "z = z.reshape(x.shape)\n",
    "# Rolls z into a square coordinate matrix so each element of z \n",
    "# corresponds to the x, y that created it\n",
    "\n",
    "fig = plt.figure(figsize=(6, 6))\n",
    "ax = fig.add_subplot(111, projection='3d')\n",
    "# Adds a subplot to fig in position 1, with one column and one row \n",
    "# (ie. just one graph) using the '3d' custom projection\n",
    "ax.plot_wireframe(x, y, z, rstride=5, cstride=5, lw=2)\n",
    "# Plots a wireframe graph of points given in (x, y, z) with a \n",
    "# wire every 5 data points in (x, y) and line-width 2\n",
    "ax.view_init(elev=60, azim=25)\n",
    "# View the graph at 60 degrees from the (xy) plane and 25 degrees\n",
    "# from the positive (x) axis\n",
    "plt.savefig(\"figure1.png\")\n",
    "# Saves the figure as \"figure1.png\" at the current path"
   ]
  },
  {
   "cell_type": "markdown",
   "metadata": {
    "nbgrader": {
     "grade": false,
     "grade_id": "q3",
     "locked": true,
     "schema_version": 2,
     "solution": false
    }
   },
   "source": [
    "### Question 6 (ungraded)\n",
    "\n",
    "Do you think that eating french fries with mayonnaise is a crime?  \n",
    "Tell us what you think in the following Markdown cell. :)"
   ]
  },
  {
   "cell_type": "markdown",
   "metadata": {
    "nbgrader": {
     "grade": true,
     "grade_id": "q3-answer",
     "locked": false,
     "points": 0,
     "schema_version": 2,
     "solution": true
    }
   },
   "source": [
    "$ \\Huge \\text{have you }\\textit{had}\\text{ poutine?} $"
   ]
  },
  {
   "cell_type": "markdown",
   "metadata": {
    "deletable": false,
    "editable": false
   },
   "source": [
    "### Question 7 (ungraded)\n",
    "\n",
    "**This problem will not be graded, but you should still attempt it!**\n",
    "Suppose we want to visualize the function $g(t) = a \\cdot \\sin(2 \\pi f t)$ while varying the values $f, a$. Generate a 2 by 2 plot that plots the function $g(t)$ as a line plot with values $f = 2, 8$ and $a = 2, 8$. Since there are 2 values of $f$ and 2 values of $a$ there are a total of 4 combinations, hence a 2 by 2 plot. The rows should vary in $f$ and the columns should vary in $a$.\n",
    "\n",
    "Set the x limit of all figures to $[0, \\pi]$ and the y limit to $[-10, 10]$. The figure size should be 8 by 8. Make sure to label your x and y axes with the appropriate value of $f$ or $a$. Additionally, make sure the x ticks are labeled $[0, \\frac{\\pi}{2}, \\pi]$. Your overall plot should look something like this:\n",
    "\n",
    "![2by2](figure2.png)\n",
    "\n",
    "**Hint 1:** Modularize your code and use loops.\n",
    "\n",
    "**Hint 2:** Are your plots too close together such that the labels are overlapping with other plots? Look at the [`plt.subplots_adjust`](https://matplotlib.org/api/_as_gen/matplotlib.pyplot.subplots_adjust.html) function.\n",
    "\n",
    "**Hint 3:** Having trouble setting the x-axis ticks and ticklabels? Look at the [`plt.xticks`](https://matplotlib.org/api/_as_gen/matplotlib.pyplot.xticks.html) function.\n",
    "\n",
    "**Hint 4:** You can add title to overall plot with `plt.suptitle`.\n",
    "\n",
    "<!--\n",
    "BEGIN QUESTION\n",
    "name: q7\n",
    "-->"
   ]
  },
  {
   "cell_type": "code",
   "execution_count": 35,
   "metadata": {},
   "outputs": [
    {
     "data": {
      "image/png": "[encoded data removed]",
      "text/plain": [
       "<Figure size 576x576 with 4 Axes>"
      ]
     },
     "metadata": {
      "needs_background": "light"
     },
     "output_type": "display_data"
    }
   ],
   "source": [
    "xlim = (0, np.pi)\n",
    "ylim = (-10, 10)\n",
    "\n",
    "t = np.linspace(*xlim, 100)\n",
    "g = lambda a, f, t: a * np.sin(2 * np.pi * f * t)\n",
    "\n",
    "def plot_subgraph(subplot, a, f, t):\n",
    "    subplot.plot(t, g(a, f, t))\n",
    "    subplot.set_ylabel(F\"f: {f}\")\n",
    "    subplot.set_xlabel(F\"a: {a}\")\n",
    "    subplot.set_xlim(*xlim)\n",
    "    subplot.set_ylim(*ylim)\n",
    "    subplot.set_xticks([0, np.pi/2, np.pi])\n",
    "    subplot.set_xticklabels([\"0\", \"π/2\", \"π\"])\n",
    "\n",
    "\n",
    "    \n",
    "def plot():\n",
    "    fig = plt.figure(figsize=(8, 8))\n",
    "            \n",
    "    fig_22 = fig.add_subplot(221)\n",
    "    plot_subgraph(fig_22, 2, 2, t)\n",
    "    fig_28 = fig.add_subplot(222)\n",
    "    plot_subgraph(fig_28, 8, 2, t)\n",
    "    fig_82 = fig.add_subplot(223)\n",
    "    plot_subgraph(fig_82, 2, 8, t)\n",
    "    fig_88 = fig.add_subplot(224)\n",
    "    plot_subgraph(fig_88, 8, 8, t)\n",
    "    fig.suptitle(\"Sine waves with varying a=[2,8], f=[2,8]\")\n",
    "    plt.subplots_adjust(wspace=0.4)\n",
    "\n",
    "    \n",
    "plot()"
   ]
  },
  {
   "cell_type": "markdown",
   "metadata": {
    "deletable": false,
    "editable": false
   },
   "source": [
    "---\n",
    "\n",
    "To double-check your work, the cell below will rerun all of the autograder tests."
   ]
  },
  {
   "cell_type": "code",
   "execution_count": 36,
   "metadata": {
    "deletable": false,
    "editable": false
   },
   "outputs": [
    {
     "data": {
      "text/html": [
       "<p><strong>q1a</strong></p>\n",
       "    \n",
       "    \n",
       "        <p>All tests passed!</p>\n",
       "    \n",
       "    "
      ],
      "text/plain": [
       "<IPython.core.display.HTML object>"
      ]
     },
     "metadata": {},
     "output_type": "display_data"
    },
    {
     "data": {
      "text/html": [
       "<p><strong>q1b</strong></p>\n",
       "    \n",
       "    \n",
       "        <p>All tests passed!</p>\n",
       "    \n",
       "    "
      ],
      "text/plain": [
       "<IPython.core.display.HTML object>"
      ]
     },
     "metadata": {},
     "output_type": "display_data"
    },
    {
     "data": {
      "text/html": [
       "<p><strong>q1c</strong></p>\n",
       "    \n",
       "    \n",
       "        <p>All tests passed!</p>\n",
       "    \n",
       "    "
      ],
      "text/plain": [
       "<IPython.core.display.HTML object>"
      ]
     },
     "metadata": {},
     "output_type": "display_data"
    },
    {
     "data": {
      "text/html": [
       "<p><strong>q2</strong></p>\n",
       "    \n",
       "    \n",
       "        <p>All tests passed!</p>\n",
       "    \n",
       "    "
      ],
      "text/plain": [
       "<IPython.core.display.HTML object>"
      ]
     },
     "metadata": {},
     "output_type": "display_data"
    },
    {
     "data": {
      "text/html": [
       "<p><strong>q3a</strong></p>\n",
       "    \n",
       "    \n",
       "        <p>All tests passed!</p>\n",
       "    \n",
       "    "
      ],
      "text/plain": [
       "<IPython.core.display.HTML object>"
      ]
     },
     "metadata": {},
     "output_type": "display_data"
    },
    {
     "data": {
      "text/html": [
       "<p><strong>q3b</strong></p>\n",
       "    \n",
       "    \n",
       "        <p>All tests passed!</p>\n",
       "    \n",
       "    "
      ],
      "text/plain": [
       "<IPython.core.display.HTML object>"
      ]
     },
     "metadata": {},
     "output_type": "display_data"
    }
   ],
   "source": [
    "grader.check_all()"
   ]
  },
  {
   "cell_type": "markdown",
   "metadata": {
    "deletable": false,
    "editable": false
   },
   "source": [
    "## Submission\n",
    "\n",
    "Make sure you have run all cells in your notebook in order before     running the cell below, so that all images/graphs appear in the output. The cell below will generate     a zipfile for you to submit. **Please save before exporting!**"
   ]
  },
  {
   "cell_type": "code",
   "execution_count": 37,
   "metadata": {
    "deletable": false,
    "editable": false
   },
   "outputs": [
    {
     "data": {
      "application/javascript": [
       "\n",
       "                require([\"base/js/namespace\"], function() {\n",
       "                    Jupyter.notebook.save_notebook();\n",
       "                });\n",
       "            "
      ],
      "text/plain": [
       "<IPython.core.display.Javascript object>"
      ]
     },
     "metadata": {},
     "output_type": "display_data"
    },
    {
     "data": {
      "text/html": [
       "\n",
       "                <p>Your file has been exported. Click <a href=\"lab01.zip\" target=\"_blank\">here</a> \n",
       "                to download the zip file.</p>\n",
       "                "
      ],
      "text/plain": [
       "<IPython.core.display.HTML object>"
      ]
     },
     "metadata": {},
     "output_type": "display_data"
    }
   ],
   "source": [
    "# Save your notebook first, then run this cell to export your submission.\n",
    "grader.export(pdf=False)"
   ]
  },
  {
   "cell_type": "markdown",
   "metadata": {},
   "source": [
    " "
   ]
  }
 ],
 "metadata": {
  "celltoolbar": "Create Assignment",
  "kernelspec": {
   "display_name": "Python 3",
   "language": "python",
   "name": "python3"
  },
  "language_info": {
   "codemirror_mode": {
    "name": "ipython",
    "version": 3
   },
   "file_extension": ".py",
   "mimetype": "text/x-python",
   "name": "python",
   "nbconvert_exporter": "python",
   "pygments_lexer": "ipython3",
   "version": "3.7.6"
  },
  "toc": {
   "colors": {
    "hover_highlight": "#DAA520",
    "running_highlight": "#FF0000",
    "selected_highlight": "#FFD700"
   },
   "moveMenuLeft": true,
   "nav_menu": {
    "height": "156px",
    "width": "252px"
   },
   "navigate_menu": true,
   "number_sections": true,
   "sideBar": true,
   "threshold": 4,
   "toc_cell": true,
   "toc_section_display": "block",
   "toc_window_display": true
  }
 },
 "nbformat": 4,
 "nbformat_minor": 2
}
