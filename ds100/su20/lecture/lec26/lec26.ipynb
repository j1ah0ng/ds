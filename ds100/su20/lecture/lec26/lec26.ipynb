{
 "cells": [
  {
   "cell_type": "markdown",
   "metadata": {},
   "source": [
    "# Lecture 26 – Data 100, Summer 2020\n",
    "\n",
    "Guest appearancer by Josh Hug"
   ]
  },
  {
   "cell_type": "code",
   "execution_count": null,
   "metadata": {},
   "outputs": [],
   "source": [
    "import seaborn as sns\n",
    "import numpy as np\n",
    "import matplotlib.pyplot as plt\n",
    "import pandas as pd\n",
    "\n",
    "%matplotlib inline\n",
    "\n",
    "plt.rcParams['figure.figsize'] = (4, 4)\n",
    "plt.rcParams['figure.dpi'] = 150\n",
    "plt.rcParams['lines.linewidth'] = 3\n",
    "sns.set()"
   ]
  },
  {
   "cell_type": "code",
   "execution_count": null,
   "metadata": {},
   "outputs": [],
   "source": [
    "df = sns.load_dataset(\"titanic\")\n",
    "df = df[[\"age\", \"fare\", \"pclass\", \"sex\", \"survived\"]]\n",
    "df = df.dropna()\n",
    "df['sex'] = df['sex'].replace(\"male\", 0)\n",
    "df['sex'] = df['sex'].replace(\"female\", 1)\n",
    "np.random.seed(23)\n",
    "df_train, df_test = np.split(df, [600])"
   ]
  },
  {
   "cell_type": "code",
   "execution_count": null,
   "metadata": {},
   "outputs": [],
   "source": [
    "df_train"
   ]
  },
  {
   "cell_type": "code",
   "execution_count": null,
   "metadata": {},
   "outputs": [],
   "source": [
    "from sklearn.linear_model import LogisticRegression\n",
    "lr_model = LogisticRegression(C = 0.01)\n",
    "lr_model.fit(df_train[[\"age\", \"fare\", \"pclass\", \"sex\"]], df_train[\"survived\"])"
   ]
  },
  {
   "cell_type": "code",
   "execution_count": null,
   "metadata": {},
   "outputs": [],
   "source": [
    "from sklearn.metrics import accuracy_score\n",
    "y_hat = lr_model.predict(df_train[[\"age\", \"fare\", \"pclass\", \"sex\"]])\n",
    "accuracy_score(df_train[\"survived\"], y_hat)"
   ]
  },
  {
   "cell_type": "code",
   "execution_count": null,
   "metadata": {},
   "outputs": [],
   "source": [
    "from sklearn.linear_model import LogisticRegression\n",
    "lr_model = LogisticRegression(C = 10)\n",
    "lr_model.fit(df_train[[\"age\", \"fare\", \"pclass\", \"sex\"]], df_train[\"survived\"])\n",
    "y_hat = lr_model.predict(df_train[[\"age\", \"fare\", \"pclass\", \"sex\"]])\n",
    "accuracy_score(df_train[\"survived\"], y_hat)"
   ]
  },
  {
   "cell_type": "code",
   "execution_count": null,
   "metadata": {},
   "outputs": [],
   "source": [
    "from sklearn.model_selection import GridSearchCV"
   ]
  },
  {
   "cell_type": "code",
   "execution_count": null,
   "metadata": {},
   "outputs": [],
   "source": [
    "lr_model = LogisticRegression()\n",
    "parameters = {'C': [0.01, 0.1, 1, 10, 100]}\n",
    "\n",
    "lr_model_finder = GridSearchCV(lr_model, parameters, cv=10)\n",
    "lr_model_finder.fit(df_train[[\"age\", \"fare\", \"pclass\", \"sex\"]], df_train[\"survived\"])\n",
    "print(lr_model_finder.best_params_)\n",
    "print(lr_model_finder.best_score_)"
   ]
  },
  {
   "cell_type": "markdown",
   "metadata": {},
   "source": [
    "We can also see all of the cross validation scores with `cv_results_`"
   ]
  },
  {
   "cell_type": "code",
   "execution_count": null,
   "metadata": {},
   "outputs": [],
   "source": [
    "lr_model_finder.cv_results_"
   ]
  },
  {
   "cell_type": "code",
   "execution_count": null,
   "metadata": {},
   "outputs": [],
   "source": [
    "from sklearn.pipeline import Pipeline\n",
    "from sklearn.preprocessing import StandardScaler, PolynomialFeatures"
   ]
  },
  {
   "cell_type": "code",
   "execution_count": null,
   "metadata": {
    "scrolled": true
   },
   "outputs": [],
   "source": [
    "scaled_polynomial_logistic_regression_model = Pipeline([        \n",
    "    ('scale', StandardScaler()),  \n",
    "    ('poly', PolynomialFeatures()),\n",
    "    ('model', LogisticRegression())\n",
    "])\n",
    "\n",
    "parameters = {'model__C': [0.01, 0.1, 1, 10, 100],\n",
    "              'poly__degree': [1, 2]}\n",
    "\n",
    "lr_scaled_poly_model_finder = GridSearchCV(scaled_polynomial_logistic_regression_model, parameters, cv=10)\n",
    "lr_scaled_poly_model_finder.fit(df_train[[\"age\", \"fare\", \"pclass\", \"sex\"]], df_train[\"survived\"])\n",
    "print(lr_scaled_poly_model_finder.best_params_)\n",
    "print(f\"best accuracy: {lr_scaled_poly_model_finder.best_score_}\")"
   ]
  },
  {
   "cell_type": "code",
   "execution_count": null,
   "metadata": {},
   "outputs": [],
   "source": [
    "scaled_polynomial_logistic_regression_model = Pipeline([        \n",
    "    ('scale', StandardScaler()),  \n",
    "    ('poly', PolynomialFeatures()),\n",
    "    ('model', LogisticRegression(penalty = 'l1', solver = 'liblinear'))\n",
    "])\n",
    "\n",
    "parameters = {'model__C': [0.01, 0.1, 1, 10, 100],\n",
    "              'poly__degree': [1, 2]}\n",
    "\n",
    "lr_scaled_poly_model_finder = GridSearchCV(scaled_polynomial_logistic_regression_model, parameters, cv=10)\n",
    "lr_scaled_poly_model_finder.fit(df_train[[\"age\", \"fare\", \"pclass\", \"sex\"]], df_train[\"survived\"])\n",
    "print(lr_scaled_poly_model_finder.best_params_)\n",
    "print(f\"best accuracy: {lr_scaled_poly_model_finder.best_score_}\")"
   ]
  },
  {
   "cell_type": "code",
   "execution_count": null,
   "metadata": {},
   "outputs": [],
   "source": [
    "scaled_polynomial_logistic_regression_model = Pipeline([        \n",
    "    ('scale', StandardScaler()),  \n",
    "    ('poly', PolynomialFeatures()),\n",
    "    ('model', LogisticRegression())\n",
    "])\n",
    "\n",
    "parameters = {'model__C': [0.01, 0.1, 1, 10, 100],\n",
    "              'poly__degree': [1, 2]}\n",
    "\n",
    "lr_scaled_poly_model_finder = GridSearchCV(scaled_polynomial_logistic_regression_model, \n",
    "                                           parameters, cv=10, scoring = \"precision\")\n",
    "lr_scaled_poly_model_finder.fit(df_train[[\"age\", \"fare\", \"pclass\", \"sex\"]], df_train[\"survived\"])\n",
    "print(lr_scaled_poly_model_finder.best_params_)\n",
    "print(f\"precision: {lr_scaled_poly_model_finder.best_score_}\")"
   ]
  },
  {
   "cell_type": "code",
   "execution_count": null,
   "metadata": {},
   "outputs": [],
   "source": [
    "from sklearn.tree import DecisionTreeClassifier\n",
    "from sklearn.model_selection import GridSearchCV\n",
    "\n",
    "decision_tree = DecisionTreeClassifier()\n",
    "parameters = {'min_impurity_decrease': [0, 0.01, 0.02, 0.05, 0.1]}\n",
    "\n",
    "dt_model_finder = GridSearchCV(decision_tree, parameters, cv=10)\n",
    "dt_model_finder.fit(df_train[[\"age\", \"fare\", \"pclass\", \"sex\"]], df_train[\"survived\"])\n",
    "print(dt_model_finder.best_params_)\n",
    "print(f\"accuracy: {dt_model_finder.best_score_}\")"
   ]
  },
  {
   "cell_type": "code",
   "execution_count": null,
   "metadata": {},
   "outputs": [],
   "source": [
    "from sklearn.svm import SVC\n",
    "svm_model = SVC()\n",
    "parameters = {'kernel': [\"linear\", \"rbf\"], 'C': [0.1, 1]}\n",
    "\n",
    "svm_model_finder = GridSearchCV(svm_model, parameters, cv=10)\n",
    "svm_model_finder.fit(df_train[[\"age\", \"fare\", \"pclass\", \"sex\"]], df_train[\"survived\"])\n",
    "print(svm_model_finder.best_params_)\n",
    "print(f\"accuracy: {svm_model_finder.best_score_}\")"
   ]
  },
  {
   "cell_type": "markdown",
   "metadata": {},
   "source": [
    "We can even compare multiple model types by using a dictionary of dictionaries."
   ]
  },
  {
   "cell_type": "code",
   "execution_count": null,
   "metadata": {},
   "outputs": [],
   "source": [
    "from sklearn.ensemble import RandomForestClassifier\n",
    "from sklearn.neighbors import KNeighborsClassifier\n",
    "\n",
    "all_models = {\n",
    "    'DecisionTree': DecisionTreeClassifier(),\n",
    "    'RandomForest': RandomForestClassifier(),\n",
    "    'LogisticRegression': Pipeline([        \n",
    "        ('scale', StandardScaler()),        \n",
    "        ('model', LogisticRegression())\n",
    "    ]),\n",
    "    'KNearestNeighbors': KNeighborsClassifier()\n",
    "}\n",
    "\n",
    "all_params = {\n",
    "    'RandomForest':{ \n",
    "            \"n_estimators\"         : [50, 100, 200],\n",
    "            'min_impurity_decrease': [0, 0.01, 0.02, 0.05, 0.1]\n",
    "            },\n",
    "    'DecisionTree': {\n",
    "        'min_impurity_decrease'    : [0, 0.01, 0.02, 0.05, 0.1]\n",
    "        },\n",
    "    'LogisticRegression' : {\n",
    "        'model__C'                 : 10**np.linspace(-7, 5, 100)\n",
    "        },\n",
    "    'KNearestNeighbors' : {\n",
    "        'n_neighbors'              : [3, 4, 5, 8, 10]\n",
    "    }\n",
    "}"
   ]
  },
  {
   "cell_type": "code",
   "execution_count": null,
   "metadata": {},
   "outputs": [],
   "source": [
    "for name in all_models.keys():\n",
    "    model = all_models[name]\n",
    "    params = all_params[name]\n",
    "    gscv = GridSearchCV(estimator = model, param_grid = params, cv = 10)\n",
    "    gscv.fit(df_train[[\"fare\", \"age\", \"pclass\",  \"sex\"]], \n",
    "             df_train[\"survived\"])\n",
    "    print(f\"best parameters are: {gscv.best_estimator_}\")\n",
    "    print(f\"accuracy is: {gscv.best_score_}\")    "
   ]
  },
  {
   "cell_type": "markdown",
   "metadata": {},
   "source": [
    "Above, we see the Random Forest model does slightly better than a decision tree or logistic regression model, with average cross-validation accuracy of 0.805."
   ]
  },
  {
   "cell_type": "code",
   "execution_count": null,
   "metadata": {
    "scrolled": false
   },
   "outputs": [],
   "source": [
    "for name in all_models.keys():\n",
    "    model = all_models[name]\n",
    "    params = all_params[name]\n",
    "    gscv = GridSearchCV(estimator = model, param_grid = params, cv = 10, scoring = \"precision\")\n",
    "    gscv.fit(df_train[[\"fare\", \"age\", \"pclass\",  \"sex\"]], \n",
    "             df_train[\"survived\"])\n",
    "    print(f\"best parameters are: {gscv.best_estimator_}\")\n",
    "    print(f\"precision is: {gscv.best_score_}\")    "
   ]
  }
 ],
 "metadata": {
  "kernelspec": {
   "display_name": "Python 3",
   "language": "python",
   "name": "python3"
  },
  "language_info": {
   "codemirror_mode": {
    "name": "ipython",
    "version": 3
   },
   "file_extension": ".py",
   "mimetype": "text/x-python",
   "name": "python",
   "nbconvert_exporter": "python",
   "pygments_lexer": "ipython3",
   "version": "3.7.4"
  }
 },
 "nbformat": 4,
 "nbformat_minor": 2
}
