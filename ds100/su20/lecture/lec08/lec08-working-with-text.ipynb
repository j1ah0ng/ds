{
 "cells": [
  {
   "cell_type": "code",
   "execution_count": 1,
   "metadata": {
    "ExecuteTime": {
     "end_time": "2018-02-02T15:15:15.363920Z",
     "start_time": "2018-02-02T15:15:14.337886Z"
    }
   },
   "outputs": [],
   "source": [
    "import numpy as np\n",
    "import matplotlib.pyplot as plt\n",
    "import pandas as pd\n",
    "import seaborn as sns\n",
    "import zipfile\n",
    "%matplotlib inline"
   ]
  },
  {
   "cell_type": "markdown",
   "metadata": {},
   "source": [
    "## Canonicalization"
   ]
  },
  {
   "cell_type": "code",
   "execution_count": 2,
   "metadata": {},
   "outputs": [],
   "source": [
    "with open('county_and_state.csv') as f:\n",
    "    county_and_state = pd.read_csv(f)\n",
    "    \n",
    "with open('county_and_population.csv') as f:\n",
    "    county_and_pop = pd.read_csv(f)    "
   ]
  },
  {
   "cell_type": "markdown",
   "metadata": {},
   "source": [
    "Suppose we'd like to join these two tables. Unfortunately, we can't, because the strings representing the county names don't match, as seen below."
   ]
  },
  {
   "cell_type": "code",
   "execution_count": 3,
   "metadata": {},
   "outputs": [
    {
     "data": {
      "text/html": [
       "<div>\n",
       "<style scoped>\n",
       "    .dataframe tbody tr th:only-of-type {\n",
       "        vertical-align: middle;\n",
       "    }\n",
       "\n",
       "    .dataframe tbody tr th {\n",
       "        vertical-align: top;\n",
       "    }\n",
       "\n",
       "    .dataframe thead th {\n",
       "        text-align: right;\n",
       "    }\n",
       "</style>\n",
       "<table border=\"1\" class=\"dataframe\">\n",
       "  <thead>\n",
       "    <tr style=\"text-align: right;\">\n",
       "      <th></th>\n",
       "      <th>County</th>\n",
       "      <th>State</th>\n",
       "    </tr>\n",
       "  </thead>\n",
       "  <tbody>\n",
       "    <tr>\n",
       "      <th>0</th>\n",
       "      <td>De Witt County</td>\n",
       "      <td>IL</td>\n",
       "    </tr>\n",
       "    <tr>\n",
       "      <th>1</th>\n",
       "      <td>Lac qui Parle County</td>\n",
       "      <td>MN</td>\n",
       "    </tr>\n",
       "    <tr>\n",
       "      <th>2</th>\n",
       "      <td>Lewis and Clark County</td>\n",
       "      <td>MT</td>\n",
       "    </tr>\n",
       "    <tr>\n",
       "      <th>3</th>\n",
       "      <td>St John the Baptist Parish</td>\n",
       "      <td>LS</td>\n",
       "    </tr>\n",
       "  </tbody>\n",
       "</table>\n",
       "</div>"
      ],
      "text/plain": [
       "                       County State\n",
       "0              De Witt County    IL\n",
       "1        Lac qui Parle County    MN\n",
       "2      Lewis and Clark County    MT\n",
       "3  St John the Baptist Parish    LS"
      ]
     },
     "execution_count": 3,
     "metadata": {},
     "output_type": "execute_result"
    }
   ],
   "source": [
    "county_and_state"
   ]
  },
  {
   "cell_type": "code",
   "execution_count": 4,
   "metadata": {},
   "outputs": [
    {
     "data": {
      "text/html": [
       "<div>\n",
       "<style scoped>\n",
       "    .dataframe tbody tr th:only-of-type {\n",
       "        vertical-align: middle;\n",
       "    }\n",
       "\n",
       "    .dataframe tbody tr th {\n",
       "        vertical-align: top;\n",
       "    }\n",
       "\n",
       "    .dataframe thead th {\n",
       "        text-align: right;\n",
       "    }\n",
       "</style>\n",
       "<table border=\"1\" class=\"dataframe\">\n",
       "  <thead>\n",
       "    <tr style=\"text-align: right;\">\n",
       "      <th></th>\n",
       "      <th>County</th>\n",
       "      <th>Population</th>\n",
       "    </tr>\n",
       "  </thead>\n",
       "  <tbody>\n",
       "    <tr>\n",
       "      <th>0</th>\n",
       "      <td>DeWitt</td>\n",
       "      <td>16798</td>\n",
       "    </tr>\n",
       "    <tr>\n",
       "      <th>1</th>\n",
       "      <td>Lac Qui Parle</td>\n",
       "      <td>8067</td>\n",
       "    </tr>\n",
       "    <tr>\n",
       "      <th>2</th>\n",
       "      <td>Lewis &amp; Clark</td>\n",
       "      <td>55716</td>\n",
       "    </tr>\n",
       "    <tr>\n",
       "      <th>3</th>\n",
       "      <td>St. John the Baptist</td>\n",
       "      <td>43044</td>\n",
       "    </tr>\n",
       "  </tbody>\n",
       "</table>\n",
       "</div>"
      ],
      "text/plain": [
       "                 County  Population\n",
       "0                DeWitt       16798\n",
       "1         Lac Qui Parle        8067\n",
       "2         Lewis & Clark       55716\n",
       "3  St. John the Baptist       43044"
      ]
     },
     "execution_count": 4,
     "metadata": {},
     "output_type": "execute_result"
    }
   ],
   "source": [
    "county_and_pop"
   ]
  },
  {
   "cell_type": "markdown",
   "metadata": {},
   "source": [
    " Before we can join them, we'll do what I call **canonicalization**.\n",
    "\n",
    "Canonicalization: A process for converting data that has more than one possible representation into a \"standard\", \"normal\", or canonical form (definition via Wikipedia)."
   ]
  },
  {
   "cell_type": "code",
   "execution_count": 5,
   "metadata": {},
   "outputs": [],
   "source": [
    "def canonicalize_county(county_name):\n",
    "    return (\n",
    "        county_name\n",
    "        .lower()               # lower case\n",
    "        .replace(' ', '')      # remove spaces\n",
    "        .replace('&', 'and')   # replace &\n",
    "        .replace('.', '')      # remove dot\n",
    "        .replace('county', '') # remove county\n",
    "        .replace('parish', '') # remove parish\n",
    "    )"
   ]
  },
  {
   "cell_type": "code",
   "execution_count": 6,
   "metadata": {},
   "outputs": [],
   "source": [
    "county_and_pop['clean_county'] = county_and_pop['County'].map(canonicalize_county)\n",
    "county_and_state['clean_county'] = county_and_state['County'].map(canonicalize_county)"
   ]
  },
  {
   "cell_type": "code",
   "execution_count": 7,
   "metadata": {},
   "outputs": [
    {
     "data": {
      "text/html": [
       "<div>\n",
       "<style scoped>\n",
       "    .dataframe tbody tr th:only-of-type {\n",
       "        vertical-align: middle;\n",
       "    }\n",
       "\n",
       "    .dataframe tbody tr th {\n",
       "        vertical-align: top;\n",
       "    }\n",
       "\n",
       "    .dataframe thead th {\n",
       "        text-align: right;\n",
       "    }\n",
       "</style>\n",
       "<table border=\"1\" class=\"dataframe\">\n",
       "  <thead>\n",
       "    <tr style=\"text-align: right;\">\n",
       "      <th></th>\n",
       "      <th>County_x</th>\n",
       "      <th>Population</th>\n",
       "      <th>clean_county</th>\n",
       "      <th>County_y</th>\n",
       "      <th>State</th>\n",
       "    </tr>\n",
       "  </thead>\n",
       "  <tbody>\n",
       "    <tr>\n",
       "      <th>0</th>\n",
       "      <td>DeWitt</td>\n",
       "      <td>16798</td>\n",
       "      <td>dewitt</td>\n",
       "      <td>De Witt County</td>\n",
       "      <td>IL</td>\n",
       "    </tr>\n",
       "    <tr>\n",
       "      <th>1</th>\n",
       "      <td>Lac Qui Parle</td>\n",
       "      <td>8067</td>\n",
       "      <td>lacquiparle</td>\n",
       "      <td>Lac qui Parle County</td>\n",
       "      <td>MN</td>\n",
       "    </tr>\n",
       "    <tr>\n",
       "      <th>2</th>\n",
       "      <td>Lewis &amp; Clark</td>\n",
       "      <td>55716</td>\n",
       "      <td>lewisandclark</td>\n",
       "      <td>Lewis and Clark County</td>\n",
       "      <td>MT</td>\n",
       "    </tr>\n",
       "    <tr>\n",
       "      <th>3</th>\n",
       "      <td>St. John the Baptist</td>\n",
       "      <td>43044</td>\n",
       "      <td>stjohnthebaptist</td>\n",
       "      <td>St John the Baptist Parish</td>\n",
       "      <td>LS</td>\n",
       "    </tr>\n",
       "  </tbody>\n",
       "</table>\n",
       "</div>"
      ],
      "text/plain": [
       "               County_x  Population      clean_county  \\\n",
       "0                DeWitt       16798            dewitt   \n",
       "1         Lac Qui Parle        8067       lacquiparle   \n",
       "2         Lewis & Clark       55716     lewisandclark   \n",
       "3  St. John the Baptist       43044  stjohnthebaptist   \n",
       "\n",
       "                     County_y State  \n",
       "0              De Witt County    IL  \n",
       "1        Lac qui Parle County    MN  \n",
       "2      Lewis and Clark County    MT  \n",
       "3  St John the Baptist Parish    LS  "
      ]
     },
     "execution_count": 7,
     "metadata": {},
     "output_type": "execute_result"
    }
   ],
   "source": [
    "county_and_pop.merge(county_and_state,\n",
    "                     left_on = 'clean_county', right_on = 'clean_county')"
   ]
  },
  {
   "cell_type": "markdown",
   "metadata": {},
   "source": [
    "## Processing Data from a Text Log Using Basic Python"
   ]
  },
  {
   "cell_type": "code",
   "execution_count": 8,
   "metadata": {
    "scrolled": true
   },
   "outputs": [],
   "source": [
    "with open('log.txt', 'r') as f:\n",
    "    log_lines = f.readlines()"
   ]
  },
  {
   "cell_type": "code",
   "execution_count": 9,
   "metadata": {},
   "outputs": [
    {
     "data": {
      "text/plain": [
       "['169.237.46.168 - - [26/Jan/2014:10:47:58 -0800] \"GET /stat141/Winter04/ HTTP/1.1\" 200 2585 \"http://anson.ucdavis.edu/courses/\"\\n',\n",
       " '193.205.203.3 - - [2/Feb/2005:17:23:6 -0800] \"GET /stat141/Notes/dim.html HTTP/1.0\" 404 302 \"http://eeyore.ucdavis.edu/stat141/Notes/session.html\"\\n',\n",
       " '169.237.46.240 - \"\" [3/Feb/2006:10:18:37 -0800] \"GET /stat141/homework/Solutions/hw1Sol.pdf HTTP/1.1\"\\n']"
      ]
     },
     "execution_count": 9,
     "metadata": {},
     "output_type": "execute_result"
    }
   ],
   "source": [
    "log_lines"
   ]
  },
  {
   "cell_type": "markdown",
   "metadata": {},
   "source": [
    "Suppose we want to extract the day, month, year, hour, minutes, seconds, and timezone. Looking at the data, we see that these items are not in a fixed position relative to the beginning of the string. That is, slicing by some fixed offset isn't going to work."
   ]
  },
  {
   "cell_type": "code",
   "execution_count": 10,
   "metadata": {},
   "outputs": [
    {
     "data": {
      "text/plain": [
       "'26/Jan/2014'"
      ]
     },
     "execution_count": 10,
     "metadata": {},
     "output_type": "execute_result"
    }
   ],
   "source": [
    "log_lines[0][20:31]"
   ]
  },
  {
   "cell_type": "code",
   "execution_count": 11,
   "metadata": {},
   "outputs": [
    {
     "data": {
      "text/plain": [
       "'/Feb/2005:1'"
      ]
     },
     "execution_count": 11,
     "metadata": {},
     "output_type": "execute_result"
    }
   ],
   "source": [
    "log_lines[1][20:31]"
   ]
  },
  {
   "cell_type": "markdown",
   "metadata": {},
   "source": [
    "Instead, we'll need to use some more sophisticated thinking. Let's focus on only the first line of the file."
   ]
  },
  {
   "cell_type": "code",
   "execution_count": 12,
   "metadata": {
    "scrolled": true
   },
   "outputs": [
    {
     "data": {
      "text/plain": [
       "'169.237.46.168 - - [26/Jan/2014:10:47:58 -0800] \"GET /stat141/Winter04/ HTTP/1.1\" 200 2585 \"http://anson.ucdavis.edu/courses/\"\\n'"
      ]
     },
     "execution_count": 12,
     "metadata": {},
     "output_type": "execute_result"
    }
   ],
   "source": [
    "first = log_lines[0]\n",
    "first"
   ]
  },
  {
   "cell_type": "code",
   "execution_count": 13,
   "metadata": {},
   "outputs": [
    {
     "data": {
      "text/plain": [
       "('26', 'Jan', '2014', '10', '47', '58', '-0800')"
      ]
     },
     "execution_count": 13,
     "metadata": {},
     "output_type": "execute_result"
    }
   ],
   "source": [
    "pertinent = first.split(\"[\")[1].split(']')[0]\n",
    "day, month, rest = pertinent.split('/')\n",
    "year, hour, minute, rest = rest.split(':')\n",
    "seconds, time_zone = rest.split(' ')\n",
    "day, month, year, hour, minute, seconds, time_zone"
   ]
  },
  {
   "cell_type": "markdown",
   "metadata": {},
   "source": [
    "A much more sophisticated but common approach is to extract the information we need using a regular expression. See [today's lecture slides](https://docs.google.com/presentation/d/1omFKPsCaPf58VLo33U9ipRq4vt1Kj_3y9yHDUl8qYhk/edit#slide=id.g41d831233f_1_119) for more on regular expressions."
   ]
  },
  {
   "cell_type": "code",
   "execution_count": 14,
   "metadata": {
    "scrolled": true
   },
   "outputs": [
    {
     "data": {
      "text/plain": [
       "('2014', 'Jan', '26', '10', '47', '58', '-0800')"
      ]
     },
     "execution_count": 14,
     "metadata": {},
     "output_type": "execute_result"
    }
   ],
   "source": [
    "import re\n",
    "pattern = r'\\[(\\d+)/(\\w+)/(\\d+):(\\d+):(\\d+):(\\d+) (.+)\\]'\n",
    "day, month, year, hour, minute, second, time_zone = re.search(pattern, first).groups()\n",
    "year, month, day, hour, minute, second, time_zone"
   ]
  },
  {
   "cell_type": "markdown",
   "metadata": {},
   "source": [
    "Or alternately using the `findall` method:"
   ]
  },
  {
   "cell_type": "code",
   "execution_count": 15,
   "metadata": {},
   "outputs": [
    {
     "data": {
      "text/plain": [
       "('2014', 'Jan', '26', '10', '47', '58', '-0800')"
      ]
     },
     "execution_count": 15,
     "metadata": {},
     "output_type": "execute_result"
    }
   ],
   "source": [
    "import re\n",
    "pattern = r'\\[(\\d+)/(\\w+)/(\\d+):(\\d+):(\\d+):(\\d+) (.+)\\]'\n",
    "day, month, year, hour, minute, second, time_zone = re.findall(pattern, first)[0]\n",
    "year, month, day, hour, minute, second, time_zone"
   ]
  },
  {
   "cell_type": "markdown",
   "metadata": {},
   "source": [
    "Note: We can return the results as a Series:"
   ]
  },
  {
   "cell_type": "code",
   "execution_count": 16,
   "metadata": {},
   "outputs": [
    {
     "data": {
      "text/plain": [
       "Day             26\n",
       "Month          Jan\n",
       "Year          2014\n",
       "Hour            10\n",
       "Minute          47\n",
       "Second          58\n",
       "Time Zone    -0800\n",
       "dtype: object"
      ]
     },
     "execution_count": 16,
     "metadata": {},
     "output_type": "execute_result"
    }
   ],
   "source": [
    "cols = [\"Day\", \"Month\", \"Year\", \"Hour\", \"Minute\", \"Second\", \"Time Zone\"]\n",
    "def log_entry_to_series(line):\n",
    "    return pd.Series(re.search(pattern, line).groups(), index = cols)\n",
    "\n",
    "log_entry_to_series(first)"
   ]
  },
  {
   "cell_type": "markdown",
   "metadata": {},
   "source": [
    "And using this function we can create a DataFrame of all the time information."
   ]
  },
  {
   "cell_type": "code",
   "execution_count": 17,
   "metadata": {
    "scrolled": true
   },
   "outputs": [
    {
     "data": {
      "text/html": [
       "<div>\n",
       "<style scoped>\n",
       "    .dataframe tbody tr th:only-of-type {\n",
       "        vertical-align: middle;\n",
       "    }\n",
       "\n",
       "    .dataframe tbody tr th {\n",
       "        vertical-align: top;\n",
       "    }\n",
       "\n",
       "    .dataframe thead th {\n",
       "        text-align: right;\n",
       "    }\n",
       "</style>\n",
       "<table border=\"1\" class=\"dataframe\">\n",
       "  <thead>\n",
       "    <tr style=\"text-align: right;\">\n",
       "      <th></th>\n",
       "      <th>Day</th>\n",
       "      <th>Month</th>\n",
       "      <th>Year</th>\n",
       "      <th>Hour</th>\n",
       "      <th>Minute</th>\n",
       "      <th>Second</th>\n",
       "      <th>Time Zone</th>\n",
       "    </tr>\n",
       "  </thead>\n",
       "  <tbody>\n",
       "    <tr>\n",
       "      <th>0</th>\n",
       "      <td>26</td>\n",
       "      <td>Jan</td>\n",
       "      <td>2014</td>\n",
       "      <td>10</td>\n",
       "      <td>47</td>\n",
       "      <td>58</td>\n",
       "      <td>-0800</td>\n",
       "    </tr>\n",
       "    <tr>\n",
       "      <th>1</th>\n",
       "      <td>2</td>\n",
       "      <td>Feb</td>\n",
       "      <td>2005</td>\n",
       "      <td>17</td>\n",
       "      <td>23</td>\n",
       "      <td>6</td>\n",
       "      <td>-0800</td>\n",
       "    </tr>\n",
       "    <tr>\n",
       "      <th>2</th>\n",
       "      <td>3</td>\n",
       "      <td>Feb</td>\n",
       "      <td>2006</td>\n",
       "      <td>10</td>\n",
       "      <td>18</td>\n",
       "      <td>37</td>\n",
       "      <td>-0800</td>\n",
       "    </tr>\n",
       "  </tbody>\n",
       "</table>\n",
       "</div>"
      ],
      "text/plain": [
       "  Day Month  Year Hour Minute Second Time Zone\n",
       "0  26   Jan  2014   10     47     58     -0800\n",
       "1   2   Feb  2005   17     23      6     -0800\n",
       "2   3   Feb  2006   10     18     37     -0800"
      ]
     },
     "execution_count": 17,
     "metadata": {},
     "output_type": "execute_result"
    }
   ],
   "source": [
    "log_info = pd.DataFrame(columns=cols)\n",
    "\n",
    "for line in log_lines:\n",
    "    log_info = log_info.append(log_entry_to_series(line), ignore_index = True)\n",
    "\n",
    "log_info"
   ]
  },
  {
   "cell_type": "markdown",
   "metadata": {},
   "source": [
    "### Regular Expression From Lecture"
   ]
  },
  {
   "cell_type": "markdown",
   "metadata": {},
   "source": [
    "Fill in the regex below so that after code executes, day is “26”, month is “Jan”, and year is “2014”. "
   ]
  },
  {
   "cell_type": "code",
   "execution_count": 18,
   "metadata": {},
   "outputs": [
    {
     "data": {
      "text/plain": [
       "'169.237.46.168 - - [26/Jan/2014:10:47:58 -0800] \"GET /stat141/Winter04/ HTTP/1.1\" 200 2585 \"http://anson.ucdavis.edu/courses/\"\\n'"
      ]
     },
     "execution_count": 18,
     "metadata": {},
     "output_type": "execute_result"
    }
   ],
   "source": [
    "log_lines[0]"
   ]
  },
  {
   "cell_type": "code",
   "execution_count": 19,
   "metadata": {
    "scrolled": true
   },
   "outputs": [],
   "source": [
    "pattern = r\"YOUR REGEX HERE\"\n",
    "matches = re.findall(pattern, log_lines[0])\n",
    "#day, month, year = matches[0]\n",
    "#day, month, year"
   ]
  },
  {
   "cell_type": "markdown",
   "metadata": {},
   "source": [
    "## Real World Example #1: Restaurant Data\n",
    "\n",
    "In this example, we will show how regexes can allow us to track quantitative data across categories defined by the appearance of various text fields.\n",
    "\n",
    "In this example we'll see how the presence of certain keywords can affect quantitative data, e.g. how do restaurant health scores vary as a function of the number of violations that mention \"vermin\"?"
   ]
  },
  {
   "cell_type": "code",
   "execution_count": 20,
   "metadata": {},
   "outputs": [
    {
     "data": {
      "text/html": [
       "<div>\n",
       "<style scoped>\n",
       "    .dataframe tbody tr th:only-of-type {\n",
       "        vertical-align: middle;\n",
       "    }\n",
       "\n",
       "    .dataframe tbody tr th {\n",
       "        vertical-align: top;\n",
       "    }\n",
       "\n",
       "    .dataframe thead th {\n",
       "        text-align: right;\n",
       "    }\n",
       "</style>\n",
       "<table border=\"1\" class=\"dataframe\">\n",
       "  <thead>\n",
       "    <tr style=\"text-align: right;\">\n",
       "      <th></th>\n",
       "      <th>id</th>\n",
       "      <th>date</th>\n",
       "      <th>desc</th>\n",
       "    </tr>\n",
       "  </thead>\n",
       "  <tbody>\n",
       "    <tr>\n",
       "      <th>0</th>\n",
       "      <td>19</td>\n",
       "      <td>20171211</td>\n",
       "      <td>Inadequate food safety knowledge or lack of ce...</td>\n",
       "    </tr>\n",
       "    <tr>\n",
       "      <th>1</th>\n",
       "      <td>19</td>\n",
       "      <td>20171211</td>\n",
       "      <td>Unapproved or unmaintained equipment or utensils</td>\n",
       "    </tr>\n",
       "    <tr>\n",
       "      <th>2</th>\n",
       "      <td>19</td>\n",
       "      <td>20160513</td>\n",
       "      <td>Unapproved or unmaintained equipment or utensi...</td>\n",
       "    </tr>\n",
       "    <tr>\n",
       "      <th>3</th>\n",
       "      <td>19</td>\n",
       "      <td>20160513</td>\n",
       "      <td>Unclean or degraded floors walls or ceilings  ...</td>\n",
       "    </tr>\n",
       "    <tr>\n",
       "      <th>4</th>\n",
       "      <td>19</td>\n",
       "      <td>20160513</td>\n",
       "      <td>Food safety certificate or food handler card n...</td>\n",
       "    </tr>\n",
       "  </tbody>\n",
       "</table>\n",
       "</div>"
      ],
      "text/plain": [
       "   id      date                                               desc\n",
       "0  19  20171211  Inadequate food safety knowledge or lack of ce...\n",
       "1  19  20171211   Unapproved or unmaintained equipment or utensils\n",
       "2  19  20160513  Unapproved or unmaintained equipment or utensi...\n",
       "3  19  20160513  Unclean or degraded floors walls or ceilings  ...\n",
       "4  19  20160513  Food safety certificate or food handler card n..."
      ]
     },
     "execution_count": 20,
     "metadata": {},
     "output_type": "execute_result"
    }
   ],
   "source": [
    "vio = pd.read_csv('violations.csv', header=0, names=['id', 'date', 'desc'])\n",
    "desc = vio['desc']\n",
    "vio.head()"
   ]
  },
  {
   "cell_type": "code",
   "execution_count": 21,
   "metadata": {},
   "outputs": [
    {
     "data": {
      "text/plain": [
       "Unclean or degraded floors walls or ceilings                          999\n",
       "Unapproved or unmaintained equipment or utensils                      659\n",
       "Inadequately cleaned or sanitized food contact surfaces               493\n",
       "Improper food storage                                                 476\n",
       "Inadequate and inaccessible handwashing facilities                    467\n",
       "Moderate risk food holding temperature                                452\n",
       "Wiping cloths not clean or properly stored or inadequate sanitizer    418\n",
       "Moderate risk vermin infestation                                      374\n",
       "Unclean nonfood contact surfaces                                      369\n",
       "Food safety certificate or food handler card not available            353\n",
       "Name: desc, dtype: int64"
      ]
     },
     "execution_count": 21,
     "metadata": {},
     "output_type": "execute_result"
    }
   ],
   "source": [
    "counts = desc.value_counts()\n",
    "\n",
    "counts[:10]"
   ]
  },
  {
   "cell_type": "code",
   "execution_count": 22,
   "metadata": {
    "scrolled": true
   },
   "outputs": [
    {
     "data": {
      "text/plain": [
       "Moderate risk food holding temperature   [ date violation corrected: 10/11/2016 ]                   16\n",
       "Unclean or degraded floors walls or ceilings  [ date violation corrected: 11/29/2017 ]              16\n",
       "Unclean or degraded floors walls or ceilings  [ date violation corrected: 9/19/2017 ]               16\n",
       "Unclean or degraded floors walls or ceilings  [ date violation corrected: 11/27/2017 ]              15\n",
       "Unclean or degraded floors walls or ceilings  [ date violation corrected: 12/7/2017 ]               15\n",
       "Unclean or degraded floors walls or ceilings  [ date violation corrected: 9/6/2017 ]                14\n",
       "Unapproved or unmaintained equipment or utensils  [ date violation corrected: 9/19/2017 ]           14\n",
       "Inadequately cleaned or sanitized food contact surfaces  [ date violation corrected: 9/26/2017 ]    14\n",
       "Unclean or degraded floors walls or ceilings  [ date violation corrected: 11/28/2017 ]              14\n",
       "Unclean or degraded floors walls or ceilings  [ date violation corrected: 10/31/2017 ]              13\n",
       "Name: desc, dtype: int64"
      ]
     },
     "execution_count": 22,
     "metadata": {},
     "output_type": "execute_result"
    }
   ],
   "source": [
    "# Hmmm...\n",
    "counts[50:60]"
   ]
  },
  {
   "cell_type": "code",
   "execution_count": 23,
   "metadata": {},
   "outputs": [
    {
     "data": {
      "text/html": [
       "<div>\n",
       "<style scoped>\n",
       "    .dataframe tbody tr th:only-of-type {\n",
       "        vertical-align: middle;\n",
       "    }\n",
       "\n",
       "    .dataframe tbody tr th {\n",
       "        vertical-align: top;\n",
       "    }\n",
       "\n",
       "    .dataframe thead th {\n",
       "        text-align: right;\n",
       "    }\n",
       "</style>\n",
       "<table border=\"1\" class=\"dataframe\">\n",
       "  <thead>\n",
       "    <tr style=\"text-align: right;\">\n",
       "      <th></th>\n",
       "      <th>id</th>\n",
       "      <th>date</th>\n",
       "      <th>desc</th>\n",
       "      <th>clean_desc</th>\n",
       "    </tr>\n",
       "  </thead>\n",
       "  <tbody>\n",
       "    <tr>\n",
       "      <th>0</th>\n",
       "      <td>19</td>\n",
       "      <td>20171211</td>\n",
       "      <td>Inadequate food safety knowledge or lack of ce...</td>\n",
       "      <td>inadequate food safety knowledge or lack of ce...</td>\n",
       "    </tr>\n",
       "    <tr>\n",
       "      <th>1</th>\n",
       "      <td>19</td>\n",
       "      <td>20171211</td>\n",
       "      <td>Unapproved or unmaintained equipment or utensils</td>\n",
       "      <td>unapproved or unmaintained equipment or utensils</td>\n",
       "    </tr>\n",
       "    <tr>\n",
       "      <th>2</th>\n",
       "      <td>19</td>\n",
       "      <td>20160513</td>\n",
       "      <td>Unapproved or unmaintained equipment or utensi...</td>\n",
       "      <td>unapproved or unmaintained equipment or utensils</td>\n",
       "    </tr>\n",
       "    <tr>\n",
       "      <th>3</th>\n",
       "      <td>19</td>\n",
       "      <td>20160513</td>\n",
       "      <td>Unclean or degraded floors walls or ceilings  ...</td>\n",
       "      <td>unclean or degraded floors walls or ceilings</td>\n",
       "    </tr>\n",
       "    <tr>\n",
       "      <th>4</th>\n",
       "      <td>19</td>\n",
       "      <td>20160513</td>\n",
       "      <td>Food safety certificate or food handler card n...</td>\n",
       "      <td>food safety certificate or food handler card n...</td>\n",
       "    </tr>\n",
       "  </tbody>\n",
       "</table>\n",
       "</div>"
      ],
      "text/plain": [
       "   id      date                                               desc  \\\n",
       "0  19  20171211  Inadequate food safety knowledge or lack of ce...   \n",
       "1  19  20171211   Unapproved or unmaintained equipment or utensils   \n",
       "2  19  20160513  Unapproved or unmaintained equipment or utensi...   \n",
       "3  19  20160513  Unclean or degraded floors walls or ceilings  ...   \n",
       "4  19  20160513  Food safety certificate or food handler card n...   \n",
       "\n",
       "                                          clean_desc  \n",
       "0  inadequate food safety knowledge or lack of ce...  \n",
       "1   unapproved or unmaintained equipment or utensils  \n",
       "2   unapproved or unmaintained equipment or utensils  \n",
       "3       unclean or degraded floors walls or ceilings  \n",
       "4  food safety certificate or food handler card n...  "
      ]
     },
     "execution_count": 23,
     "metadata": {},
     "output_type": "execute_result"
    }
   ],
   "source": [
    "#Use regular expressions to cut out the extra info in square braces.\n",
    "vio['clean_desc'] = (vio['desc']\n",
    "             .str.replace('\\s*\\[.*\\]$', '')\n",
    "             .str.strip()\n",
    "             .str.lower())\n",
    "vio.head()"
   ]
  },
  {
   "cell_type": "code",
   "execution_count": 24,
   "metadata": {},
   "outputs": [
    {
     "data": {
      "text/plain": [
       "unclean or degraded floors walls or ceilings               3507\n",
       "moderate risk food holding temperature                     2542\n",
       "inadequate and inaccessible handwashing facilities         2529\n",
       "unapproved or unmaintained equipment or utensils           2382\n",
       "inadequately cleaned or sanitized food contact surfaces    2301\n",
       "Name: clean_desc, dtype: int64"
      ]
     },
     "execution_count": 24,
     "metadata": {},
     "output_type": "execute_result"
    }
   ],
   "source": [
    "vio['clean_desc'].value_counts().head() "
   ]
  },
  {
   "cell_type": "code",
   "execution_count": 25,
   "metadata": {},
   "outputs": [
    {
     "data": {
      "text/html": [
       "<div>\n",
       "<style scoped>\n",
       "    .dataframe tbody tr th:only-of-type {\n",
       "        vertical-align: middle;\n",
       "    }\n",
       "\n",
       "    .dataframe tbody tr th {\n",
       "        vertical-align: top;\n",
       "    }\n",
       "\n",
       "    .dataframe thead th {\n",
       "        text-align: right;\n",
       "    }\n",
       "</style>\n",
       "<table border=\"1\" class=\"dataframe\">\n",
       "  <thead>\n",
       "    <tr style=\"text-align: right;\">\n",
       "      <th></th>\n",
       "      <th>id</th>\n",
       "      <th>date</th>\n",
       "      <th>desc</th>\n",
       "      <th>clean_desc</th>\n",
       "      <th>is_clean</th>\n",
       "      <th>is_high_risk</th>\n",
       "      <th>is_vermin</th>\n",
       "      <th>is_surface</th>\n",
       "      <th>is_human</th>\n",
       "      <th>is_permit</th>\n",
       "    </tr>\n",
       "  </thead>\n",
       "  <tbody>\n",
       "    <tr>\n",
       "      <th>0</th>\n",
       "      <td>19</td>\n",
       "      <td>20171211</td>\n",
       "      <td>Inadequate food safety knowledge or lack of ce...</td>\n",
       "      <td>inadequate food safety knowledge or lack of ce...</td>\n",
       "      <td>False</td>\n",
       "      <td>False</td>\n",
       "      <td>False</td>\n",
       "      <td>False</td>\n",
       "      <td>False</td>\n",
       "      <td>True</td>\n",
       "    </tr>\n",
       "    <tr>\n",
       "      <th>1</th>\n",
       "      <td>19</td>\n",
       "      <td>20171211</td>\n",
       "      <td>Unapproved or unmaintained equipment or utensils</td>\n",
       "      <td>unapproved or unmaintained equipment or utensils</td>\n",
       "      <td>False</td>\n",
       "      <td>False</td>\n",
       "      <td>False</td>\n",
       "      <td>False</td>\n",
       "      <td>False</td>\n",
       "      <td>False</td>\n",
       "    </tr>\n",
       "    <tr>\n",
       "      <th>2</th>\n",
       "      <td>19</td>\n",
       "      <td>20160513</td>\n",
       "      <td>Unapproved or unmaintained equipment or utensi...</td>\n",
       "      <td>unapproved or unmaintained equipment or utensils</td>\n",
       "      <td>False</td>\n",
       "      <td>False</td>\n",
       "      <td>False</td>\n",
       "      <td>False</td>\n",
       "      <td>False</td>\n",
       "      <td>False</td>\n",
       "    </tr>\n",
       "    <tr>\n",
       "      <th>3</th>\n",
       "      <td>19</td>\n",
       "      <td>20160513</td>\n",
       "      <td>Unclean or degraded floors walls or ceilings  ...</td>\n",
       "      <td>unclean or degraded floors walls or ceilings</td>\n",
       "      <td>True</td>\n",
       "      <td>False</td>\n",
       "      <td>False</td>\n",
       "      <td>True</td>\n",
       "      <td>False</td>\n",
       "      <td>False</td>\n",
       "    </tr>\n",
       "    <tr>\n",
       "      <th>4</th>\n",
       "      <td>19</td>\n",
       "      <td>20160513</td>\n",
       "      <td>Food safety certificate or food handler card n...</td>\n",
       "      <td>food safety certificate or food handler card n...</td>\n",
       "      <td>False</td>\n",
       "      <td>False</td>\n",
       "      <td>False</td>\n",
       "      <td>False</td>\n",
       "      <td>True</td>\n",
       "      <td>True</td>\n",
       "    </tr>\n",
       "  </tbody>\n",
       "</table>\n",
       "</div>"
      ],
      "text/plain": [
       "   id      date                                               desc  \\\n",
       "0  19  20171211  Inadequate food safety knowledge or lack of ce...   \n",
       "1  19  20171211   Unapproved or unmaintained equipment or utensils   \n",
       "2  19  20160513  Unapproved or unmaintained equipment or utensi...   \n",
       "3  19  20160513  Unclean or degraded floors walls or ceilings  ...   \n",
       "4  19  20160513  Food safety certificate or food handler card n...   \n",
       "\n",
       "                                          clean_desc  is_clean  is_high_risk  \\\n",
       "0  inadequate food safety knowledge or lack of ce...     False         False   \n",
       "1   unapproved or unmaintained equipment or utensils     False         False   \n",
       "2   unapproved or unmaintained equipment or utensils     False         False   \n",
       "3       unclean or degraded floors walls or ceilings      True         False   \n",
       "4  food safety certificate or food handler card n...     False         False   \n",
       "\n",
       "   is_vermin  is_surface  is_human  is_permit  \n",
       "0      False       False     False       True  \n",
       "1      False       False     False      False  \n",
       "2      False       False     False      False  \n",
       "3      False        True     False      False  \n",
       "4      False       False      True       True  "
      ]
     },
     "execution_count": 25,
     "metadata": {},
     "output_type": "execute_result"
    }
   ],
   "source": [
    "#use regular expressions to assign new features for the presence of various keywords\n",
    "with_features = (vio\n",
    " .assign(is_clean     = vio['clean_desc'].str.contains('clean|sanit'))\n",
    " .assign(is_high_risk = vio['clean_desc'].str.contains('high risk'))\n",
    " .assign(is_vermin    = vio['clean_desc'].str.contains('vermin'))\n",
    " .assign(is_surface   = vio['clean_desc'].str.contains('wall|ceiling|floor|surface'))\n",
    " .assign(is_human     = vio['clean_desc'].str.contains('hand|glove|hair|nail'))\n",
    " .assign(is_permit    = vio['clean_desc'].str.contains('permit|certif'))\n",
    ")\n",
    "with_features.head()"
   ]
  },
  {
   "cell_type": "code",
   "execution_count": 26,
   "metadata": {},
   "outputs": [
    {
     "data": {
      "text/html": [
       "<div>\n",
       "<style scoped>\n",
       "    .dataframe tbody tr th:only-of-type {\n",
       "        vertical-align: middle;\n",
       "    }\n",
       "\n",
       "    .dataframe tbody tr th {\n",
       "        vertical-align: top;\n",
       "    }\n",
       "\n",
       "    .dataframe thead th {\n",
       "        text-align: right;\n",
       "    }\n",
       "</style>\n",
       "<table border=\"1\" class=\"dataframe\">\n",
       "  <thead>\n",
       "    <tr style=\"text-align: right;\">\n",
       "      <th></th>\n",
       "      <th>id</th>\n",
       "      <th>date</th>\n",
       "      <th>is_clean</th>\n",
       "      <th>is_high_risk</th>\n",
       "      <th>is_vermin</th>\n",
       "      <th>is_surface</th>\n",
       "      <th>is_human</th>\n",
       "      <th>is_permit</th>\n",
       "    </tr>\n",
       "  </thead>\n",
       "  <tbody>\n",
       "    <tr>\n",
       "      <th>255</th>\n",
       "      <td>489</td>\n",
       "      <td>20150728</td>\n",
       "      <td>5.0</td>\n",
       "      <td>0.0</td>\n",
       "      <td>2.0</td>\n",
       "      <td>3.0</td>\n",
       "      <td>0.0</td>\n",
       "      <td>0.0</td>\n",
       "    </tr>\n",
       "    <tr>\n",
       "      <th>256</th>\n",
       "      <td>489</td>\n",
       "      <td>20150807</td>\n",
       "      <td>1.0</td>\n",
       "      <td>0.0</td>\n",
       "      <td>0.0</td>\n",
       "      <td>1.0</td>\n",
       "      <td>0.0</td>\n",
       "      <td>0.0</td>\n",
       "    </tr>\n",
       "    <tr>\n",
       "      <th>257</th>\n",
       "      <td>489</td>\n",
       "      <td>20160308</td>\n",
       "      <td>2.0</td>\n",
       "      <td>2.0</td>\n",
       "      <td>1.0</td>\n",
       "      <td>0.0</td>\n",
       "      <td>1.0</td>\n",
       "      <td>0.0</td>\n",
       "    </tr>\n",
       "    <tr>\n",
       "      <th>258</th>\n",
       "      <td>489</td>\n",
       "      <td>20160721</td>\n",
       "      <td>2.0</td>\n",
       "      <td>1.0</td>\n",
       "      <td>1.0</td>\n",
       "      <td>1.0</td>\n",
       "      <td>0.0</td>\n",
       "      <td>1.0</td>\n",
       "    </tr>\n",
       "    <tr>\n",
       "      <th>259</th>\n",
       "      <td>489</td>\n",
       "      <td>20161220</td>\n",
       "      <td>3.0</td>\n",
       "      <td>0.0</td>\n",
       "      <td>1.0</td>\n",
       "      <td>2.0</td>\n",
       "      <td>0.0</td>\n",
       "      <td>0.0</td>\n",
       "    </tr>\n",
       "  </tbody>\n",
       "</table>\n",
       "</div>"
      ],
      "text/plain": [
       "      id      date  is_clean  is_high_risk  is_vermin  is_surface  is_human  \\\n",
       "255  489  20150728       5.0           0.0        2.0         3.0       0.0   \n",
       "256  489  20150807       1.0           0.0        0.0         1.0       0.0   \n",
       "257  489  20160308       2.0           2.0        1.0         0.0       1.0   \n",
       "258  489  20160721       2.0           1.0        1.0         1.0       0.0   \n",
       "259  489  20161220       3.0           0.0        1.0         2.0       0.0   \n",
       "\n",
       "     is_permit  \n",
       "255        0.0  \n",
       "256        0.0  \n",
       "257        0.0  \n",
       "258        1.0  \n",
       "259        0.0  "
      ]
     },
     "execution_count": 26,
     "metadata": {},
     "output_type": "execute_result"
    }
   ],
   "source": [
    "count_features = (with_features\n",
    " .groupby(['id', 'date'])\n",
    " .sum()\n",
    " .reset_index()\n",
    ")\n",
    "count_features.iloc[255:260, :]"
   ]
  },
  {
   "cell_type": "code",
   "execution_count": 27,
   "metadata": {},
   "outputs": [
    {
     "data": {
      "text/html": [
       "<div>\n",
       "<style scoped>\n",
       "    .dataframe tbody tr th:only-of-type {\n",
       "        vertical-align: middle;\n",
       "    }\n",
       "\n",
       "    .dataframe tbody tr th {\n",
       "        vertical-align: top;\n",
       "    }\n",
       "\n",
       "    .dataframe thead th {\n",
       "        text-align: right;\n",
       "    }\n",
       "</style>\n",
       "<table border=\"1\" class=\"dataframe\">\n",
       "  <thead>\n",
       "    <tr style=\"text-align: right;\">\n",
       "      <th></th>\n",
       "      <th>id</th>\n",
       "      <th>date</th>\n",
       "      <th>is_clean</th>\n",
       "      <th>is_high_risk</th>\n",
       "      <th>is_vermin</th>\n",
       "      <th>is_surface</th>\n",
       "      <th>is_human</th>\n",
       "      <th>is_permit</th>\n",
       "    </tr>\n",
       "  </thead>\n",
       "  <tbody>\n",
       "    <tr>\n",
       "      <th>255</th>\n",
       "      <td>489</td>\n",
       "      <td>20150728</td>\n",
       "      <td>5.0</td>\n",
       "      <td>0.0</td>\n",
       "      <td>2.0</td>\n",
       "      <td>3.0</td>\n",
       "      <td>0.0</td>\n",
       "      <td>0.0</td>\n",
       "    </tr>\n",
       "    <tr>\n",
       "      <th>291</th>\n",
       "      <td>527</td>\n",
       "      <td>20170821</td>\n",
       "      <td>1.0</td>\n",
       "      <td>1.0</td>\n",
       "      <td>2.0</td>\n",
       "      <td>1.0</td>\n",
       "      <td>1.0</td>\n",
       "      <td>1.0</td>\n",
       "    </tr>\n",
       "    <tr>\n",
       "      <th>1508</th>\n",
       "      <td>2622</td>\n",
       "      <td>20160526</td>\n",
       "      <td>4.0</td>\n",
       "      <td>2.0</td>\n",
       "      <td>2.0</td>\n",
       "      <td>3.0</td>\n",
       "      <td>0.0</td>\n",
       "      <td>0.0</td>\n",
       "    </tr>\n",
       "    <tr>\n",
       "      <th>1573</th>\n",
       "      <td>2721</td>\n",
       "      <td>20150422</td>\n",
       "      <td>2.0</td>\n",
       "      <td>1.0</td>\n",
       "      <td>2.0</td>\n",
       "      <td>1.0</td>\n",
       "      <td>0.0</td>\n",
       "      <td>0.0</td>\n",
       "    </tr>\n",
       "    <tr>\n",
       "      <th>1746</th>\n",
       "      <td>2945</td>\n",
       "      <td>20150921</td>\n",
       "      <td>2.0</td>\n",
       "      <td>1.0</td>\n",
       "      <td>2.0</td>\n",
       "      <td>2.0</td>\n",
       "      <td>2.0</td>\n",
       "      <td>1.0</td>\n",
       "    </tr>\n",
       "    <tr>\n",
       "      <th>2277</th>\n",
       "      <td>3776</td>\n",
       "      <td>20151223</td>\n",
       "      <td>2.0</td>\n",
       "      <td>0.0</td>\n",
       "      <td>2.0</td>\n",
       "      <td>1.0</td>\n",
       "      <td>0.0</td>\n",
       "      <td>0.0</td>\n",
       "    </tr>\n",
       "    <tr>\n",
       "      <th>3784</th>\n",
       "      <td>6729</td>\n",
       "      <td>20160706</td>\n",
       "      <td>6.0</td>\n",
       "      <td>0.0</td>\n",
       "      <td>2.0</td>\n",
       "      <td>4.0</td>\n",
       "      <td>2.0</td>\n",
       "      <td>0.0</td>\n",
       "    </tr>\n",
       "    <tr>\n",
       "      <th>3949</th>\n",
       "      <td>7537</td>\n",
       "      <td>20150304</td>\n",
       "      <td>1.0</td>\n",
       "      <td>0.0</td>\n",
       "      <td>2.0</td>\n",
       "      <td>1.0</td>\n",
       "      <td>1.0</td>\n",
       "      <td>0.0</td>\n",
       "    </tr>\n",
       "    <tr>\n",
       "      <th>4017</th>\n",
       "      <td>7661</td>\n",
       "      <td>20160616</td>\n",
       "      <td>2.0</td>\n",
       "      <td>0.0</td>\n",
       "      <td>2.0</td>\n",
       "      <td>2.0</td>\n",
       "      <td>1.0</td>\n",
       "      <td>0.0</td>\n",
       "    </tr>\n",
       "    <tr>\n",
       "      <th>4165</th>\n",
       "      <td>9679</td>\n",
       "      <td>20150422</td>\n",
       "      <td>2.0</td>\n",
       "      <td>0.0</td>\n",
       "      <td>2.0</td>\n",
       "      <td>2.0</td>\n",
       "      <td>0.0</td>\n",
       "      <td>0.0</td>\n",
       "    </tr>\n",
       "    <tr>\n",
       "      <th>7742</th>\n",
       "      <td>69353</td>\n",
       "      <td>20150420</td>\n",
       "      <td>3.0</td>\n",
       "      <td>1.0</td>\n",
       "      <td>2.0</td>\n",
       "      <td>2.0</td>\n",
       "      <td>1.0</td>\n",
       "      <td>0.0</td>\n",
       "    </tr>\n",
       "    <tr>\n",
       "      <th>8319</th>\n",
       "      <td>71999</td>\n",
       "      <td>20150401</td>\n",
       "      <td>1.0</td>\n",
       "      <td>1.0</td>\n",
       "      <td>2.0</td>\n",
       "      <td>0.0</td>\n",
       "      <td>0.0</td>\n",
       "      <td>0.0</td>\n",
       "    </tr>\n",
       "    <tr>\n",
       "      <th>9074</th>\n",
       "      <td>77427</td>\n",
       "      <td>20170706</td>\n",
       "      <td>0.0</td>\n",
       "      <td>0.0</td>\n",
       "      <td>2.0</td>\n",
       "      <td>0.0</td>\n",
       "      <td>0.0</td>\n",
       "      <td>0.0</td>\n",
       "    </tr>\n",
       "    <tr>\n",
       "      <th>9759</th>\n",
       "      <td>80112</td>\n",
       "      <td>20160225</td>\n",
       "      <td>2.0</td>\n",
       "      <td>0.0</td>\n",
       "      <td>2.0</td>\n",
       "      <td>0.0</td>\n",
       "      <td>0.0</td>\n",
       "      <td>2.0</td>\n",
       "    </tr>\n",
       "    <tr>\n",
       "      <th>11552</th>\n",
       "      <td>87492</td>\n",
       "      <td>20161208</td>\n",
       "      <td>6.0</td>\n",
       "      <td>2.0</td>\n",
       "      <td>2.0</td>\n",
       "      <td>4.0</td>\n",
       "      <td>2.0</td>\n",
       "      <td>0.0</td>\n",
       "    </tr>\n",
       "  </tbody>\n",
       "</table>\n",
       "</div>"
      ],
      "text/plain": [
       "          id      date  is_clean  is_high_risk  is_vermin  is_surface  \\\n",
       "255      489  20150728       5.0           0.0        2.0         3.0   \n",
       "291      527  20170821       1.0           1.0        2.0         1.0   \n",
       "1508    2622  20160526       4.0           2.0        2.0         3.0   \n",
       "1573    2721  20150422       2.0           1.0        2.0         1.0   \n",
       "1746    2945  20150921       2.0           1.0        2.0         2.0   \n",
       "2277    3776  20151223       2.0           0.0        2.0         1.0   \n",
       "3784    6729  20160706       6.0           0.0        2.0         4.0   \n",
       "3949    7537  20150304       1.0           0.0        2.0         1.0   \n",
       "4017    7661  20160616       2.0           0.0        2.0         2.0   \n",
       "4165    9679  20150422       2.0           0.0        2.0         2.0   \n",
       "7742   69353  20150420       3.0           1.0        2.0         2.0   \n",
       "8319   71999  20150401       1.0           1.0        2.0         0.0   \n",
       "9074   77427  20170706       0.0           0.0        2.0         0.0   \n",
       "9759   80112  20160225       2.0           0.0        2.0         0.0   \n",
       "11552  87492  20161208       6.0           2.0        2.0         4.0   \n",
       "\n",
       "       is_human  is_permit  \n",
       "255         0.0        0.0  \n",
       "291         1.0        1.0  \n",
       "1508        0.0        0.0  \n",
       "1573        0.0        0.0  \n",
       "1746        2.0        1.0  \n",
       "2277        0.0        0.0  \n",
       "3784        2.0        0.0  \n",
       "3949        1.0        0.0  \n",
       "4017        1.0        0.0  \n",
       "4165        0.0        0.0  \n",
       "7742        1.0        0.0  \n",
       "8319        0.0        0.0  \n",
       "9074        0.0        0.0  \n",
       "9759        0.0        2.0  \n",
       "11552       2.0        0.0  "
      ]
     },
     "execution_count": 27,
     "metadata": {},
     "output_type": "execute_result"
    }
   ],
   "source": [
    "count_features.query('is_vermin > 1')"
   ]
  },
  {
   "cell_type": "code",
   "execution_count": 28,
   "metadata": {},
   "outputs": [
    {
     "data": {
      "text/html": [
       "<div>\n",
       "<style scoped>\n",
       "    .dataframe tbody tr th:only-of-type {\n",
       "        vertical-align: middle;\n",
       "    }\n",
       "\n",
       "    .dataframe tbody tr th {\n",
       "        vertical-align: top;\n",
       "    }\n",
       "\n",
       "    .dataframe thead th {\n",
       "        text-align: right;\n",
       "    }\n",
       "</style>\n",
       "<table border=\"1\" class=\"dataframe\">\n",
       "  <thead>\n",
       "    <tr style=\"text-align: right;\">\n",
       "      <th></th>\n",
       "      <th>id</th>\n",
       "      <th>date</th>\n",
       "      <th>feature</th>\n",
       "      <th>num_vios</th>\n",
       "    </tr>\n",
       "  </thead>\n",
       "  <tbody>\n",
       "    <tr>\n",
       "      <th>0</th>\n",
       "      <td>19</td>\n",
       "      <td>20160513</td>\n",
       "      <td>is_clean</td>\n",
       "      <td>1.0</td>\n",
       "    </tr>\n",
       "    <tr>\n",
       "      <th>12262</th>\n",
       "      <td>19</td>\n",
       "      <td>20160513</td>\n",
       "      <td>is_high_risk</td>\n",
       "      <td>0.0</td>\n",
       "    </tr>\n",
       "    <tr>\n",
       "      <th>24524</th>\n",
       "      <td>19</td>\n",
       "      <td>20160513</td>\n",
       "      <td>is_vermin</td>\n",
       "      <td>0.0</td>\n",
       "    </tr>\n",
       "    <tr>\n",
       "      <th>36786</th>\n",
       "      <td>19</td>\n",
       "      <td>20160513</td>\n",
       "      <td>is_surface</td>\n",
       "      <td>1.0</td>\n",
       "    </tr>\n",
       "    <tr>\n",
       "      <th>49048</th>\n",
       "      <td>19</td>\n",
       "      <td>20160513</td>\n",
       "      <td>is_human</td>\n",
       "      <td>1.0</td>\n",
       "    </tr>\n",
       "    <tr>\n",
       "      <th>61310</th>\n",
       "      <td>19</td>\n",
       "      <td>20160513</td>\n",
       "      <td>is_permit</td>\n",
       "      <td>1.0</td>\n",
       "    </tr>\n",
       "    <tr>\n",
       "      <th>1</th>\n",
       "      <td>19</td>\n",
       "      <td>20171211</td>\n",
       "      <td>is_clean</td>\n",
       "      <td>0.0</td>\n",
       "    </tr>\n",
       "    <tr>\n",
       "      <th>12263</th>\n",
       "      <td>19</td>\n",
       "      <td>20171211</td>\n",
       "      <td>is_high_risk</td>\n",
       "      <td>0.0</td>\n",
       "    </tr>\n",
       "    <tr>\n",
       "      <th>24525</th>\n",
       "      <td>19</td>\n",
       "      <td>20171211</td>\n",
       "      <td>is_vermin</td>\n",
       "      <td>0.0</td>\n",
       "    </tr>\n",
       "    <tr>\n",
       "      <th>36787</th>\n",
       "      <td>19</td>\n",
       "      <td>20171211</td>\n",
       "      <td>is_surface</td>\n",
       "      <td>0.0</td>\n",
       "    </tr>\n",
       "    <tr>\n",
       "      <th>49049</th>\n",
       "      <td>19</td>\n",
       "      <td>20171211</td>\n",
       "      <td>is_human</td>\n",
       "      <td>0.0</td>\n",
       "    </tr>\n",
       "    <tr>\n",
       "      <th>61311</th>\n",
       "      <td>19</td>\n",
       "      <td>20171211</td>\n",
       "      <td>is_permit</td>\n",
       "      <td>1.0</td>\n",
       "    </tr>\n",
       "    <tr>\n",
       "      <th>2</th>\n",
       "      <td>24</td>\n",
       "      <td>20160311</td>\n",
       "      <td>is_clean</td>\n",
       "      <td>2.0</td>\n",
       "    </tr>\n",
       "  </tbody>\n",
       "</table>\n",
       "</div>"
      ],
      "text/plain": [
       "       id      date       feature  num_vios\n",
       "0      19  20160513      is_clean       1.0\n",
       "12262  19  20160513  is_high_risk       0.0\n",
       "24524  19  20160513     is_vermin       0.0\n",
       "36786  19  20160513    is_surface       1.0\n",
       "49048  19  20160513      is_human       1.0\n",
       "61310  19  20160513     is_permit       1.0\n",
       "1      19  20171211      is_clean       0.0\n",
       "12263  19  20171211  is_high_risk       0.0\n",
       "24525  19  20171211     is_vermin       0.0\n",
       "36787  19  20171211    is_surface       0.0\n",
       "49049  19  20171211      is_human       0.0\n",
       "61311  19  20171211     is_permit       1.0\n",
       "2      24  20160311      is_clean       2.0"
      ]
     },
     "execution_count": 28,
     "metadata": {},
     "output_type": "execute_result"
    }
   ],
   "source": [
    "#use a new pandas feature called \"melt\" that we won't describe in any detail\n",
    "#the granularity of the resulting frame is a violation type in a given inspection\n",
    "broken_down_by_violation_type = pd.melt(count_features, id_vars=['id', 'date'],\n",
    "            var_name='feature', value_name='num_vios')\n",
    "broken_down_by_violation_type.sort_values([\"id\", \"date\"]).head(13)"
   ]
  },
  {
   "cell_type": "code",
   "execution_count": 29,
   "metadata": {},
   "outputs": [
    {
     "data": {
      "text/html": [
       "<div>\n",
       "<style scoped>\n",
       "    .dataframe tbody tr th:only-of-type {\n",
       "        vertical-align: middle;\n",
       "    }\n",
       "\n",
       "    .dataframe tbody tr th {\n",
       "        vertical-align: top;\n",
       "    }\n",
       "\n",
       "    .dataframe thead th {\n",
       "        text-align: right;\n",
       "    }\n",
       "</style>\n",
       "<table border=\"1\" class=\"dataframe\">\n",
       "  <thead>\n",
       "    <tr style=\"text-align: right;\">\n",
       "      <th></th>\n",
       "      <th>id</th>\n",
       "      <th>score</th>\n",
       "      <th>date</th>\n",
       "    </tr>\n",
       "  </thead>\n",
       "  <tbody>\n",
       "    <tr>\n",
       "      <th>0</th>\n",
       "      <td>19</td>\n",
       "      <td>94</td>\n",
       "      <td>20160513</td>\n",
       "    </tr>\n",
       "    <tr>\n",
       "      <th>1</th>\n",
       "      <td>19</td>\n",
       "      <td>94</td>\n",
       "      <td>20171211</td>\n",
       "    </tr>\n",
       "    <tr>\n",
       "      <th>2</th>\n",
       "      <td>24</td>\n",
       "      <td>98</td>\n",
       "      <td>20171101</td>\n",
       "    </tr>\n",
       "    <tr>\n",
       "      <th>3</th>\n",
       "      <td>24</td>\n",
       "      <td>98</td>\n",
       "      <td>20161005</td>\n",
       "    </tr>\n",
       "    <tr>\n",
       "      <th>4</th>\n",
       "      <td>24</td>\n",
       "      <td>96</td>\n",
       "      <td>20160311</td>\n",
       "    </tr>\n",
       "  </tbody>\n",
       "</table>\n",
       "</div>"
      ],
      "text/plain": [
       "   id  score      date\n",
       "0  19     94  20160513\n",
       "1  19     94  20171211\n",
       "2  24     98  20171101\n",
       "3  24     98  20161005\n",
       "4  24     96  20160311"
      ]
     },
     "execution_count": 29,
     "metadata": {},
     "output_type": "execute_result"
    }
   ],
   "source": [
    "#read in the scores\n",
    "ins = pd.read_csv('inspections.csv',\n",
    "                  header=0,\n",
    "                  usecols=[0, 1, 2],\n",
    "                  names=['id', 'score', 'date'])\n",
    "ins.head()"
   ]
  },
  {
   "cell_type": "code",
   "execution_count": 30,
   "metadata": {},
   "outputs": [
    {
     "data": {
      "text/html": [
       "<div>\n",
       "<style scoped>\n",
       "    .dataframe tbody tr th:only-of-type {\n",
       "        vertical-align: middle;\n",
       "    }\n",
       "\n",
       "    .dataframe tbody tr th {\n",
       "        vertical-align: top;\n",
       "    }\n",
       "\n",
       "    .dataframe thead th {\n",
       "        text-align: right;\n",
       "    }\n",
       "</style>\n",
       "<table border=\"1\" class=\"dataframe\">\n",
       "  <thead>\n",
       "    <tr style=\"text-align: right;\">\n",
       "      <th></th>\n",
       "      <th>id</th>\n",
       "      <th>date</th>\n",
       "      <th>feature</th>\n",
       "      <th>num_vios</th>\n",
       "      <th>score</th>\n",
       "    </tr>\n",
       "  </thead>\n",
       "  <tbody>\n",
       "    <tr>\n",
       "      <th>0</th>\n",
       "      <td>19</td>\n",
       "      <td>20160513</td>\n",
       "      <td>is_clean</td>\n",
       "      <td>1.0</td>\n",
       "      <td>94</td>\n",
       "    </tr>\n",
       "    <tr>\n",
       "      <th>1</th>\n",
       "      <td>19</td>\n",
       "      <td>20160513</td>\n",
       "      <td>is_high_risk</td>\n",
       "      <td>0.0</td>\n",
       "      <td>94</td>\n",
       "    </tr>\n",
       "    <tr>\n",
       "      <th>2</th>\n",
       "      <td>19</td>\n",
       "      <td>20160513</td>\n",
       "      <td>is_vermin</td>\n",
       "      <td>0.0</td>\n",
       "      <td>94</td>\n",
       "    </tr>\n",
       "    <tr>\n",
       "      <th>3</th>\n",
       "      <td>19</td>\n",
       "      <td>20160513</td>\n",
       "      <td>is_surface</td>\n",
       "      <td>1.0</td>\n",
       "      <td>94</td>\n",
       "    </tr>\n",
       "    <tr>\n",
       "      <th>4</th>\n",
       "      <td>19</td>\n",
       "      <td>20160513</td>\n",
       "      <td>is_human</td>\n",
       "      <td>1.0</td>\n",
       "      <td>94</td>\n",
       "    </tr>\n",
       "    <tr>\n",
       "      <th>5</th>\n",
       "      <td>19</td>\n",
       "      <td>20160513</td>\n",
       "      <td>is_permit</td>\n",
       "      <td>1.0</td>\n",
       "      <td>94</td>\n",
       "    </tr>\n",
       "    <tr>\n",
       "      <th>6</th>\n",
       "      <td>19</td>\n",
       "      <td>20171211</td>\n",
       "      <td>is_clean</td>\n",
       "      <td>0.0</td>\n",
       "      <td>94</td>\n",
       "    </tr>\n",
       "    <tr>\n",
       "      <th>7</th>\n",
       "      <td>19</td>\n",
       "      <td>20171211</td>\n",
       "      <td>is_high_risk</td>\n",
       "      <td>0.0</td>\n",
       "      <td>94</td>\n",
       "    </tr>\n",
       "    <tr>\n",
       "      <th>8</th>\n",
       "      <td>19</td>\n",
       "      <td>20171211</td>\n",
       "      <td>is_vermin</td>\n",
       "      <td>0.0</td>\n",
       "      <td>94</td>\n",
       "    </tr>\n",
       "    <tr>\n",
       "      <th>9</th>\n",
       "      <td>19</td>\n",
       "      <td>20171211</td>\n",
       "      <td>is_surface</td>\n",
       "      <td>0.0</td>\n",
       "      <td>94</td>\n",
       "    </tr>\n",
       "    <tr>\n",
       "      <th>10</th>\n",
       "      <td>19</td>\n",
       "      <td>20171211</td>\n",
       "      <td>is_human</td>\n",
       "      <td>0.0</td>\n",
       "      <td>94</td>\n",
       "    </tr>\n",
       "    <tr>\n",
       "      <th>11</th>\n",
       "      <td>19</td>\n",
       "      <td>20171211</td>\n",
       "      <td>is_permit</td>\n",
       "      <td>1.0</td>\n",
       "      <td>94</td>\n",
       "    </tr>\n",
       "  </tbody>\n",
       "</table>\n",
       "</div>"
      ],
      "text/plain": [
       "    id      date       feature  num_vios  score\n",
       "0   19  20160513      is_clean       1.0     94\n",
       "1   19  20160513  is_high_risk       0.0     94\n",
       "2   19  20160513     is_vermin       0.0     94\n",
       "3   19  20160513    is_surface       1.0     94\n",
       "4   19  20160513      is_human       1.0     94\n",
       "5   19  20160513     is_permit       1.0     94\n",
       "6   19  20171211      is_clean       0.0     94\n",
       "7   19  20171211  is_high_risk       0.0     94\n",
       "8   19  20171211     is_vermin       0.0     94\n",
       "9   19  20171211    is_surface       0.0     94\n",
       "10  19  20171211      is_human       0.0     94\n",
       "11  19  20171211     is_permit       1.0     94"
      ]
     },
     "execution_count": 30,
     "metadata": {},
     "output_type": "execute_result"
    }
   ],
   "source": [
    "#join scores with the table broken down by violation type\n",
    "violation_type_and_scores = (\n",
    "    broken_down_by_violation_type\n",
    "    .merge(ins, left_on=['id', 'date'], right_on=['id', 'date'])\n",
    ")\n",
    "violation_type_and_scores.head(12)"
   ]
  },
  {
   "cell_type": "code",
   "execution_count": 31,
   "metadata": {},
   "outputs": [
    {
     "data": {
      "text/plain": [
       "<seaborn.axisgrid.FacetGrid at 0x7f6cd9f50510>"
      ]
     },
     "execution_count": 31,
     "metadata": {},
     "output_type": "execute_result"
    },
    {
     "data": {
      "image/png": "[encoded data removed]",
      "text/plain": [
       "<Figure size 720x1080 with 6 Axes>"
      ]
     },
     "metadata": {
      "needs_background": "light"
     },
     "output_type": "display_data"
    }
   ],
   "source": [
    "sns.catplot(x='num_vios', y='score',\n",
    "               col='feature', col_wrap=2,\n",
    "               kind='box',\n",
    "               data=violation_type_and_scores)"
   ]
  },
  {
   "cell_type": "markdown",
   "metadata": {},
   "source": [
    "Above we see, for example, that if a restaurant inspection involved 2 violation with the keyword \"vermin\", the average score for that inspection would be a little bit below 80."
   ]
  },
  {
   "cell_type": "markdown",
   "metadata": {},
   "source": [
    "## Text Processing Example 2: Police Data\n",
    "\n",
    "In this example, we will apply string processing to the process of data cleaning and exploratory data analysis."
   ]
  },
  {
   "cell_type": "markdown",
   "metadata": {},
   "source": [
    "### Getting the Data\n",
    "\n",
    "The city of Berkeley maintains an [Open Data Portal](https://data.cityofberkeley.info/) for citizens to access data about the city.  We will be examining [Call Data](https://data.cityofberkeley.info/Public-Safety/Berkeley-PD-Calls-for-Service/k2nh-s5h5).\n",
    "\n",
    "<img src=\"calls_desc.png\" width=800px />\n",
    "\n"
   ]
  },
  {
   "cell_type": "code",
   "execution_count": 32,
   "metadata": {
    "ExecuteTime": {
     "end_time": "2018-02-02T15:15:19.115040Z",
     "start_time": "2018-02-02T15:15:19.070620Z"
    }
   },
   "outputs": [
    {
     "name": "stdout",
     "output_type": "stream",
     "text": [
      "Downloading... Done!\n"
     ]
    },
    {
     "data": {
      "text/html": [
       "<div>\n",
       "<style scoped>\n",
       "    .dataframe tbody tr th:only-of-type {\n",
       "        vertical-align: middle;\n",
       "    }\n",
       "\n",
       "    .dataframe tbody tr th {\n",
       "        vertical-align: top;\n",
       "    }\n",
       "\n",
       "    .dataframe thead th {\n",
       "        text-align: right;\n",
       "    }\n",
       "</style>\n",
       "<table border=\"1\" class=\"dataframe\">\n",
       "  <thead>\n",
       "    <tr style=\"text-align: right;\">\n",
       "      <th></th>\n",
       "      <th>CASENO</th>\n",
       "      <th>OFFENSE</th>\n",
       "      <th>EVENTDT</th>\n",
       "      <th>EVENTTM</th>\n",
       "      <th>CVLEGEND</th>\n",
       "      <th>CVDOW</th>\n",
       "      <th>InDbDate</th>\n",
       "      <th>Block_Location</th>\n",
       "      <th>BLKADDR</th>\n",
       "      <th>City</th>\n",
       "      <th>State</th>\n",
       "    </tr>\n",
       "  </thead>\n",
       "  <tbody>\n",
       "    <tr>\n",
       "      <th>0</th>\n",
       "      <td>19042350</td>\n",
       "      <td>BURGLARY AUTO</td>\n",
       "      <td>08/01/2019 12:00:00 AM</td>\n",
       "      <td>14:00</td>\n",
       "      <td>BURGLARY - VEHICLE</td>\n",
       "      <td>4</td>\n",
       "      <td>07/01/2020 07:00:09 AM</td>\n",
       "      <td>CURTIS STREET &amp;STANNAGE AVE\\nBerkeley, CA</td>\n",
       "      <td>CURTIS STREET &amp;STANNAGE AVE</td>\n",
       "      <td>Berkeley</td>\n",
       "      <td>CA</td>\n",
       "    </tr>\n",
       "    <tr>\n",
       "      <th>1</th>\n",
       "      <td>19091711</td>\n",
       "      <td>VANDALISM</td>\n",
       "      <td>08/19/2019 12:00:00 AM</td>\n",
       "      <td>22:00</td>\n",
       "      <td>VANDALISM</td>\n",
       "      <td>1</td>\n",
       "      <td>07/01/2020 07:00:10 AM</td>\n",
       "      <td>CALIFORNIA STREET &amp; FAIRVIEW ST\\nBerkeley, CA</td>\n",
       "      <td>CALIFORNIA STREET &amp; FAIRVIEW ST</td>\n",
       "      <td>Berkeley</td>\n",
       "      <td>CA</td>\n",
       "    </tr>\n",
       "    <tr>\n",
       "      <th>2</th>\n",
       "      <td>19042731</td>\n",
       "      <td>VEHICLE STOLEN</td>\n",
       "      <td>08/03/2019 12:00:00 AM</td>\n",
       "      <td>15:30</td>\n",
       "      <td>MOTOR VEHICLE THEFT</td>\n",
       "      <td>6</td>\n",
       "      <td>07/01/2020 07:00:09 AM</td>\n",
       "      <td>1300 WALNUT ST\\nBerkeley, CA\\n(37.883798, -122...</td>\n",
       "      <td>1300 WALNUT ST</td>\n",
       "      <td>Berkeley</td>\n",
       "      <td>CA</td>\n",
       "    </tr>\n",
       "    <tr>\n",
       "      <th>3</th>\n",
       "      <td>19092546</td>\n",
       "      <td>BURGLARY AUTO</td>\n",
       "      <td>11/09/2019 12:00:00 AM</td>\n",
       "      <td>09:00</td>\n",
       "      <td>BURGLARY - VEHICLE</td>\n",
       "      <td>6</td>\n",
       "      <td>07/01/2020 07:00:13 AM</td>\n",
       "      <td>CLAREMONT AVE&amp;STONEWALL ROAD AVE\\nBerkeley, CA</td>\n",
       "      <td>CLAREMONT AVE&amp;STONEWALL ROAD AVE</td>\n",
       "      <td>Berkeley</td>\n",
       "      <td>CA</td>\n",
       "    </tr>\n",
       "    <tr>\n",
       "      <th>4</th>\n",
       "      <td>19043231</td>\n",
       "      <td>SEXUAL ASSAULT FEL.</td>\n",
       "      <td>08/04/2019 12:00:00 AM</td>\n",
       "      <td>00:00</td>\n",
       "      <td>SEX CRIME</td>\n",
       "      <td>0</td>\n",
       "      <td>07/01/2020 07:00:10 AM</td>\n",
       "      <td>&lt;UNKNOWN&gt;\\nBerkeley, CA</td>\n",
       "      <td>&lt;UNKNOWN&gt;</td>\n",
       "      <td>Berkeley</td>\n",
       "      <td>CA</td>\n",
       "    </tr>\n",
       "  </tbody>\n",
       "</table>\n",
       "</div>"
      ],
      "text/plain": [
       "     CASENO              OFFENSE                 EVENTDT EVENTTM  \\\n",
       "0  19042350        BURGLARY AUTO  08/01/2019 12:00:00 AM   14:00   \n",
       "1  19091711            VANDALISM  08/19/2019 12:00:00 AM   22:00   \n",
       "2  19042731       VEHICLE STOLEN  08/03/2019 12:00:00 AM   15:30   \n",
       "3  19092546        BURGLARY AUTO  11/09/2019 12:00:00 AM   09:00   \n",
       "4  19043231  SEXUAL ASSAULT FEL.  08/04/2019 12:00:00 AM   00:00   \n",
       "\n",
       "              CVLEGEND  CVDOW                InDbDate  \\\n",
       "0   BURGLARY - VEHICLE      4  07/01/2020 07:00:09 AM   \n",
       "1            VANDALISM      1  07/01/2020 07:00:10 AM   \n",
       "2  MOTOR VEHICLE THEFT      6  07/01/2020 07:00:09 AM   \n",
       "3   BURGLARY - VEHICLE      6  07/01/2020 07:00:13 AM   \n",
       "4            SEX CRIME      0  07/01/2020 07:00:10 AM   \n",
       "\n",
       "                                      Block_Location  \\\n",
       "0          CURTIS STREET &STANNAGE AVE\\nBerkeley, CA   \n",
       "1      CALIFORNIA STREET & FAIRVIEW ST\\nBerkeley, CA   \n",
       "2  1300 WALNUT ST\\nBerkeley, CA\\n(37.883798, -122...   \n",
       "3     CLAREMONT AVE&STONEWALL ROAD AVE\\nBerkeley, CA   \n",
       "4                            <UNKNOWN>\\nBerkeley, CA   \n",
       "\n",
       "                            BLKADDR      City State  \n",
       "0       CURTIS STREET &STANNAGE AVE  Berkeley    CA  \n",
       "1   CALIFORNIA STREET & FAIRVIEW ST  Berkeley    CA  \n",
       "2                    1300 WALNUT ST  Berkeley    CA  \n",
       "3  CLAREMONT AVE&STONEWALL ROAD AVE  Berkeley    CA  \n",
       "4                         <UNKNOWN>  Berkeley    CA  "
      ]
     },
     "execution_count": 32,
     "metadata": {},
     "output_type": "execute_result"
    }
   ],
   "source": [
    "import ds100_utils\n",
    "\n",
    "calls_url = 'https://data.cityofberkeley.info/api/views/k2nh-s5h5/rows.csv?accessType=DOWNLOAD'\n",
    "calls_file = ds100_utils.fetch_and_cache(calls_url, 'calls.csv')\n",
    "calls = pd.read_csv(calls_file, warn_bad_lines=True)\n",
    "calls.head()"
   ]
  },
  {
   "cell_type": "markdown",
   "metadata": {},
   "source": [
    "How many records did we get?"
   ]
  },
  {
   "cell_type": "code",
   "execution_count": 33,
   "metadata": {
    "ExecuteTime": {
     "end_time": "2018-02-02T15:15:19.122345Z",
     "start_time": "2018-02-02T15:15:19.118071Z"
    }
   },
   "outputs": [
    {
     "data": {
      "text/plain": [
       "5227"
      ]
     },
     "execution_count": 33,
     "metadata": {},
     "output_type": "execute_result"
    }
   ],
   "source": [
    "len(calls)"
   ]
  },
  {
   "cell_type": "markdown",
   "metadata": {},
   "source": [
    "What does an example `Block_Location` value look like?"
   ]
  },
  {
   "cell_type": "code",
   "execution_count": 34,
   "metadata": {},
   "outputs": [
    {
     "name": "stdout",
     "output_type": "stream",
     "text": [
      "CURTIS STREET &STANNAGE AVE\n",
      "Berkeley, CA\n"
     ]
    }
   ],
   "source": [
    "print(calls['Block_Location'].iloc[0])"
   ]
  },
  {
   "cell_type": "markdown",
   "metadata": {
    "solution2": "hidden",
    "solution2_first": true
   },
   "source": [
    "### Preliminary observations on the data?"
   ]
  },
  {
   "cell_type": "markdown",
   "metadata": {
    "solution2": "hidden"
   },
   "source": [
    "1. `EVENTDT` -- Contains the incorrect time\n",
    "1. `EVENTTM` -- Contains the time in 24 hour format (What timezone?)\n",
    "1. `CVDOW` -- Encodes the day of the week (see data documentation).\n",
    "1. `InDbDate` -- Appears to be correctly formatted and appears pretty consistent in time.\n",
    "1. **`Block_Location` -- a multi-line string that contains coordinates.**\n",
    "1. `BLKADDR` -- Appears to be the address in `Block Location`.\n",
    "1. `City` and `State` seem redundant given this is supposed to be the city of Berkeley dataset."
   ]
  },
  {
   "cell_type": "markdown",
   "metadata": {},
   "source": [
    "### Extracting locations\n",
    "\n",
    "The block location contains geographic coordinates. Let's extract them."
   ]
  },
  {
   "cell_type": "code",
   "execution_count": 35,
   "metadata": {
    "ExecuteTime": {
     "end_time": "2018-02-02T15:15:19.230720Z",
     "start_time": "2018-02-02T15:15:19.225971Z"
    }
   },
   "outputs": [
    {
     "data": {
      "text/plain": [
       "'CURTIS STREET &STANNAGE AVE\\nBerkeley, CA'"
      ]
     },
     "execution_count": 35,
     "metadata": {},
     "output_type": "execute_result"
    }
   ],
   "source": [
    "calls['Block_Location'][0]"
   ]
  },
  {
   "cell_type": "code",
   "execution_count": 36,
   "metadata": {
    "ExecuteTime": {
     "end_time": "2018-02-02T15:15:19.268222Z",
     "start_time": "2018-02-02T15:15:19.233193Z"
    }
   },
   "outputs": [
    {
     "data": {
      "text/html": [
       "<div>\n",
       "<style scoped>\n",
       "    .dataframe tbody tr th:only-of-type {\n",
       "        vertical-align: middle;\n",
       "    }\n",
       "\n",
       "    .dataframe tbody tr th {\n",
       "        vertical-align: top;\n",
       "    }\n",
       "\n",
       "    .dataframe thead th {\n",
       "        text-align: right;\n",
       "    }\n",
       "</style>\n",
       "<table border=\"1\" class=\"dataframe\">\n",
       "  <thead>\n",
       "    <tr style=\"text-align: right;\">\n",
       "      <th></th>\n",
       "      <th>Lat</th>\n",
       "      <th>Lon</th>\n",
       "    </tr>\n",
       "  </thead>\n",
       "  <tbody>\n",
       "    <tr>\n",
       "      <th>0</th>\n",
       "      <td>NaN</td>\n",
       "      <td>NaN</td>\n",
       "    </tr>\n",
       "    <tr>\n",
       "      <th>1</th>\n",
       "      <td>NaN</td>\n",
       "      <td>NaN</td>\n",
       "    </tr>\n",
       "    <tr>\n",
       "      <th>2</th>\n",
       "      <td>37.883798</td>\n",
       "      <td>-122.268567</td>\n",
       "    </tr>\n",
       "    <tr>\n",
       "      <th>3</th>\n",
       "      <td>NaN</td>\n",
       "      <td>NaN</td>\n",
       "    </tr>\n",
       "    <tr>\n",
       "      <th>4</th>\n",
       "      <td>NaN</td>\n",
       "      <td>NaN</td>\n",
       "    </tr>\n",
       "    <tr>\n",
       "      <th>5</th>\n",
       "      <td>NaN</td>\n",
       "      <td>NaN</td>\n",
       "    </tr>\n",
       "    <tr>\n",
       "      <th>6</th>\n",
       "      <td>NaN</td>\n",
       "      <td>NaN</td>\n",
       "    </tr>\n",
       "    <tr>\n",
       "      <th>7</th>\n",
       "      <td>NaN</td>\n",
       "      <td>NaN</td>\n",
       "    </tr>\n",
       "    <tr>\n",
       "      <th>8</th>\n",
       "      <td>NaN</td>\n",
       "      <td>NaN</td>\n",
       "    </tr>\n",
       "    <tr>\n",
       "      <th>9</th>\n",
       "      <td>37.86695</td>\n",
       "      <td>-122.286984</td>\n",
       "    </tr>\n",
       "  </tbody>\n",
       "</table>\n",
       "</div>"
      ],
      "text/plain": [
       "         Lat          Lon\n",
       "0        NaN          NaN\n",
       "1        NaN          NaN\n",
       "2  37.883798  -122.268567\n",
       "3        NaN          NaN\n",
       "4        NaN          NaN\n",
       "5        NaN          NaN\n",
       "6        NaN          NaN\n",
       "7        NaN          NaN\n",
       "8        NaN          NaN\n",
       "9   37.86695  -122.286984"
      ]
     },
     "execution_count": 36,
     "metadata": {},
     "output_type": "execute_result"
    }
   ],
   "source": [
    "calls_lat_lon = (\n",
    "    calls['Block_Location']\n",
    "    .str.extract(\"\\((\\d+\\.\\d+)\\, (-\\d+\\.\\d+)\\)\")\n",
    ")\n",
    "calls_lat_lon.columns = ['Lat', 'Lon']\n",
    "calls_lat_lon.head(10)"
   ]
  },
  {
   "cell_type": "markdown",
   "metadata": {},
   "source": [
    "How many records have missing values?"
   ]
  },
  {
   "cell_type": "code",
   "execution_count": 37,
   "metadata": {
    "ExecuteTime": {
     "end_time": "2018-02-02T15:15:19.280471Z",
     "start_time": "2018-02-02T15:15:19.271307Z"
    }
   },
   "outputs": [
    {
     "data": {
      "text/plain": [
       "Lat    193\n",
       "Lon    193\n",
       "dtype: int64"
      ]
     },
     "execution_count": 37,
     "metadata": {},
     "output_type": "execute_result"
    }
   ],
   "source": [
    "calls_lat_lon.isnull().sum()"
   ]
  },
  {
   "cell_type": "markdown",
   "metadata": {},
   "source": [
    "Examine the missing values."
   ]
  },
  {
   "cell_type": "code",
   "execution_count": 38,
   "metadata": {},
   "outputs": [
    {
     "data": {
      "text/plain": [
       "0          CURTIS STREET &STANNAGE AVE\\nBerkeley, CA\n",
       "1      CALIFORNIA STREET & FAIRVIEW ST\\nBerkeley, CA\n",
       "3     CLAREMONT AVE&STONEWALL ROAD AVE\\nBerkeley, CA\n",
       "4                            <UNKNOWN>\\nBerkeley, CA\n",
       "5            ADDISON STREET & GRANT ST\\nBerkeley, CA\n",
       "6                       800 BOLIVAR DR\\nBerkeley, CA\n",
       "7                            MILVIA ST\\nBerkeley, CA\n",
       "8           SHATTUCK AV & TELEGRAPH AV\\nBerkeley, CA\n",
       "10              2016 BERKELEY WAY PATH\\nBerkeley, CA\n",
       "17                         BERRYMAN ST\\nBerkeley, CA\n",
       "Name: Block_Location, dtype: object"
      ]
     },
     "execution_count": 38,
     "metadata": {},
     "output_type": "execute_result"
    }
   ],
   "source": [
    "calls[calls_lat_lon.isnull().any(axis=1)]['Block_Location'].head(10)"
   ]
  },
  {
   "cell_type": "markdown",
   "metadata": {},
   "source": [
    "Join in the extracted values."
   ]
  },
  {
   "cell_type": "code",
   "execution_count": 39,
   "metadata": {
    "ExecuteTime": {
     "end_time": "2018-02-02T15:15:19.328544Z",
     "start_time": "2018-02-02T15:15:19.287625Z"
    },
    "scrolled": true
   },
   "outputs": [
    {
     "data": {
      "text/html": [
       "<div>\n",
       "<style scoped>\n",
       "    .dataframe tbody tr th:only-of-type {\n",
       "        vertical-align: middle;\n",
       "    }\n",
       "\n",
       "    .dataframe tbody tr th {\n",
       "        vertical-align: top;\n",
       "    }\n",
       "\n",
       "    .dataframe thead th {\n",
       "        text-align: right;\n",
       "    }\n",
       "</style>\n",
       "<table border=\"1\" class=\"dataframe\">\n",
       "  <thead>\n",
       "    <tr style=\"text-align: right;\">\n",
       "      <th></th>\n",
       "      <th>CASENO</th>\n",
       "      <th>OFFENSE</th>\n",
       "      <th>EVENTDT</th>\n",
       "      <th>EVENTTM</th>\n",
       "      <th>CVLEGEND</th>\n",
       "      <th>CVDOW</th>\n",
       "      <th>InDbDate</th>\n",
       "      <th>Block_Location</th>\n",
       "      <th>BLKADDR</th>\n",
       "      <th>City</th>\n",
       "      <th>State</th>\n",
       "      <th>Lat</th>\n",
       "      <th>Lon</th>\n",
       "    </tr>\n",
       "  </thead>\n",
       "  <tbody>\n",
       "    <tr>\n",
       "      <th>0</th>\n",
       "      <td>19042350</td>\n",
       "      <td>BURGLARY AUTO</td>\n",
       "      <td>08/01/2019 12:00:00 AM</td>\n",
       "      <td>14:00</td>\n",
       "      <td>BURGLARY - VEHICLE</td>\n",
       "      <td>4</td>\n",
       "      <td>07/01/2020 07:00:09 AM</td>\n",
       "      <td>CURTIS STREET &amp;STANNAGE AVE\\nBerkeley, CA</td>\n",
       "      <td>CURTIS STREET &amp;STANNAGE AVE</td>\n",
       "      <td>Berkeley</td>\n",
       "      <td>CA</td>\n",
       "      <td>NaN</td>\n",
       "      <td>NaN</td>\n",
       "    </tr>\n",
       "    <tr>\n",
       "      <th>1</th>\n",
       "      <td>19091711</td>\n",
       "      <td>VANDALISM</td>\n",
       "      <td>08/19/2019 12:00:00 AM</td>\n",
       "      <td>22:00</td>\n",
       "      <td>VANDALISM</td>\n",
       "      <td>1</td>\n",
       "      <td>07/01/2020 07:00:10 AM</td>\n",
       "      <td>CALIFORNIA STREET &amp; FAIRVIEW ST\\nBerkeley, CA</td>\n",
       "      <td>CALIFORNIA STREET &amp; FAIRVIEW ST</td>\n",
       "      <td>Berkeley</td>\n",
       "      <td>CA</td>\n",
       "      <td>NaN</td>\n",
       "      <td>NaN</td>\n",
       "    </tr>\n",
       "    <tr>\n",
       "      <th>2</th>\n",
       "      <td>19042731</td>\n",
       "      <td>VEHICLE STOLEN</td>\n",
       "      <td>08/03/2019 12:00:00 AM</td>\n",
       "      <td>15:30</td>\n",
       "      <td>MOTOR VEHICLE THEFT</td>\n",
       "      <td>6</td>\n",
       "      <td>07/01/2020 07:00:09 AM</td>\n",
       "      <td>1300 WALNUT ST\\nBerkeley, CA\\n(37.883798, -122...</td>\n",
       "      <td>1300 WALNUT ST</td>\n",
       "      <td>Berkeley</td>\n",
       "      <td>CA</td>\n",
       "      <td>37.883798</td>\n",
       "      <td>-122.268567</td>\n",
       "    </tr>\n",
       "    <tr>\n",
       "      <th>3</th>\n",
       "      <td>19092546</td>\n",
       "      <td>BURGLARY AUTO</td>\n",
       "      <td>11/09/2019 12:00:00 AM</td>\n",
       "      <td>09:00</td>\n",
       "      <td>BURGLARY - VEHICLE</td>\n",
       "      <td>6</td>\n",
       "      <td>07/01/2020 07:00:13 AM</td>\n",
       "      <td>CLAREMONT AVE&amp;STONEWALL ROAD AVE\\nBerkeley, CA</td>\n",
       "      <td>CLAREMONT AVE&amp;STONEWALL ROAD AVE</td>\n",
       "      <td>Berkeley</td>\n",
       "      <td>CA</td>\n",
       "      <td>NaN</td>\n",
       "      <td>NaN</td>\n",
       "    </tr>\n",
       "    <tr>\n",
       "      <th>4</th>\n",
       "      <td>19043231</td>\n",
       "      <td>SEXUAL ASSAULT FEL.</td>\n",
       "      <td>08/04/2019 12:00:00 AM</td>\n",
       "      <td>00:00</td>\n",
       "      <td>SEX CRIME</td>\n",
       "      <td>0</td>\n",
       "      <td>07/01/2020 07:00:10 AM</td>\n",
       "      <td>&lt;UNKNOWN&gt;\\nBerkeley, CA</td>\n",
       "      <td>&lt;UNKNOWN&gt;</td>\n",
       "      <td>Berkeley</td>\n",
       "      <td>CA</td>\n",
       "      <td>NaN</td>\n",
       "      <td>NaN</td>\n",
       "    </tr>\n",
       "  </tbody>\n",
       "</table>\n",
       "</div>"
      ],
      "text/plain": [
       "     CASENO              OFFENSE                 EVENTDT EVENTTM  \\\n",
       "0  19042350        BURGLARY AUTO  08/01/2019 12:00:00 AM   14:00   \n",
       "1  19091711            VANDALISM  08/19/2019 12:00:00 AM   22:00   \n",
       "2  19042731       VEHICLE STOLEN  08/03/2019 12:00:00 AM   15:30   \n",
       "3  19092546        BURGLARY AUTO  11/09/2019 12:00:00 AM   09:00   \n",
       "4  19043231  SEXUAL ASSAULT FEL.  08/04/2019 12:00:00 AM   00:00   \n",
       "\n",
       "              CVLEGEND  CVDOW                InDbDate  \\\n",
       "0   BURGLARY - VEHICLE      4  07/01/2020 07:00:09 AM   \n",
       "1            VANDALISM      1  07/01/2020 07:00:10 AM   \n",
       "2  MOTOR VEHICLE THEFT      6  07/01/2020 07:00:09 AM   \n",
       "3   BURGLARY - VEHICLE      6  07/01/2020 07:00:13 AM   \n",
       "4            SEX CRIME      0  07/01/2020 07:00:10 AM   \n",
       "\n",
       "                                      Block_Location  \\\n",
       "0          CURTIS STREET &STANNAGE AVE\\nBerkeley, CA   \n",
       "1      CALIFORNIA STREET & FAIRVIEW ST\\nBerkeley, CA   \n",
       "2  1300 WALNUT ST\\nBerkeley, CA\\n(37.883798, -122...   \n",
       "3     CLAREMONT AVE&STONEWALL ROAD AVE\\nBerkeley, CA   \n",
       "4                            <UNKNOWN>\\nBerkeley, CA   \n",
       "\n",
       "                            BLKADDR      City State        Lat          Lon  \n",
       "0       CURTIS STREET &STANNAGE AVE  Berkeley    CA        NaN          NaN  \n",
       "1   CALIFORNIA STREET & FAIRVIEW ST  Berkeley    CA        NaN          NaN  \n",
       "2                    1300 WALNUT ST  Berkeley    CA  37.883798  -122.268567  \n",
       "3  CLAREMONT AVE&STONEWALL ROAD AVE  Berkeley    CA        NaN          NaN  \n",
       "4                         <UNKNOWN>  Berkeley    CA        NaN          NaN  "
      ]
     },
     "execution_count": 39,
     "metadata": {},
     "output_type": "execute_result"
    }
   ],
   "source": [
    "calls['Lat'] = calls_lat_lon['Lat']\n",
    "calls['Lon'] = calls_lat_lon['Lon']\n",
    "calls.head()"
   ]
  },
  {
   "cell_type": "markdown",
   "metadata": {},
   "source": [
    "## Examining Location information\n",
    "\n",
    "Let's examine the geographic data (latitude and longitude).  Recall that we had some missing values.  Let's look at the behavior of these missing values according to crime type."
   ]
  },
  {
   "cell_type": "code",
   "execution_count": 40,
   "metadata": {
    "ExecuteTime": {
     "end_time": "2018-02-02T15:15:34.130428Z",
     "start_time": "2018-02-02T15:15:32.851717Z"
    }
   },
   "outputs": [
    {
     "data": {
      "image/png": "[encoded data removed]",
      "text/plain": [
       "<Figure size 432x288 with 1 Axes>"
      ]
     },
     "metadata": {
      "needs_background": "light"
     },
     "output_type": "display_data"
    }
   ],
   "source": [
    "missing_lat_lon = calls[calls[['Lat', 'Lon']].isnull().any(axis=1)]\n",
    "missing_lat_lon['CVLEGEND'].value_counts().plot(kind='barh');"
   ]
  },
  {
   "cell_type": "code",
   "execution_count": 41,
   "metadata": {},
   "outputs": [
    {
     "data": {
      "image/png": "[encoded data removed]",
      "text/plain": [
       "<Figure size 432x288 with 1 Axes>"
      ]
     },
     "metadata": {
      "needs_background": "light"
     },
     "output_type": "display_data"
    }
   ],
   "source": [
    "calls['CVLEGEND'].value_counts().plot(kind='barh');"
   ]
  },
  {
   "cell_type": "markdown",
   "metadata": {},
   "source": [
    "We might further normalize the analysis by the frequency to find which type of crime has the highest proportion of missing values."
   ]
  },
  {
   "cell_type": "code",
   "execution_count": 42,
   "metadata": {
    "ExecuteTime": {
     "end_time": "2018-02-02T15:15:35.358758Z",
     "start_time": "2018-02-02T15:15:34.132788Z"
    }
   },
   "outputs": [
    {
     "data": {
      "image/png": "[encoded data removed]",
      "text/plain": [
       "<Figure size 432x288 with 1 Axes>"
      ]
     },
     "metadata": {
      "needs_background": "light"
     },
     "output_type": "display_data"
    }
   ],
   "source": [
    "(missing_lat_lon['CVLEGEND'].value_counts() \n",
    " / calls['CVLEGEND'].value_counts()\n",
    ").sort_values(ascending=False).plot(kind=\"barh\");"
   ]
  },
  {
   "cell_type": "markdown",
   "metadata": {},
   "source": [
    "Now, let's make a crime map."
   ]
  },
  {
   "cell_type": "code",
   "execution_count": 43,
   "metadata": {},
   "outputs": [],
   "source": [
    "# you may need to install the folium package for this to work\n",
    "# to do this, uncomment the line below and run it.\n",
    "# !pip install folium"
   ]
  },
  {
   "cell_type": "code",
   "execution_count": 44,
   "metadata": {},
   "outputs": [
    {
     "data": {
      "text/html": [
       "<div style=\"width:100%;\"><div style=\"position:relative;width:100%;height:0;padding-bottom:60%;\"><span style=\"color:#565656\">Make this Notebook Trusted to load map: File -> Trust Notebook</span><iframe src=\"about:blank\" style=\"position:absolute;width:100%;height:100%;left:0;top:0;border:none !important;\" data-html=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 onload=\"this.contentDocument.open();this.contentDocument.write(atob(this.getAttribute('data-html')));this.contentDocument.close();\" allowfullscreen webkitallowfullscreen mozallowfullscreen></iframe></div></div>"
      ],
      "text/plain": [
       "<folium.folium.Map at 0x7f6cd8497b50>"
      ]
     },
     "execution_count": 44,
     "metadata": {},
     "output_type": "execute_result"
    }
   ],
   "source": [
    "import folium\n",
    "import folium.plugins\n",
    "\n",
    "SF_COORDINATES = (37.87, -122.28)\n",
    "sf_map = folium.Map(location=SF_COORDINATES, zoom_start=13)\n",
    "locs = calls[['Lat', 'Lon']].astype('float').dropna().values\n",
    "heatmap = folium.plugins.HeatMap(locs.tolist(), radius=10)\n",
    "sf_map.add_child(heatmap)"
   ]
  },
  {
   "cell_type": "markdown",
   "metadata": {},
   "source": [
    "### Questions\n",
    "\n",
    "1. Is campus really the safest place to be?\n",
    "1. Why are all the calls located on the street and at often at intersections?\n"
   ]
  },
  {
   "cell_type": "code",
   "execution_count": 45,
   "metadata": {
    "ExecuteTime": {
     "end_time": "2018-02-02T15:15:54.826669Z",
     "start_time": "2018-02-02T15:15:37.180513Z"
    },
    "scrolled": false
   },
   "outputs": [
    {
     "data": {
      "text/html": [
       "<div style=\"width:100%;\"><div style=\"position:relative;width:100%;height:0;padding-bottom:60%;\"><span style=\"color:#565656\">Make this Notebook Trusted to load map: File -> Trust Notebook</span><iframe src=\"about:blank\" style=\"position:absolute;width:100%;height:100%;left:0;top:0;border:none !important;\" data-html=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 onload=\"this.contentDocument.open();this.contentDocument.write(atob(this.getAttribute('data-html')));this.contentDocument.close();\" allowfullscreen webkitallowfullscreen mozallowfullscreen></iframe></div></div>"
      ],
      "text/plain": [
       "<folium.folium.Map at 0x7f6cd7d45ad0>"
      ]
     },
     "execution_count": 45,
     "metadata": {},
     "output_type": "execute_result"
    }
   ],
   "source": [
    "import folium.plugins\n",
    "\n",
    "locations = calls[calls['CVLEGEND'] == 'ASSAULT'][['Lat', 'Lon']]\n",
    "\n",
    "cluster = folium.plugins.MarkerCluster()\n",
    "for _, r in locations.dropna().iterrows():\n",
    "    cluster.add_child(\n",
    "        folium.Marker([float(r[\"Lat\"]), float(r[\"Lon\"])]))\n",
    "    \n",
    "sf_map = folium.Map(location=SF_COORDINATES, zoom_start=13)\n",
    "sf_map.add_child(cluster)\n",
    "sf_map"
   ]
  },
  {
   "cell_type": "markdown",
   "metadata": {},
   "source": [
    "## Bonus Content: Using pd.to_datetime to Extract Time Information"
   ]
  },
  {
   "cell_type": "markdown",
   "metadata": {},
   "source": [
    "Date parsing using `pd.to_datetime`."
   ]
  },
  {
   "cell_type": "code",
   "execution_count": 46,
   "metadata": {},
   "outputs": [
    {
     "data": {
      "text/html": [
       "<div>\n",
       "<style scoped>\n",
       "    .dataframe tbody tr th:only-of-type {\n",
       "        vertical-align: middle;\n",
       "    }\n",
       "\n",
       "    .dataframe tbody tr th {\n",
       "        vertical-align: top;\n",
       "    }\n",
       "\n",
       "    .dataframe thead th {\n",
       "        text-align: right;\n",
       "    }\n",
       "</style>\n",
       "<table border=\"1\" class=\"dataframe\">\n",
       "  <thead>\n",
       "    <tr style=\"text-align: right;\">\n",
       "      <th></th>\n",
       "      <th>0</th>\n",
       "    </tr>\n",
       "  </thead>\n",
       "  <tbody>\n",
       "    <tr>\n",
       "      <th>0</th>\n",
       "      <td>2014-01-26 10:47:58</td>\n",
       "    </tr>\n",
       "    <tr>\n",
       "      <th>1</th>\n",
       "      <td>2005-02-02 17:23:06</td>\n",
       "    </tr>\n",
       "    <tr>\n",
       "      <th>2</th>\n",
       "      <td>2006-02-03 10:18:37</td>\n",
       "    </tr>\n",
       "  </tbody>\n",
       "</table>\n",
       "</div>"
      ],
      "text/plain": [
       "                    0\n",
       "0 2014-01-26 10:47:58\n",
       "1 2005-02-02 17:23:06\n",
       "2 2006-02-03 10:18:37"
      ]
     },
     "execution_count": 46,
     "metadata": {},
     "output_type": "execute_result"
    }
   ],
   "source": [
    "pd.Series(log_lines).str.extract(r'\\[(.*) -0800\\]').apply(\n",
    "    lambda s: pd.to_datetime(s, format='%d/%b/%Y:%H:%M:%S'))"
   ]
  }
 ],
 "metadata": {
  "kernelspec": {
   "display_name": "Python 3",
   "language": "python",
   "name": "python3"
  },
  "language_info": {
   "codemirror_mode": {
    "name": "ipython",
    "version": 3
   },
   "file_extension": ".py",
   "mimetype": "text/x-python",
   "name": "python",
   "nbconvert_exporter": "python",
   "pygments_lexer": "ipython3",
   "version": "3.7.6"
  }
 },
 "nbformat": 4,
 "nbformat_minor": 2
}
