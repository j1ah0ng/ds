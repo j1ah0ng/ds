{
 "cells": [
  {
   "cell_type": "code",
   "execution_count": 1,
   "metadata": {},
   "outputs": [],
   "source": [
    "import os\n",
    "import pandas as pd\n",
    "import numpy as np\n",
    "import matplotlib.pyplot as plt\n",
    "import seaborn as sns\n",
    "%matplotlib inline\n",
    "\n",
    "from pathlib import Path\n",
    "from sqlalchemy import create_engine\n",
    "from ds100_utils import fetch_and_cache\n",
    "\n",
    "sns.set()\n",
    "sns.set_context('talk')\n",
    "np.set_printoptions(threshold=20, precision=2, suppress=True)\n",
    "pd.set_option('display.max_rows', 7)\n",
    "pd.set_option('display.max_columns', 8)\n",
    "pd.set_option('precision', 2)"
   ]
  },
  {
   "cell_type": "markdown",
   "metadata": {},
   "source": [
    "## SQL Joins"
   ]
  },
  {
   "cell_type": "code",
   "execution_count": 2,
   "metadata": {},
   "outputs": [],
   "source": [
    "import sqlite3\n",
    "conn = sqlite3.connect('test.db')"
   ]
  },
  {
   "cell_type": "code",
   "execution_count": 3,
   "metadata": {},
   "outputs": [],
   "source": [
    "conn.executescript(\"\"\"\n",
    "DROP TABLE IF EXISTS s;\n",
    "DROP TABLE IF EXISTS t;\n",
    "\n",
    "CREATE TABLE s(\n",
    "    id INTEGER PRIMARY KEY, \n",
    "    name TEXT\n",
    ");\n",
    "\n",
    "INSERT INTO s VALUES \n",
    "    (0, 'Apricot'),\n",
    "    (1, 'Boots'),\n",
    "    (2, 'Cally'),\n",
    "    (4, 'Eugene');\n",
    "\n",
    "CREATE TABLE t(\n",
    "    id INTEGER PRIMARY KEY,\n",
    "    breed TEXT\n",
    ");\n",
    "\n",
    "INSERT INTO t VALUES \n",
    "    (1, 'persian'),\n",
    "    (2, 'ragdoll'),\n",
    "    (4, 'bengal'),\n",
    "    (5, 'persian');\n",
    "\"\"\");"
   ]
  },
  {
   "cell_type": "code",
   "execution_count": 4,
   "metadata": {},
   "outputs": [
    {
     "name": "stdout",
     "output_type": "stream",
     "text": [
      "sql> SELECT * FROM s;\n",
      "(0, 'Apricot')\n",
      "(1, 'Boots')\n",
      "(2, 'Cally')\n",
      "(4, 'Eugene')\n",
      "sql> SELECT * FROM t;\n",
      "(1, 'persian')\n",
      "(2, 'ragdoll')\n",
      "(4, 'bengal')\n",
      "(5, 'persian')\n"
     ]
    }
   ],
   "source": [
    "def print_sql(s):\n",
    "    first, *rest = s.strip().split('\\n')\n",
    "    print(f'sql> {first}')\n",
    "    for line in rest:\n",
    "        print(f'...> {line}')\n",
    "    for result in conn.execute(s):\n",
    "        print(result)\n",
    "\n",
    "print_sql('SELECT * FROM s;')\n",
    "print_sql('SELECT * FROM t;')"
   ]
  },
  {
   "cell_type": "code",
   "execution_count": 5,
   "metadata": {},
   "outputs": [
    {
     "name": "stdout",
     "output_type": "stream",
     "text": [
      "sql> SELECT *\n",
      "...> FROM s\n",
      "...> WHERE id >= 2;\n",
      "(2, 'Cally')\n",
      "(4, 'Eugene')\n"
     ]
    }
   ],
   "source": [
    "query = '''\n",
    "SELECT *\n",
    "FROM s\n",
    "WHERE id >= 2;\n",
    "'''\n",
    "\n",
    "print_sql(query)"
   ]
  },
  {
   "cell_type": "code",
   "execution_count": 6,
   "metadata": {},
   "outputs": [
    {
     "name": "stdout",
     "output_type": "stream",
     "text": [
      "sql> SELECT *\n",
      "...> FROM s, t\n",
      "(0, 'Apricot', 1, 'persian')\n",
      "(0, 'Apricot', 2, 'ragdoll')\n",
      "(0, 'Apricot', 4, 'bengal')\n",
      "(0, 'Apricot', 5, 'persian')\n",
      "(1, 'Boots', 1, 'persian')\n",
      "(1, 'Boots', 2, 'ragdoll')\n",
      "(1, 'Boots', 4, 'bengal')\n",
      "(1, 'Boots', 5, 'persian')\n",
      "(2, 'Cally', 1, 'persian')\n",
      "(2, 'Cally', 2, 'ragdoll')\n",
      "(2, 'Cally', 4, 'bengal')\n",
      "(2, 'Cally', 5, 'persian')\n",
      "(4, 'Eugene', 1, 'persian')\n",
      "(4, 'Eugene', 2, 'ragdoll')\n",
      "(4, 'Eugene', 4, 'bengal')\n",
      "(4, 'Eugene', 5, 'persian')\n"
     ]
    }
   ],
   "source": [
    "#cross join\n",
    "query = '''\n",
    "SELECT *\n",
    "FROM s, t\n",
    "'''\n",
    "print_sql(query)"
   ]
  },
  {
   "cell_type": "code",
   "execution_count": 7,
   "metadata": {},
   "outputs": [
    {
     "name": "stdout",
     "output_type": "stream",
     "text": [
      "sql> SELECT *\n",
      "...> FROM s JOIN t\n",
      "...>   ON s.id = t.id\n",
      "(1, 'Boots', 1, 'persian')\n",
      "(2, 'Cally', 2, 'ragdoll')\n",
      "(4, 'Eugene', 4, 'bengal')\n"
     ]
    }
   ],
   "source": [
    "#inner join\n",
    "query = '''\n",
    "SELECT *\n",
    "FROM s JOIN t\n",
    "  ON s.id = t.id\n",
    "'''\n",
    "print_sql(query)"
   ]
  },
  {
   "cell_type": "code",
   "execution_count": 8,
   "metadata": {},
   "outputs": [
    {
     "name": "stdout",
     "output_type": "stream",
     "text": [
      "sql> SELECT *\n",
      "...> FROM s LEFT JOIN t\n",
      "...>   ON s.id = t.id\n",
      "(0, 'Apricot', None, None)\n",
      "(1, 'Boots', 1, 'persian')\n",
      "(2, 'Cally', 2, 'ragdoll')\n",
      "(4, 'Eugene', 4, 'bengal')\n"
     ]
    }
   ],
   "source": [
    "#left outer join\n",
    "query = '''\n",
    "SELECT *\n",
    "FROM s LEFT JOIN t\n",
    "  ON s.id = t.id\n",
    "'''\n",
    "print_sql(query)"
   ]
  },
  {
   "cell_type": "code",
   "execution_count": 9,
   "metadata": {},
   "outputs": [
    {
     "name": "stdout",
     "output_type": "stream",
     "text": [
      "sql> SELECT *\n",
      "...> FROM t LEFT JOIN s\n",
      "...>   ON s.id = t.id\n",
      "(1, 'persian', 1, 'Boots')\n",
      "(2, 'ragdoll', 2, 'Cally')\n",
      "(4, 'bengal', 4, 'Eugene')\n",
      "(5, 'persian', None, None)\n"
     ]
    }
   ],
   "source": [
    "#right inner join unsupported, so we have to switch s and t\n",
    "query = '''\n",
    "SELECT *\n",
    "FROM t LEFT JOIN s\n",
    "  ON s.id = t.id\n",
    "'''\n",
    "print_sql(query)"
   ]
  },
  {
   "cell_type": "markdown",
   "metadata": {},
   "source": [
    "Doing an outer join is possible but is not very concise and requires UNION keyword."
   ]
  },
  {
   "cell_type": "code",
   "execution_count": 10,
   "metadata": {},
   "outputs": [
    {
     "name": "stdout",
     "output_type": "stream",
     "text": [
      "sql> SELECT s.id, s.name, t.id, t.breed\n",
      "...> FROM s LEFT JOIN t\n",
      "...>   ON s.id = t.id\n",
      "...> UNION\n",
      "...> SELECT s.id, s.name, t.id, t.breed\n",
      "...> FROM t LEFT JOIN s\n",
      "...>   ON s.id = t.id\n",
      "(None, None, 5, 'persian')\n",
      "(0, 'Apricot', None, None)\n",
      "(1, 'Boots', 1, 'persian')\n",
      "(2, 'Cally', 2, 'ragdoll')\n",
      "(4, 'Eugene', 4, 'bengal')\n"
     ]
    }
   ],
   "source": [
    "#full outer join with UNION\n",
    "query = '''\n",
    "SELECT s.id, s.name, t.id, t.breed\n",
    "FROM s LEFT JOIN t\n",
    "  ON s.id = t.id\n",
    "UNION\n",
    "SELECT s.id, s.name, t.id, t.breed\n",
    "FROM t LEFT JOIN s\n",
    "  ON s.id = t.id\n",
    "'''\n",
    "print_sql(query)"
   ]
  },
  {
   "cell_type": "markdown",
   "metadata": {},
   "source": [
    "## IMDB Data"
   ]
  },
  {
   "cell_type": "code",
   "execution_count": 11,
   "metadata": {},
   "outputs": [],
   "source": [
    "data_directory = './'"
   ]
  },
  {
   "cell_type": "code",
   "execution_count": 12,
   "metadata": {
    "scrolled": true
   },
   "outputs": [
    {
     "name": "stdout",
     "output_type": "stream",
     "text": [
      "Using cached version that was downloaded (UTC): Wed Jun 24 03:54:13 2020\n",
      "Using cached version that was downloaded (UTC): Wed Jun 24 03:54:18 2020\n",
      "total 2.7G\n",
      "-rw-r--r-- 1 jovyan jovyan 1.7K Jun 24 00:31 ds100_utils.py\n",
      "-rw-r--r-- 1 jovyan jovyan 1.3G Jun 25 06:54 imdb.db\n",
      "-rw-r--r-- 1 jovyan jovyan 324K Jun 25 06:59 lec04.ipynb\n",
      "-rw-r--r-- 1 jovyan jovyan 581M Jun 24 03:54 names.tsv\n",
      "-rw-r--r-- 1 jovyan jovyan 190M Jun 24 03:54 names.tsv.gz\n",
      "drwxr-xr-x 2 jovyan jovyan 4.0K Jun 25 06:59 __pycache__\n",
      "-rw-r--r-- 1 jovyan jovyan  12K Jun 25 06:59 test.db\n",
      "-rw-r--r-- 1 jovyan jovyan 562M Jun 24 03:54 titles.tsv\n",
      "-rw-r--r-- 1 jovyan jovyan 118M Jun 24 03:54 titles.tsv.gz\n"
     ]
    }
   ],
   "source": [
    "# From https://www.imdb.com/interfaces/\n",
    "fetch_and_cache('https://datasets.imdbws.com/title.basics.tsv.gz', 'titles.tsv.gz', data_directory)\n",
    "fetch_and_cache('https://datasets.imdbws.com/name.basics.tsv.gz', 'names.tsv.gz', data_directory)\n",
    "!gunzip -kf {data_directory}/titles.tsv.gz\n",
    "!gunzip -kf {data_directory}/names.tsv.gz\n",
    "!ls -lh {data_directory}"
   ]
  },
  {
   "cell_type": "code",
   "execution_count": 13,
   "metadata": {
    "scrolled": true
   },
   "outputs": [],
   "source": [
    "# Running the line below will probaly crash your kernel because the names \n",
    "# dataset is too big to comfortable fit into main memory. \n",
    "#pd.read_csv(f'{data_directory}/names.tsv', sep='\\t')"
   ]
  },
  {
   "cell_type": "code",
   "execution_count": 14,
   "metadata": {},
   "outputs": [],
   "source": [
    "# Use sqlite3 instead of Python (must be run from the terminal)\n",
    "# note: To close sqlite3, press ctrl-d\n",
    "\"\"\"\n",
    "$ sqlite3 imdb.db\n",
    "sqlite> .mode tabs\n",
    "sqlite> .import titles.tsv titles\n",
    "sqlite> .import names.tsv names\n",
    "\"\"\";"
   ]
  },
  {
   "cell_type": "markdown",
   "metadata": {},
   "source": [
    "While the code above runs, let's explore the data files a bit."
   ]
  },
  {
   "cell_type": "code",
   "execution_count": 15,
   "metadata": {
    "scrolled": true
   },
   "outputs": [
    {
     "name": "stdout",
     "output_type": "stream",
     "text": [
      "  10181040   70045544  608532078 .//names.tsv\n",
      "   6921619   93944819  588641553 .//titles.tsv\n",
      "  17102659  163990363 1197173631 total\n"
     ]
    }
   ],
   "source": [
    "!wc {data_directory}/*.tsv"
   ]
  },
  {
   "cell_type": "code",
   "execution_count": 16,
   "metadata": {
    "scrolled": true
   },
   "outputs": [
    {
     "name": "stdout",
     "output_type": "stream",
     "text": [
      "tconst\ttitleType\tprimaryTitle\toriginalTitle\tisAdult\tstartYear\tendYear\truntimeMinutes\tgenres\r\n",
      "tt0000001\tshort\tCarmencita\tCarmencita\t0\t1894\t\\N\t1\tDocumentary,Short\r\n",
      "tt0000002\tshort\tLe clown et ses chiens\tLe clown et ses chiens\t0\t1892\t\\N\t5\tAnimation,Short\r\n",
      "tt0000003\tshort\tPauvre Pierrot\tPauvre Pierrot\t0\t1892\t\\N\t4\tAnimation,Comedy,Romance\r\n",
      "tt0000004\tshort\tUn bon bock\tUn bon bock\t0\t1892\t\\N\t12\tAnimation,Short\r\n"
     ]
    }
   ],
   "source": [
    "!head -n5 {data_directory}/titles.tsv"
   ]
  },
  {
   "cell_type": "code",
   "execution_count": 17,
   "metadata": {},
   "outputs": [
    {
     "name": "stdout",
     "output_type": "stream",
     "text": [
      "nconst\tprimaryName\tbirthYear\tdeathYear\tprimaryProfession\tknownForTitles\r\n",
      "nm0000001\tFred Astaire\t1899\t1987\tsoundtrack,actor,miscellaneous\ttt0050419,tt0072308,tt0043044,tt0053137\r\n",
      "nm0000002\tLauren Bacall\t1924\t2014\tactress,soundtrack\ttt0038355,tt0037382,tt0117057,tt0071877\r\n",
      "nm0000003\tBrigitte Bardot\t1934\t\\N\tactress,soundtrack,music_department\ttt0049189,tt0054452,tt0059956,tt0057345\r\n",
      "nm0000004\tJohn Belushi\t1949\t1982\tactor,soundtrack,writer\ttt0078723,tt0077975,tt0072562,tt0080455\r\n"
     ]
    }
   ],
   "source": [
    "!head -n5 {data_directory}/names.tsv"
   ]
  },
  {
   "cell_type": "code",
   "execution_count": 18,
   "metadata": {},
   "outputs": [
    {
     "name": "stdout",
     "output_type": "stream",
     "text": [
      "sql> SELECT * FROM titles LIMIT 10;\n",
      "('tt0000001', 'short', 'Carmencita', 'Carmencita', '0', '1894', '\\\\N', '1', 'Documentary,Short')\n",
      "('tt0000002', 'short', 'Le clown et ses chiens', 'Le clown et ses chiens', '0', '1892', '\\\\N', '5', 'Animation,Short')\n",
      "('tt0000003', 'short', 'Pauvre Pierrot', 'Pauvre Pierrot', '0', '1892', '\\\\N', '4', 'Animation,Comedy,Romance')\n",
      "('tt0000004', 'short', 'Un bon bock', 'Un bon bock', '0', '1892', '\\\\N', '12', 'Animation,Short')\n",
      "('tt0000005', 'short', 'Blacksmith Scene', 'Blacksmith Scene', '0', '1893', '\\\\N', '1', 'Comedy,Short')\n",
      "('tt0000006', 'short', 'Chinese Opium Den', 'Chinese Opium Den', '0', '1894', '\\\\N', '1', 'Short')\n",
      "('tt0000007', 'short', 'Corbett and Courtney Before the Kinetograph', 'Corbett and Courtney Before the Kinetograph', '0', '1894', '\\\\N', '1', 'Short,Sport')\n",
      "('tt0000008', 'short', 'Edison Kinetoscopic Record of a Sneeze', 'Edison Kinetoscopic Record of a Sneeze', '0', '1894', '\\\\N', '1', 'Documentary,Short')\n",
      "('tt0000009', 'movie', 'Miss Jerry', 'Miss Jerry', '0', '1894', '\\\\N', '45', 'Romance')\n",
      "('tt0000010', 'short', 'Leaving the Factory', \"La sortie de l'usine Lumière à Lyon\", '0', '1895', '\\\\N', '1', 'Documentary,Short')\n"
     ]
    }
   ],
   "source": [
    "conn = sqlite3.connect(data_directory + '/imdb.db')\n",
    "print_sql('SELECT * FROM titles LIMIT 10;')"
   ]
  },
  {
   "cell_type": "code",
   "execution_count": 19,
   "metadata": {},
   "outputs": [
    {
     "name": "stdout",
     "output_type": "stream",
     "text": [
      "CREATE TABLE titles(\n",
      "  \"tconst\" TEXT,\n",
      "  \"titleType\" TEXT,\n",
      "  \"primaryTitle\" TEXT,\n",
      "  \"originalTitle\" TEXT,\n",
      "  \"isAdult\" TEXT,\n",
      "  \"startYear\" TEXT,\n",
      "  \"endYear\" TEXT,\n",
      "  \"runtimeMinutes\" TEXT,\n",
      "  \"genres\" TEXT\n",
      ")\n",
      "CREATE TABLE names(\n",
      "  \"nconst\" TEXT,\n",
      "  \"primaryName\" TEXT,\n",
      "  \"birthYear\" TEXT,\n",
      "  \"deathYear\" TEXT,\n",
      "  \"primaryProfession\" TEXT,\n",
      "  \"knownForTitles\" TEXT\n",
      ")\n",
      "CREATE TABLE s(\n",
      "    id INTEGER PRIMARY KEY, \n",
      "    name TEXT\n",
      ")\n",
      "CREATE TABLE t(\n",
      "    id INTEGER PRIMARY KEY,\n",
      "    breed TEXT\n",
      ")\n",
      "CREATE TABLE action_movie(\n",
      "  id TEXT,\n",
      "  title TEXT,\n",
      "  time INT,\n",
      "  year INT\n",
      ")\n",
      "CREATE TABLE action_ppl(\n",
      "  name TEXT,\n",
      "  profession,\n",
      "  born INT,\n",
      "  title TEXT,\n",
      "  year INT\n",
      ")\n"
     ]
    }
   ],
   "source": [
    "for exp in conn.execute('SELECT sql FROM sqlite_master;'):\n",
    "    print(exp[0])"
   ]
  },
  {
   "cell_type": "code",
   "execution_count": 20,
   "metadata": {},
   "outputs": [
    {
     "data": {
      "text/plain": [
       "'John is here'"
      ]
     },
     "execution_count": 20,
     "metadata": {},
     "output_type": "execute_result"
    }
   ],
   "source": [
    "# Reminder: Python f strings\n",
    "who, where = 'John', 'here'\n",
    "f\"{who} is {where}\""
   ]
  },
  {
   "cell_type": "code",
   "execution_count": 21,
   "metadata": {},
   "outputs": [
    {
     "name": "stdout",
     "output_type": "stream",
     "text": [
      "sql> SELECT primaryTitle AS title, \n",
      "...>   runtimeMinutes AS time\n",
      "...> FROM titles\n",
      "...> LIMIT 10;\n",
      "('Carmencita', '1')\n",
      "('Le clown et ses chiens', '5')\n",
      "('Pauvre Pierrot', '4')\n",
      "('Un bon bock', '12')\n",
      "('Blacksmith Scene', '1')\n",
      "('Chinese Opium Den', '1')\n",
      "('Corbett and Courtney Before the Kinetograph', '1')\n",
      "('Edison Kinetoscopic Record of a Sneeze', '1')\n",
      "('Miss Jerry', '45')\n",
      "('Leaving the Factory', '1')\n"
     ]
    }
   ],
   "source": [
    "get_10_movies = f'''\n",
    "SELECT primaryTitle AS title, \n",
    "  runtimeMinutes AS time\n",
    "FROM titles\n",
    "LIMIT 10;\n",
    "'''\n",
    "\n",
    "print_sql(get_10_movies)"
   ]
  },
  {
   "cell_type": "code",
   "execution_count": 22,
   "metadata": {},
   "outputs": [
    {
     "name": "stdout",
     "output_type": "stream",
     "text": [
      "sql> SELECT primaryTitle AS title, \n",
      "...>   CAST(runtimeMinutes as int) AS time\n",
      "...> FROM titles\n",
      "...> LIMIT 10;\n",
      "('Carmencita', 1)\n",
      "('Le clown et ses chiens', 5)\n",
      "('Pauvre Pierrot', 4)\n",
      "('Un bon bock', 12)\n",
      "('Blacksmith Scene', 1)\n",
      "('Chinese Opium Den', 1)\n",
      "('Corbett and Courtney Before the Kinetograph', 1)\n",
      "('Edison Kinetoscopic Record of a Sneeze', 1)\n",
      "('Miss Jerry', 45)\n",
      "('Leaving the Factory', 1)\n"
     ]
    }
   ],
   "source": [
    "get_10_movies_time_as_int = f'''\n",
    "SELECT primaryTitle AS title, \n",
    "  CAST(runtimeMinutes as int) AS time\n",
    "FROM titles\n",
    "LIMIT 10;\n",
    "'''\n",
    "\n",
    "print_sql(get_10_movies_time_as_int)"
   ]
  },
  {
   "cell_type": "code",
   "execution_count": 23,
   "metadata": {},
   "outputs": [
    {
     "name": "stdout",
     "output_type": "stream",
     "text": [
      "sql> SELECT * FROM action_movie LIMIT 10\n",
      "('tt0004223', 'The Life of General Villa', 105, 1914)\n",
      "('tt0004450', 'Die Pagode', 82, 1917)\n",
      "('tt0004635', 'The Squaw Man', 74, 1914)\n",
      "('tt0005073', 'The Chalice of Courage', 65, 1915)\n",
      "('tt0006333', '20,000 Leagues Under the Sea', 105, 1916)\n",
      "('tt0006997', 'The Warrior', 95, 1916)\n",
      "('tt0007168', 'Die Peitsche', 85, 1916)\n",
      "('tt0008114', 'Die Hochzeit im Excentricclub', 70, 1917)\n",
      "('tt0008915', 'Bound in Morocco', 64, 1918)\n",
      "('tt0009560', 'The Romance of Tarzan', 70, 1918)\n"
     ]
    }
   ],
   "source": [
    "select_action = f'''\n",
    "SELECT tconst AS id,\n",
    "  primaryTitle AS title, \n",
    "  CAST(runtimeMinutes AS int) AS time, \n",
    "  CAST(startYear AS int) AS year\n",
    "FROM titles\n",
    "WHERE genres LIKE '%Action%' AND\n",
    "  year > 1900 AND \n",
    "  isAdult = '0' AND\n",
    "  titleType = 'movie' AND\n",
    "  time > 60 AND time < 180\n",
    "'''\n",
    "\n",
    "create_action_table = f'''\n",
    "DROP TABLE IF EXISTS action_movie;\n",
    "CREATE TABLE action_movie AS {select_action};\n",
    "'''\n",
    "\n",
    "conn.executescript(create_action_table)\n",
    "print_sql('SELECT * FROM action_movie LIMIT 10')"
   ]
  },
  {
   "cell_type": "markdown",
   "metadata": {},
   "source": [
    "We can check to see whether this table is small enough to read into pandas:"
   ]
  },
  {
   "cell_type": "code",
   "execution_count": 24,
   "metadata": {},
   "outputs": [
    {
     "name": "stdout",
     "output_type": "stream",
     "text": [
      "sql> SELECT COUNT(*) from action_movie\n",
      "(21241,)\n"
     ]
    }
   ],
   "source": [
    "print_sql('SELECT COUNT(*) from action_movie')"
   ]
  },
  {
   "cell_type": "code",
   "execution_count": 25,
   "metadata": {
    "scrolled": true
   },
   "outputs": [
    {
     "data": {
      "text/html": [
       "<div>\n",
       "<style scoped>\n",
       "    .dataframe tbody tr th:only-of-type {\n",
       "        vertical-align: middle;\n",
       "    }\n",
       "\n",
       "    .dataframe tbody tr th {\n",
       "        vertical-align: top;\n",
       "    }\n",
       "\n",
       "    .dataframe thead th {\n",
       "        text-align: right;\n",
       "    }\n",
       "</style>\n",
       "<table border=\"1\" class=\"dataframe\">\n",
       "  <thead>\n",
       "    <tr style=\"text-align: right;\">\n",
       "      <th></th>\n",
       "      <th>id</th>\n",
       "      <th>title</th>\n",
       "      <th>time</th>\n",
       "      <th>year</th>\n",
       "    </tr>\n",
       "  </thead>\n",
       "  <tbody>\n",
       "    <tr>\n",
       "      <th>0</th>\n",
       "      <td>tt0004223</td>\n",
       "      <td>The Life of General Villa</td>\n",
       "      <td>105</td>\n",
       "      <td>1914</td>\n",
       "    </tr>\n",
       "    <tr>\n",
       "      <th>1</th>\n",
       "      <td>tt0004450</td>\n",
       "      <td>Die Pagode</td>\n",
       "      <td>82</td>\n",
       "      <td>1917</td>\n",
       "    </tr>\n",
       "    <tr>\n",
       "      <th>2</th>\n",
       "      <td>tt0004635</td>\n",
       "      <td>The Squaw Man</td>\n",
       "      <td>74</td>\n",
       "      <td>1914</td>\n",
       "    </tr>\n",
       "    <tr>\n",
       "      <th>...</th>\n",
       "      <td>...</td>\n",
       "      <td>...</td>\n",
       "      <td>...</td>\n",
       "      <td>...</td>\n",
       "    </tr>\n",
       "    <tr>\n",
       "      <th>21238</th>\n",
       "      <td>tt9897764</td>\n",
       "      <td>River Pirates</td>\n",
       "      <td>90</td>\n",
       "      <td>2018</td>\n",
       "    </tr>\n",
       "    <tr>\n",
       "      <th>21239</th>\n",
       "      <td>tt9898858</td>\n",
       "      <td>Coffee &amp; Kareem</td>\n",
       "      <td>88</td>\n",
       "      <td>2020</td>\n",
       "    </tr>\n",
       "    <tr>\n",
       "      <th>21240</th>\n",
       "      <td>tt9904066</td>\n",
       "      <td>Fox Hunting</td>\n",
       "      <td>66</td>\n",
       "      <td>2019</td>\n",
       "    </tr>\n",
       "  </tbody>\n",
       "</table>\n",
       "<p>21241 rows × 4 columns</p>\n",
       "</div>"
      ],
      "text/plain": [
       "              id                      title  time  year\n",
       "0      tt0004223  The Life of General Villa   105  1914\n",
       "1      tt0004450                 Die Pagode    82  1917\n",
       "2      tt0004635              The Squaw Man    74  1914\n",
       "...          ...                        ...   ...   ...\n",
       "21238  tt9897764              River Pirates    90  2018\n",
       "21239  tt9898858            Coffee & Kareem    88  2020\n",
       "21240  tt9904066                Fox Hunting    66  2019\n",
       "\n",
       "[21241 rows x 4 columns]"
      ]
     },
     "execution_count": 25,
     "metadata": {},
     "output_type": "execute_result"
    }
   ],
   "source": [
    "df = pd.read_sql('SELECT * FROM action_movie', conn)\n",
    "df"
   ]
  },
  {
   "cell_type": "code",
   "execution_count": 26,
   "metadata": {},
   "outputs": [
    {
     "data": {
      "text/plain": [
       "(21241, 4)"
      ]
     },
     "execution_count": 26,
     "metadata": {},
     "output_type": "execute_result"
    }
   ],
   "source": [
    "df.shape"
   ]
  },
  {
   "cell_type": "code",
   "execution_count": 27,
   "metadata": {},
   "outputs": [
    {
     "data": {
      "image/png": "[encoded data removed]",
      "text/plain": [
       "<Figure size 432x288 with 1 Axes>"
      ]
     },
     "metadata": {
      "needs_background": "light"
     },
     "output_type": "display_data"
    }
   ],
   "source": [
    "df.hist('year');"
   ]
  },
  {
   "cell_type": "code",
   "execution_count": 28,
   "metadata": {},
   "outputs": [
    {
     "data": {
      "image/png": "[encoded data removed]",
      "text/plain": [
       "<Figure size 432x288 with 1 Axes>"
      ]
     },
     "metadata": {
      "needs_background": "light"
     },
     "output_type": "display_data"
    }
   ],
   "source": [
    "sns.scatterplot(df['year'], df['time']);"
   ]
  },
  {
   "cell_type": "code",
   "execution_count": 29,
   "metadata": {},
   "outputs": [
    {
     "data": {
      "image/png": "[encoded data removed]",
      "text/plain": [
       "<Figure size 432x288 with 1 Axes>"
      ]
     },
     "metadata": {
      "needs_background": "light"
     },
     "output_type": "display_data"
    }
   ],
   "source": [
    "sns.kdeplot(df['year'], df['time']);"
   ]
  },
  {
   "cell_type": "code",
   "execution_count": 30,
   "metadata": {},
   "outputs": [
    {
     "data": {
      "image/png": "[encoded data removed]",
      "text/plain": [
       "<Figure size 432x288 with 1 Axes>"
      ]
     },
     "metadata": {
      "needs_background": "light"
     },
     "output_type": "display_data"
    }
   ],
   "source": [
    "df['time'].groupby(df['year']).mean().plot();"
   ]
  },
  {
   "cell_type": "code",
   "execution_count": 31,
   "metadata": {},
   "outputs": [
    {
     "data": {
      "image/png": "[encoded data removed]",
      "text/plain": [
       "<Figure size 432x288 with 1 Axes>"
      ]
     },
     "metadata": {
      "needs_background": "light"
     },
     "output_type": "display_data"
    }
   ],
   "source": [
    "df['decade'] = (df['year'] // 10) * 10\n",
    "sns.boxplot('decade', 'time', data=df)\n",
    "plt.xticks(rotation=45);"
   ]
  },
  {
   "cell_type": "markdown",
   "metadata": {},
   "source": [
    "## Sampling in SQL"
   ]
  },
  {
   "cell_type": "code",
   "execution_count": 32,
   "metadata": {},
   "outputs": [
    {
     "data": {
      "text/html": [
       "<div>\n",
       "<style scoped>\n",
       "    .dataframe tbody tr th:only-of-type {\n",
       "        vertical-align: middle;\n",
       "    }\n",
       "\n",
       "    .dataframe tbody tr th {\n",
       "        vertical-align: top;\n",
       "    }\n",
       "\n",
       "    .dataframe thead th {\n",
       "        text-align: right;\n",
       "    }\n",
       "</style>\n",
       "<table border=\"1\" class=\"dataframe\">\n",
       "  <thead>\n",
       "    <tr style=\"text-align: right;\">\n",
       "      <th></th>\n",
       "      <th>id</th>\n",
       "      <th>title</th>\n",
       "      <th>time</th>\n",
       "      <th>year</th>\n",
       "    </tr>\n",
       "  </thead>\n",
       "  <tbody>\n",
       "    <tr>\n",
       "      <th>0</th>\n",
       "      <td>tt0093639</td>\n",
       "      <td>No Safe Haven</td>\n",
       "      <td>95</td>\n",
       "      <td>1987</td>\n",
       "    </tr>\n",
       "    <tr>\n",
       "      <th>1</th>\n",
       "      <td>tt0406941</td>\n",
       "      <td>Lorelei: The Witch of the Pacific Ocean</td>\n",
       "      <td>128</td>\n",
       "      <td>2005</td>\n",
       "    </tr>\n",
       "    <tr>\n",
       "      <th>2</th>\n",
       "      <td>tt6409600</td>\n",
       "      <td>Gyangû no shôzo</td>\n",
       "      <td>90</td>\n",
       "      <td>1965</td>\n",
       "    </tr>\n",
       "  </tbody>\n",
       "</table>\n",
       "</div>"
      ],
      "text/plain": [
       "          id                                    title  time  year\n",
       "0  tt0093639                            No Safe Haven    95  1987\n",
       "1  tt0406941  Lorelei: The Witch of the Pacific Ocean   128  2005\n",
       "2  tt6409600                          Gyangû no shôzo    90  1965"
      ]
     },
     "execution_count": 32,
     "metadata": {},
     "output_type": "execute_result"
    }
   ],
   "source": [
    "pd.read_sql('SELECT * FROM action_movie ORDER BY RANDOM() LIMIT 3', conn)"
   ]
  },
  {
   "cell_type": "code",
   "execution_count": 33,
   "metadata": {},
   "outputs": [
    {
     "data": {
      "text/html": [
       "<div>\n",
       "<style scoped>\n",
       "    .dataframe tbody tr th:only-of-type {\n",
       "        vertical-align: middle;\n",
       "    }\n",
       "\n",
       "    .dataframe tbody tr th {\n",
       "        vertical-align: top;\n",
       "    }\n",
       "\n",
       "    .dataframe thead th {\n",
       "        text-align: right;\n",
       "    }\n",
       "</style>\n",
       "<table border=\"1\" class=\"dataframe\">\n",
       "  <thead>\n",
       "    <tr style=\"text-align: right;\">\n",
       "      <th></th>\n",
       "      <th>year</th>\n",
       "    </tr>\n",
       "  </thead>\n",
       "  <tbody>\n",
       "    <tr>\n",
       "      <th>0</th>\n",
       "      <td>1921</td>\n",
       "    </tr>\n",
       "    <tr>\n",
       "      <th>1</th>\n",
       "      <td>1940</td>\n",
       "    </tr>\n",
       "    <tr>\n",
       "      <th>2</th>\n",
       "      <td>1942</td>\n",
       "    </tr>\n",
       "  </tbody>\n",
       "</table>\n",
       "</div>"
      ],
      "text/plain": [
       "   year\n",
       "0  1921\n",
       "1  1940\n",
       "2  1942"
      ]
     },
     "execution_count": 33,
     "metadata": {},
     "output_type": "execute_result"
    }
   ],
   "source": [
    "#selecting 3 random years\n",
    "three_years = '''\n",
    "SELECT year FROM action_movie \n",
    "  GROUP BY year \n",
    "  ORDER BY RANDOM()\n",
    "  LIMIT 3\n",
    "'''\n",
    "\n",
    "pd.read_sql(three_years, conn)"
   ]
  },
  {
   "cell_type": "code",
   "execution_count": 34,
   "metadata": {},
   "outputs": [
    {
     "data": {
      "text/html": [
       "<div>\n",
       "<style scoped>\n",
       "    .dataframe tbody tr th:only-of-type {\n",
       "        vertical-align: middle;\n",
       "    }\n",
       "\n",
       "    .dataframe tbody tr th {\n",
       "        vertical-align: top;\n",
       "    }\n",
       "\n",
       "    .dataframe thead th {\n",
       "        text-align: right;\n",
       "    }\n",
       "</style>\n",
       "<table border=\"1\" class=\"dataframe\">\n",
       "  <thead>\n",
       "    <tr style=\"text-align: right;\">\n",
       "      <th></th>\n",
       "      <th>id</th>\n",
       "      <th>title</th>\n",
       "      <th>time</th>\n",
       "      <th>year</th>\n",
       "    </tr>\n",
       "  </thead>\n",
       "  <tbody>\n",
       "    <tr>\n",
       "      <th>0</th>\n",
       "      <td>tt0016570</td>\n",
       "      <td>Abrek Zaur</td>\n",
       "      <td>85</td>\n",
       "      <td>1926</td>\n",
       "    </tr>\n",
       "    <tr>\n",
       "      <th>1</th>\n",
       "      <td>tt0016615</td>\n",
       "      <td>Atta Boy</td>\n",
       "      <td>63</td>\n",
       "      <td>1926</td>\n",
       "    </tr>\n",
       "    <tr>\n",
       "      <th>2</th>\n",
       "      <td>tt0016630</td>\n",
       "      <td>Battling Butler</td>\n",
       "      <td>77</td>\n",
       "      <td>1926</td>\n",
       "    </tr>\n",
       "    <tr>\n",
       "      <th>...</th>\n",
       "      <td>...</td>\n",
       "      <td>...</td>\n",
       "      <td>...</td>\n",
       "      <td>...</td>\n",
       "    </tr>\n",
       "    <tr>\n",
       "      <th>1081</th>\n",
       "      <td>tt9844256</td>\n",
       "      <td>Code Geass: Lelouch of the Rebellion III - Glo...</td>\n",
       "      <td>120</td>\n",
       "      <td>2018</td>\n",
       "    </tr>\n",
       "    <tr>\n",
       "      <th>1082</th>\n",
       "      <td>tt9849122</td>\n",
       "      <td>Sriman Surdas</td>\n",
       "      <td>157</td>\n",
       "      <td>2018</td>\n",
       "    </tr>\n",
       "    <tr>\n",
       "      <th>1083</th>\n",
       "      <td>tt9897764</td>\n",
       "      <td>River Pirates</td>\n",
       "      <td>90</td>\n",
       "      <td>2018</td>\n",
       "    </tr>\n",
       "  </tbody>\n",
       "</table>\n",
       "<p>1084 rows × 4 columns</p>\n",
       "</div>"
      ],
      "text/plain": [
       "             id                                              title  time  year\n",
       "0     tt0016570                                         Abrek Zaur    85  1926\n",
       "1     tt0016615                                           Atta Boy    63  1926\n",
       "2     tt0016630                                    Battling Butler    77  1926\n",
       "...         ...                                                ...   ...   ...\n",
       "1081  tt9844256  Code Geass: Lelouch of the Rebellion III - Glo...   120  2018\n",
       "1082  tt9849122                                      Sriman Surdas   157  2018\n",
       "1083  tt9897764                                      River Pirates    90  2018\n",
       "\n",
       "[1084 rows x 4 columns]"
      ]
     },
     "execution_count": 34,
     "metadata": {},
     "output_type": "execute_result"
    }
   ],
   "source": [
    "#selecting all movies from 3 random years\n",
    "three_years = '''\n",
    "SELECT year FROM action_movie \n",
    "  GROUP BY year \n",
    "  ORDER BY RANDOM()\n",
    "  LIMIT 3\n",
    "'''\n",
    "\n",
    "cluster_sample = f'''\n",
    "SELECT * FROM action_movie \n",
    "WHERE year IN ({three_years})\n",
    "'''\n",
    "\n",
    "pd.read_sql(f'''\n",
    "SELECT *\n",
    "FROM ({cluster_sample}) \n",
    "''', conn)"
   ]
  },
  {
   "cell_type": "code",
   "execution_count": 35,
   "metadata": {},
   "outputs": [
    {
     "name": "stdout",
     "output_type": "stream",
     "text": [
      "\n",
      "SELECT * FROM action_movie \n",
      "WHERE year IN (\n",
      "SELECT year FROM action_movie \n",
      "  GROUP BY year \n",
      "  ORDER BY RANDOM()\n",
      "  LIMIT 3\n",
      ")\n",
      "\n"
     ]
    }
   ],
   "source": [
    "# Query has two select statements\n",
    "# Inner select statement creates the table of 3 randomly chosen years.\n",
    "print(cluster_sample)"
   ]
  },
  {
   "cell_type": "markdown",
   "metadata": {},
   "source": [
    "## Ages of Fame"
   ]
  },
  {
   "cell_type": "markdown",
   "metadata": {},
   "source": [
    "#### CASE Example"
   ]
  },
  {
   "cell_type": "code",
   "execution_count": 36,
   "metadata": {},
   "outputs": [
    {
     "data": {
      "text/html": [
       "<div>\n",
       "<style scoped>\n",
       "    .dataframe tbody tr th:only-of-type {\n",
       "        vertical-align: middle;\n",
       "    }\n",
       "\n",
       "    .dataframe tbody tr th {\n",
       "        vertical-align: top;\n",
       "    }\n",
       "\n",
       "    .dataframe thead th {\n",
       "        text-align: right;\n",
       "    }\n",
       "</style>\n",
       "<table border=\"1\" class=\"dataframe\">\n",
       "  <thead>\n",
       "    <tr style=\"text-align: right;\">\n",
       "      <th></th>\n",
       "      <th>id</th>\n",
       "      <th>title</th>\n",
       "      <th>time</th>\n",
       "      <th>year</th>\n",
       "      <th>length</th>\n",
       "    </tr>\n",
       "  </thead>\n",
       "  <tbody>\n",
       "    <tr>\n",
       "      <th>14329</th>\n",
       "      <td>tt1413492</td>\n",
       "      <td>12 Strong</td>\n",
       "      <td>130</td>\n",
       "      <td>2018</td>\n",
       "      <td>long</td>\n",
       "    </tr>\n",
       "    <tr>\n",
       "      <th>11737</th>\n",
       "      <td>tt0484964</td>\n",
       "      <td>Bañeros III, todopoderosos</td>\n",
       "      <td>92</td>\n",
       "      <td>2006</td>\n",
       "      <td>medium</td>\n",
       "    </tr>\n",
       "    <tr>\n",
       "      <th>19528</th>\n",
       "      <td>tt6097226</td>\n",
       "      <td>The Oil Wrestler</td>\n",
       "      <td>76</td>\n",
       "      <td>2020</td>\n",
       "      <td>medium</td>\n",
       "    </tr>\n",
       "    <tr>\n",
       "      <th>...</th>\n",
       "      <td>...</td>\n",
       "      <td>...</td>\n",
       "      <td>...</td>\n",
       "      <td>...</td>\n",
       "      <td>...</td>\n",
       "    </tr>\n",
       "    <tr>\n",
       "      <th>17030</th>\n",
       "      <td>tt2565750</td>\n",
       "      <td>Aragure</td>\n",
       "      <td>76</td>\n",
       "      <td>2013</td>\n",
       "      <td>medium</td>\n",
       "    </tr>\n",
       "    <tr>\n",
       "      <th>2051</th>\n",
       "      <td>tt0089652</td>\n",
       "      <td>My Science Project</td>\n",
       "      <td>94</td>\n",
       "      <td>1985</td>\n",
       "      <td>medium</td>\n",
       "    </tr>\n",
       "    <tr>\n",
       "      <th>795</th>\n",
       "      <td>tt0073702</td>\n",
       "      <td>The Boss's Head</td>\n",
       "      <td>94</td>\n",
       "      <td>1975</td>\n",
       "      <td>medium</td>\n",
       "    </tr>\n",
       "  </tbody>\n",
       "</table>\n",
       "<p>10 rows × 5 columns</p>\n",
       "</div>"
      ],
      "text/plain": [
       "              id                       title  time  year  length\n",
       "14329  tt1413492                   12 Strong   130  2018    long\n",
       "11737  tt0484964  Bañeros III, todopoderosos    92  2006  medium\n",
       "19528  tt6097226            The Oil Wrestler    76  2020  medium\n",
       "...          ...                         ...   ...   ...     ...\n",
       "17030  tt2565750                     Aragure    76  2013  medium\n",
       "2051   tt0089652          My Science Project    94  1985  medium\n",
       "795    tt0073702             The Boss's Head    94  1975  medium\n",
       "\n",
       "[10 rows x 5 columns]"
      ]
     },
     "execution_count": 36,
     "metadata": {},
     "output_type": "execute_result"
    }
   ],
   "source": [
    "#case statement example\n",
    "pd.read_sql('''\n",
    "SELECT id, title, time, year,\n",
    "     CASE WHEN time < 70 THEN 'short'\n",
    "          WHEN time < 120 THEN 'medium'\n",
    "          ELSE 'long'\n",
    "     END as length\n",
    "          \n",
    "FROM action_movie\n",
    "''', conn).sample(10)"
   ]
  },
  {
   "cell_type": "code",
   "execution_count": 37,
   "metadata": {},
   "outputs": [
    {
     "data": {
      "text/html": [
       "<div>\n",
       "<style scoped>\n",
       "    .dataframe tbody tr th:only-of-type {\n",
       "        vertical-align: middle;\n",
       "    }\n",
       "\n",
       "    .dataframe tbody tr th {\n",
       "        vertical-align: top;\n",
       "    }\n",
       "\n",
       "    .dataframe thead th {\n",
       "        text-align: right;\n",
       "    }\n",
       "</style>\n",
       "<table border=\"1\" class=\"dataframe\">\n",
       "  <thead>\n",
       "    <tr style=\"text-align: right;\">\n",
       "      <th></th>\n",
       "      <th>id</th>\n",
       "      <th>title</th>\n",
       "      <th>time</th>\n",
       "      <th>year</th>\n",
       "      <th>decade</th>\n",
       "    </tr>\n",
       "  </thead>\n",
       "  <tbody>\n",
       "    <tr>\n",
       "      <th>7102</th>\n",
       "      <td>tt0239395</td>\n",
       "      <td>Cats &amp; Dogs</td>\n",
       "      <td>87</td>\n",
       "      <td>2001</td>\n",
       "      <td>not 70s</td>\n",
       "    </tr>\n",
       "    <tr>\n",
       "      <th>7840</th>\n",
       "      <td>tt0275688</td>\n",
       "      <td>Snipes</td>\n",
       "      <td>113</td>\n",
       "      <td>2001</td>\n",
       "      <td>not 70s</td>\n",
       "    </tr>\n",
       "    <tr>\n",
       "      <th>20331</th>\n",
       "      <td>tt7589670</td>\n",
       "      <td>Chalo</td>\n",
       "      <td>145</td>\n",
       "      <td>2018</td>\n",
       "      <td>not 70s</td>\n",
       "    </tr>\n",
       "    <tr>\n",
       "      <th>...</th>\n",
       "      <td>...</td>\n",
       "      <td>...</td>\n",
       "      <td>...</td>\n",
       "      <td>...</td>\n",
       "      <td>...</td>\n",
       "    </tr>\n",
       "    <tr>\n",
       "      <th>18174</th>\n",
       "      <td>tt3916762</td>\n",
       "      <td>Rabhasa</td>\n",
       "      <td>153</td>\n",
       "      <td>2014</td>\n",
       "      <td>not 70s</td>\n",
       "    </tr>\n",
       "    <tr>\n",
       "      <th>20845</th>\n",
       "      <td>tt8669144</td>\n",
       "      <td>Kuththu</td>\n",
       "      <td>156</td>\n",
       "      <td>2004</td>\n",
       "      <td>not 70s</td>\n",
       "    </tr>\n",
       "    <tr>\n",
       "      <th>571</th>\n",
       "      <td>tt0029813</td>\n",
       "      <td>Ski Battalion</td>\n",
       "      <td>73</td>\n",
       "      <td>1937</td>\n",
       "      <td>not 70s</td>\n",
       "    </tr>\n",
       "  </tbody>\n",
       "</table>\n",
       "<p>10 rows × 5 columns</p>\n",
       "</div>"
      ],
      "text/plain": [
       "              id          title  time  year   decade\n",
       "7102   tt0239395    Cats & Dogs    87  2001  not 70s\n",
       "7840   tt0275688         Snipes   113  2001  not 70s\n",
       "20331  tt7589670          Chalo   145  2018  not 70s\n",
       "...          ...            ...   ...   ...      ...\n",
       "18174  tt3916762        Rabhasa   153  2014  not 70s\n",
       "20845  tt8669144        Kuththu   156  2004  not 70s\n",
       "571    tt0029813  Ski Battalion    73  1937  not 70s\n",
       "\n",
       "[10 rows x 5 columns]"
      ]
     },
     "execution_count": 37,
     "metadata": {},
     "output_type": "execute_result"
    }
   ],
   "source": [
    "#case statement example with a base expression\n",
    "pd.read_sql('''\n",
    "SELECT id, title, time, year,\n",
    "     CASE year LIKE '%197%' WHEN True THEN '70s'          \n",
    "          ELSE 'not 70s'\n",
    "     END as decade\n",
    "          \n",
    "FROM action_movie\n",
    "''', conn).sample(10)"
   ]
  },
  {
   "cell_type": "markdown",
   "metadata": {},
   "source": [
    "#### SUBSTR Example"
   ]
  },
  {
   "cell_type": "code",
   "execution_count": 38,
   "metadata": {},
   "outputs": [
    {
     "data": {
      "text/html": [
       "<div>\n",
       "<style scoped>\n",
       "    .dataframe tbody tr th:only-of-type {\n",
       "        vertical-align: middle;\n",
       "    }\n",
       "\n",
       "    .dataframe tbody tr th {\n",
       "        vertical-align: top;\n",
       "    }\n",
       "\n",
       "    .dataframe thead th {\n",
       "        text-align: right;\n",
       "    }\n",
       "</style>\n",
       "<table border=\"1\" class=\"dataframe\">\n",
       "  <thead>\n",
       "    <tr style=\"text-align: right;\">\n",
       "      <th></th>\n",
       "      <th>name</th>\n",
       "      <th>knownForTitles</th>\n",
       "    </tr>\n",
       "  </thead>\n",
       "  <tbody>\n",
       "    <tr>\n",
       "      <th>0</th>\n",
       "      <td>Fred Astaire</td>\n",
       "      <td>tt0050419,tt0072308,tt0043044,tt0053137</td>\n",
       "    </tr>\n",
       "    <tr>\n",
       "      <th>1</th>\n",
       "      <td>Lauren Bacall</td>\n",
       "      <td>tt0038355,tt0037382,tt0117057,tt0071877</td>\n",
       "    </tr>\n",
       "    <tr>\n",
       "      <th>2</th>\n",
       "      <td>Brigitte Bardot</td>\n",
       "      <td>tt0049189,tt0054452,tt0059956,tt0057345</td>\n",
       "    </tr>\n",
       "    <tr>\n",
       "      <th>...</th>\n",
       "      <td>...</td>\n",
       "      <td>...</td>\n",
       "    </tr>\n",
       "    <tr>\n",
       "      <th>7</th>\n",
       "      <td>Marlon Brando</td>\n",
       "      <td>tt0068646,tt0070849,tt0047296,tt0078788</td>\n",
       "    </tr>\n",
       "    <tr>\n",
       "      <th>8</th>\n",
       "      <td>Richard Burton</td>\n",
       "      <td>tt0059749,tt0057877,tt0087803,tt0061184</td>\n",
       "    </tr>\n",
       "    <tr>\n",
       "      <th>9</th>\n",
       "      <td>James Cagney</td>\n",
       "      <td>tt0029870,tt0042041,tt0035575,tt0031867</td>\n",
       "    </tr>\n",
       "  </tbody>\n",
       "</table>\n",
       "<p>10 rows × 2 columns</p>\n",
       "</div>"
      ],
      "text/plain": [
       "               name                           knownForTitles\n",
       "0      Fred Astaire  tt0050419,tt0072308,tt0043044,tt0053137\n",
       "1     Lauren Bacall  tt0038355,tt0037382,tt0117057,tt0071877\n",
       "2   Brigitte Bardot  tt0049189,tt0054452,tt0059956,tt0057345\n",
       "..              ...                                      ...\n",
       "7     Marlon Brando  tt0068646,tt0070849,tt0047296,tt0078788\n",
       "8    Richard Burton  tt0059749,tt0057877,tt0087803,tt0061184\n",
       "9      James Cagney  tt0029870,tt0042041,tt0035575,tt0031867\n",
       "\n",
       "[10 rows x 2 columns]"
      ]
     },
     "execution_count": 38,
     "metadata": {},
     "output_type": "execute_result"
    }
   ],
   "source": [
    "select_people = f'''\n",
    "SELECT primaryName AS name, knownForTitles  \n",
    "FROM names\n",
    "'''\n",
    "\n",
    "pd.read_sql(f'{select_people} LIMIT 10', conn)"
   ]
  },
  {
   "cell_type": "code",
   "execution_count": 39,
   "metadata": {
    "scrolled": true
   },
   "outputs": [
    {
     "data": {
      "text/html": [
       "<div>\n",
       "<style scoped>\n",
       "    .dataframe tbody tr th:only-of-type {\n",
       "        vertical-align: middle;\n",
       "    }\n",
       "\n",
       "    .dataframe tbody tr th {\n",
       "        vertical-align: top;\n",
       "    }\n",
       "\n",
       "    .dataframe thead th {\n",
       "        text-align: right;\n",
       "    }\n",
       "</style>\n",
       "<table border=\"1\" class=\"dataframe\">\n",
       "  <thead>\n",
       "    <tr style=\"text-align: right;\">\n",
       "      <th></th>\n",
       "      <th>name</th>\n",
       "      <th>most_popular_id</th>\n",
       "    </tr>\n",
       "  </thead>\n",
       "  <tbody>\n",
       "    <tr>\n",
       "      <th>0</th>\n",
       "      <td>Fred Astaire</td>\n",
       "      <td>tt0050419</td>\n",
       "    </tr>\n",
       "    <tr>\n",
       "      <th>1</th>\n",
       "      <td>Lauren Bacall</td>\n",
       "      <td>tt0038355</td>\n",
       "    </tr>\n",
       "    <tr>\n",
       "      <th>2</th>\n",
       "      <td>Brigitte Bardot</td>\n",
       "      <td>tt0049189</td>\n",
       "    </tr>\n",
       "    <tr>\n",
       "      <th>...</th>\n",
       "      <td>...</td>\n",
       "      <td>...</td>\n",
       "    </tr>\n",
       "    <tr>\n",
       "      <th>7</th>\n",
       "      <td>Marlon Brando</td>\n",
       "      <td>tt0068646</td>\n",
       "    </tr>\n",
       "    <tr>\n",
       "      <th>8</th>\n",
       "      <td>Richard Burton</td>\n",
       "      <td>tt0059749</td>\n",
       "    </tr>\n",
       "    <tr>\n",
       "      <th>9</th>\n",
       "      <td>James Cagney</td>\n",
       "      <td>tt0029870</td>\n",
       "    </tr>\n",
       "  </tbody>\n",
       "</table>\n",
       "<p>10 rows × 2 columns</p>\n",
       "</div>"
      ],
      "text/plain": [
       "               name most_popular_id\n",
       "0      Fred Astaire       tt0050419\n",
       "1     Lauren Bacall       tt0038355\n",
       "2   Brigitte Bardot       tt0049189\n",
       "..              ...             ...\n",
       "7     Marlon Brando       tt0068646\n",
       "8    Richard Burton       tt0059749\n",
       "9      James Cagney       tt0029870\n",
       "\n",
       "[10 rows x 2 columns]"
      ]
     },
     "execution_count": 39,
     "metadata": {},
     "output_type": "execute_result"
    }
   ],
   "source": [
    "select_people = f'''\n",
    "SELECT primaryName AS name,   \n",
    "  SUBSTR(knownForTitles, 0, INSTR(knownForTitles, ',')) AS most_popular_id\n",
    "FROM names\n",
    "'''\n",
    "\n",
    "pd.read_sql(f'{select_people} LIMIT 10', conn)"
   ]
  },
  {
   "cell_type": "markdown",
   "metadata": {},
   "source": [
    "### Age Trends"
   ]
  },
  {
   "cell_type": "code",
   "execution_count": 40,
   "metadata": {},
   "outputs": [
    {
     "data": {
      "text/html": [
       "<div>\n",
       "<style scoped>\n",
       "    .dataframe tbody tr th:only-of-type {\n",
       "        vertical-align: middle;\n",
       "    }\n",
       "\n",
       "    .dataframe tbody tr th {\n",
       "        vertical-align: top;\n",
       "    }\n",
       "\n",
       "    .dataframe thead th {\n",
       "        text-align: right;\n",
       "    }\n",
       "</style>\n",
       "<table border=\"1\" class=\"dataframe\">\n",
       "  <thead>\n",
       "    <tr style=\"text-align: right;\">\n",
       "      <th></th>\n",
       "      <th>nconst</th>\n",
       "      <th>primaryName</th>\n",
       "      <th>birthYear</th>\n",
       "      <th>deathYear</th>\n",
       "      <th>primaryProfession</th>\n",
       "      <th>knownForTitles</th>\n",
       "    </tr>\n",
       "  </thead>\n",
       "  <tbody>\n",
       "    <tr>\n",
       "      <th>0</th>\n",
       "      <td>nm0000001</td>\n",
       "      <td>Fred Astaire</td>\n",
       "      <td>1899</td>\n",
       "      <td>1987</td>\n",
       "      <td>soundtrack,actor,miscellaneous</td>\n",
       "      <td>tt0050419,tt0072308,tt0043044,tt0053137</td>\n",
       "    </tr>\n",
       "    <tr>\n",
       "      <th>1</th>\n",
       "      <td>nm0000002</td>\n",
       "      <td>Lauren Bacall</td>\n",
       "      <td>1924</td>\n",
       "      <td>2014</td>\n",
       "      <td>actress,soundtrack</td>\n",
       "      <td>tt0038355,tt0037382,tt0117057,tt0071877</td>\n",
       "    </tr>\n",
       "    <tr>\n",
       "      <th>2</th>\n",
       "      <td>nm0000003</td>\n",
       "      <td>Brigitte Bardot</td>\n",
       "      <td>1934</td>\n",
       "      <td>\\N</td>\n",
       "      <td>actress,soundtrack,music_department</td>\n",
       "      <td>tt0049189,tt0054452,tt0059956,tt0057345</td>\n",
       "    </tr>\n",
       "    <tr>\n",
       "      <th>...</th>\n",
       "      <td>...</td>\n",
       "      <td>...</td>\n",
       "      <td>...</td>\n",
       "      <td>...</td>\n",
       "      <td>...</td>\n",
       "      <td>...</td>\n",
       "    </tr>\n",
       "    <tr>\n",
       "      <th>7</th>\n",
       "      <td>nm0000008</td>\n",
       "      <td>Marlon Brando</td>\n",
       "      <td>1924</td>\n",
       "      <td>2004</td>\n",
       "      <td>actor,soundtrack,director</td>\n",
       "      <td>tt0068646,tt0070849,tt0047296,tt0078788</td>\n",
       "    </tr>\n",
       "    <tr>\n",
       "      <th>8</th>\n",
       "      <td>nm0000009</td>\n",
       "      <td>Richard Burton</td>\n",
       "      <td>1925</td>\n",
       "      <td>1984</td>\n",
       "      <td>actor,soundtrack,producer</td>\n",
       "      <td>tt0059749,tt0057877,tt0087803,tt0061184</td>\n",
       "    </tr>\n",
       "    <tr>\n",
       "      <th>9</th>\n",
       "      <td>nm0000010</td>\n",
       "      <td>James Cagney</td>\n",
       "      <td>1899</td>\n",
       "      <td>1986</td>\n",
       "      <td>actor,soundtrack,director</td>\n",
       "      <td>tt0029870,tt0042041,tt0035575,tt0031867</td>\n",
       "    </tr>\n",
       "  </tbody>\n",
       "</table>\n",
       "<p>10 rows × 6 columns</p>\n",
       "</div>"
      ],
      "text/plain": [
       "       nconst      primaryName birthYear deathYear  \\\n",
       "0   nm0000001     Fred Astaire      1899      1987   \n",
       "1   nm0000002    Lauren Bacall      1924      2014   \n",
       "2   nm0000003  Brigitte Bardot      1934        \\N   \n",
       "..        ...              ...       ...       ...   \n",
       "7   nm0000008    Marlon Brando      1924      2004   \n",
       "8   nm0000009   Richard Burton      1925      1984   \n",
       "9   nm0000010     James Cagney      1899      1986   \n",
       "\n",
       "                      primaryProfession  \\\n",
       "0        soundtrack,actor,miscellaneous   \n",
       "1                    actress,soundtrack   \n",
       "2   actress,soundtrack,music_department   \n",
       "..                                  ...   \n",
       "7             actor,soundtrack,director   \n",
       "8             actor,soundtrack,producer   \n",
       "9             actor,soundtrack,director   \n",
       "\n",
       "                             knownForTitles  \n",
       "0   tt0050419,tt0072308,tt0043044,tt0053137  \n",
       "1   tt0038355,tt0037382,tt0117057,tt0071877  \n",
       "2   tt0049189,tt0054452,tt0059956,tt0057345  \n",
       "..                                      ...  \n",
       "7   tt0068646,tt0070849,tt0047296,tt0078788  \n",
       "8   tt0059749,tt0057877,tt0087803,tt0061184  \n",
       "9   tt0029870,tt0042041,tt0035575,tt0031867  \n",
       "\n",
       "[10 rows x 6 columns]"
      ]
     },
     "execution_count": 40,
     "metadata": {},
     "output_type": "execute_result"
    }
   ],
   "source": [
    "pd.read_sql('SELECT * FROM names LIMIT 10;', conn)"
   ]
  },
  {
   "cell_type": "code",
   "execution_count": 41,
   "metadata": {},
   "outputs": [
    {
     "data": {
      "text/html": [
       "<div>\n",
       "<style scoped>\n",
       "    .dataframe tbody tr th:only-of-type {\n",
       "        vertical-align: middle;\n",
       "    }\n",
       "\n",
       "    .dataframe tbody tr th {\n",
       "        vertical-align: top;\n",
       "    }\n",
       "\n",
       "    .dataframe thead th {\n",
       "        text-align: right;\n",
       "    }\n",
       "</style>\n",
       "<table border=\"1\" class=\"dataframe\">\n",
       "  <thead>\n",
       "    <tr style=\"text-align: right;\">\n",
       "      <th></th>\n",
       "      <th>name</th>\n",
       "      <th>born</th>\n",
       "      <th>movie_id</th>\n",
       "      <th>profession</th>\n",
       "    </tr>\n",
       "  </thead>\n",
       "  <tbody>\n",
       "    <tr>\n",
       "      <th>0</th>\n",
       "      <td>Fred Astaire</td>\n",
       "      <td>1899</td>\n",
       "      <td>tt0050419</td>\n",
       "      <td>actor</td>\n",
       "    </tr>\n",
       "    <tr>\n",
       "      <th>1</th>\n",
       "      <td>Lauren Bacall</td>\n",
       "      <td>1924</td>\n",
       "      <td>tt0038355</td>\n",
       "      <td>actress</td>\n",
       "    </tr>\n",
       "    <tr>\n",
       "      <th>2</th>\n",
       "      <td>Brigitte Bardot</td>\n",
       "      <td>1934</td>\n",
       "      <td>tt0049189</td>\n",
       "      <td>actress</td>\n",
       "    </tr>\n",
       "    <tr>\n",
       "      <th>...</th>\n",
       "      <td>...</td>\n",
       "      <td>...</td>\n",
       "      <td>...</td>\n",
       "      <td>...</td>\n",
       "    </tr>\n",
       "    <tr>\n",
       "      <th>7</th>\n",
       "      <td>Marlon Brando</td>\n",
       "      <td>1924</td>\n",
       "      <td>tt0068646</td>\n",
       "      <td>actor</td>\n",
       "    </tr>\n",
       "    <tr>\n",
       "      <th>8</th>\n",
       "      <td>Richard Burton</td>\n",
       "      <td>1925</td>\n",
       "      <td>tt0059749</td>\n",
       "      <td>actor</td>\n",
       "    </tr>\n",
       "    <tr>\n",
       "      <th>9</th>\n",
       "      <td>James Cagney</td>\n",
       "      <td>1899</td>\n",
       "      <td>tt0029870</td>\n",
       "      <td>actor</td>\n",
       "    </tr>\n",
       "  </tbody>\n",
       "</table>\n",
       "<p>10 rows × 4 columns</p>\n",
       "</div>"
      ],
      "text/plain": [
       "               name  born   movie_id profession\n",
       "0      Fred Astaire  1899  tt0050419      actor\n",
       "1     Lauren Bacall  1924  tt0038355    actress\n",
       "2   Brigitte Bardot  1934  tt0049189    actress\n",
       "..              ...   ...        ...        ...\n",
       "7     Marlon Brando  1924  tt0068646      actor\n",
       "8    Richard Burton  1925  tt0059749      actor\n",
       "9      James Cagney  1899  tt0029870      actor\n",
       "\n",
       "[10 rows x 4 columns]"
      ]
     },
     "execution_count": 41,
     "metadata": {},
     "output_type": "execute_result"
    }
   ],
   "source": [
    "select_actors = f'''\n",
    "SELECT primaryName AS name, \n",
    "  CAST(birthYear AS int) AS born,\n",
    "  SUBSTR(knownForTitles, 0, INSTR(knownForTitles, ',')) AS movie_id,\n",
    "  CASE WHEN primaryProfession LIKE '%actor%' THEN 'actor' \n",
    "    WHEN primaryProfession LIKE '%actress%' THEN 'actress'   \n",
    "    END AS profession\n",
    "FROM names\n",
    "WHERE primaryProfession LIKE '%act%' AND\n",
    "  born > 1800\n",
    "'''\n",
    "\n",
    "pd.read_sql(f'{select_actors} LIMIT 10', conn)"
   ]
  },
  {
   "cell_type": "code",
   "execution_count": 42,
   "metadata": {
    "scrolled": true
   },
   "outputs": [
    {
     "data": {
      "text/html": [
       "<div>\n",
       "<style scoped>\n",
       "    .dataframe tbody tr th:only-of-type {\n",
       "        vertical-align: middle;\n",
       "    }\n",
       "\n",
       "    .dataframe tbody tr th {\n",
       "        vertical-align: top;\n",
       "    }\n",
       "\n",
       "    .dataframe thead th {\n",
       "        text-align: right;\n",
       "    }\n",
       "</style>\n",
       "<table border=\"1\" class=\"dataframe\">\n",
       "  <thead>\n",
       "    <tr style=\"text-align: right;\">\n",
       "      <th></th>\n",
       "      <th>name</th>\n",
       "      <th>profession</th>\n",
       "      <th>born</th>\n",
       "      <th>title</th>\n",
       "      <th>year</th>\n",
       "    </tr>\n",
       "  </thead>\n",
       "  <tbody>\n",
       "    <tr>\n",
       "      <th>0</th>\n",
       "      <td>John Belushi</td>\n",
       "      <td>actor</td>\n",
       "      <td>1949</td>\n",
       "      <td>1941</td>\n",
       "      <td>1979</td>\n",
       "    </tr>\n",
       "    <tr>\n",
       "      <th>1</th>\n",
       "      <td>Buster Keaton</td>\n",
       "      <td>actor</td>\n",
       "      <td>1895</td>\n",
       "      <td>Steamboat Bill, Jr.</td>\n",
       "      <td>1928</td>\n",
       "    </tr>\n",
       "    <tr>\n",
       "      <th>2</th>\n",
       "      <td>Bruce Lee</td>\n",
       "      <td>actor</td>\n",
       "      <td>1940</td>\n",
       "      <td>Game of Death</td>\n",
       "      <td>1978</td>\n",
       "    </tr>\n",
       "    <tr>\n",
       "      <th>...</th>\n",
       "      <td>...</td>\n",
       "      <td>...</td>\n",
       "      <td>...</td>\n",
       "      <td>...</td>\n",
       "      <td>...</td>\n",
       "    </tr>\n",
       "    <tr>\n",
       "      <th>7</th>\n",
       "      <td>Antonio Banderas</td>\n",
       "      <td>actor</td>\n",
       "      <td>1960</td>\n",
       "      <td>Desperado</td>\n",
       "      <td>1995</td>\n",
       "    </tr>\n",
       "    <tr>\n",
       "      <th>8</th>\n",
       "      <td>Kim Basinger</td>\n",
       "      <td>actress</td>\n",
       "      <td>1953</td>\n",
       "      <td>Batman</td>\n",
       "      <td>1989</td>\n",
       "    </tr>\n",
       "    <tr>\n",
       "      <th>9</th>\n",
       "      <td>Matthew Broderick</td>\n",
       "      <td>actor</td>\n",
       "      <td>1962</td>\n",
       "      <td>WarGames</td>\n",
       "      <td>1983</td>\n",
       "    </tr>\n",
       "  </tbody>\n",
       "</table>\n",
       "<p>10 rows × 5 columns</p>\n",
       "</div>"
      ],
      "text/plain": [
       "                 name profession  born                title  year\n",
       "0        John Belushi      actor  1949                 1941  1979\n",
       "1       Buster Keaton      actor  1895  Steamboat Bill, Jr.  1928\n",
       "2           Bruce Lee      actor  1940        Game of Death  1978\n",
       "..                ...        ...   ...                  ...   ...\n",
       "7    Antonio Banderas      actor  1960            Desperado  1995\n",
       "8        Kim Basinger    actress  1953               Batman  1989\n",
       "9   Matthew Broderick      actor  1962             WarGames  1983\n",
       "\n",
       "[10 rows x 5 columns]"
      ]
     },
     "execution_count": 42,
     "metadata": {},
     "output_type": "execute_result"
    }
   ],
   "source": [
    "select = f'''\n",
    "SELECT name, profession, born, title, year\n",
    "FROM ({select_actors}) JOIN action_movie\n",
    "  ON movie_id = id;\n",
    "'''\n",
    "\n",
    "conn.executescript(f'''\n",
    "DROP TABLE IF EXISTS action_ppl;\n",
    "CREATE TABLE action_ppl AS {select};\n",
    "''')\n",
    "\n",
    "pd.read_sql('SELECT * FROM action_ppl LIMIT 10', conn)"
   ]
  },
  {
   "cell_type": "markdown",
   "metadata": {},
   "source": [
    "The table above gives us all the people whose first movie in IMDB's \"known for\" list is an action movie, along with the name of that movie. We call these people \"action people\"."
   ]
  },
  {
   "cell_type": "markdown",
   "metadata": {},
   "source": [
    "There's a lot we can do with this table, i.e. we can find all the people whose top role has the word \"Vampire\" in it."
   ]
  },
  {
   "cell_type": "code",
   "execution_count": 43,
   "metadata": {
    "scrolled": true
   },
   "outputs": [
    {
     "data": {
      "text/html": [
       "<div>\n",
       "<style scoped>\n",
       "    .dataframe tbody tr th:only-of-type {\n",
       "        vertical-align: middle;\n",
       "    }\n",
       "\n",
       "    .dataframe tbody tr th {\n",
       "        vertical-align: top;\n",
       "    }\n",
       "\n",
       "    .dataframe thead th {\n",
       "        text-align: right;\n",
       "    }\n",
       "</style>\n",
       "<table border=\"1\" class=\"dataframe\">\n",
       "  <thead>\n",
       "    <tr style=\"text-align: right;\">\n",
       "      <th></th>\n",
       "      <th>name</th>\n",
       "      <th>profession</th>\n",
       "      <th>born</th>\n",
       "      <th>title</th>\n",
       "      <th>year</th>\n",
       "    </tr>\n",
       "  </thead>\n",
       "  <tbody>\n",
       "    <tr>\n",
       "      <th>0</th>\n",
       "      <td>Thomas Ian Griffith</td>\n",
       "      <td>actor</td>\n",
       "      <td>1962</td>\n",
       "      <td>Vampires</td>\n",
       "      <td>1998</td>\n",
       "    </tr>\n",
       "    <tr>\n",
       "      <th>1</th>\n",
       "      <td>Susanna Hoffs</td>\n",
       "      <td>actress</td>\n",
       "      <td>1959</td>\n",
       "      <td>Buffy the Vampire Slayer</td>\n",
       "      <td>1992</td>\n",
       "    </tr>\n",
       "    <tr>\n",
       "      <th>2</th>\n",
       "      <td>Darian Caine</td>\n",
       "      <td>actress</td>\n",
       "      <td>1973</td>\n",
       "      <td>Fist of the Vampire</td>\n",
       "      <td>2007</td>\n",
       "    </tr>\n",
       "    <tr>\n",
       "      <th>...</th>\n",
       "      <td>...</td>\n",
       "      <td>...</td>\n",
       "      <td>...</td>\n",
       "      <td>...</td>\n",
       "      <td>...</td>\n",
       "    </tr>\n",
       "    <tr>\n",
       "      <th>51</th>\n",
       "      <td>Beth Hyland</td>\n",
       "      <td>actress</td>\n",
       "      <td>1976</td>\n",
       "      <td>Vampire Academy</td>\n",
       "      <td>2014</td>\n",
       "    </tr>\n",
       "    <tr>\n",
       "      <th>52</th>\n",
       "      <td>Beth Burvant</td>\n",
       "      <td>actress</td>\n",
       "      <td>1970</td>\n",
       "      <td>Cirque du Freak: The Vampire's Assistant</td>\n",
       "      <td>2009</td>\n",
       "    </tr>\n",
       "    <tr>\n",
       "      <th>53</th>\n",
       "      <td>Natasha \"Sasha\" Angelety</td>\n",
       "      <td>actress</td>\n",
       "      <td>1981</td>\n",
       "      <td>Cirque du Freak: The Vampire's Assistant</td>\n",
       "      <td>2009</td>\n",
       "    </tr>\n",
       "  </tbody>\n",
       "</table>\n",
       "<p>54 rows × 5 columns</p>\n",
       "</div>"
      ],
      "text/plain": [
       "                        name profession  born  \\\n",
       "0        Thomas Ian Griffith      actor  1962   \n",
       "1              Susanna Hoffs    actress  1959   \n",
       "2               Darian Caine    actress  1973   \n",
       "..                       ...        ...   ...   \n",
       "51               Beth Hyland    actress  1976   \n",
       "52              Beth Burvant    actress  1970   \n",
       "53  Natasha \"Sasha\" Angelety    actress  1981   \n",
       "\n",
       "                                       title  year  \n",
       "0                                   Vampires  1998  \n",
       "1                   Buffy the Vampire Slayer  1992  \n",
       "2                        Fist of the Vampire  2007  \n",
       "..                                       ...   ...  \n",
       "51                           Vampire Academy  2014  \n",
       "52  Cirque du Freak: The Vampire's Assistant  2009  \n",
       "53  Cirque du Freak: The Vampire's Assistant  2009  \n",
       "\n",
       "[54 rows x 5 columns]"
      ]
     },
     "execution_count": 43,
     "metadata": {},
     "output_type": "execute_result"
    }
   ],
   "source": [
    "vampire_people = '''\n",
    "SELECT *\n",
    "FROM action_ppl\n",
    "WHERE title LIKE \"%Vampire%\"\n",
    "'''\n",
    "\n",
    "pd.read_sql(vampire_people, conn)"
   ]
  },
  {
   "cell_type": "markdown",
   "metadata": {},
   "source": [
    "Or we can read in our dataframe into pandas and make a plot. Let's see the age of each actor when their best known movie was made."
   ]
  },
  {
   "cell_type": "code",
   "execution_count": 44,
   "metadata": {},
   "outputs": [
    {
     "data": {
      "text/plain": [
       "(18569, 5)"
      ]
     },
     "execution_count": 44,
     "metadata": {},
     "output_type": "execute_result"
    }
   ],
   "source": [
    "df = pd.read_sql('SELECT * FROM action_ppl', conn)\n",
    "df.shape"
   ]
  },
  {
   "cell_type": "code",
   "execution_count": 45,
   "metadata": {},
   "outputs": [
    {
     "data": {
      "image/png": "[encoded data removed]",
      "text/plain": [
       "<Figure size 432x288 with 1 Axes>"
      ]
     },
     "metadata": {
      "needs_background": "light"
     },
     "output_type": "display_data"
    }
   ],
   "source": [
    "df['age'] = df['year'] - df['born']\n",
    "bins = np.linspace(0, 100, 21)\n",
    "sns.distplot(df[df['profession']=='actor']['age'], bins=bins)\n",
    "sns.distplot(df[df['profession']=='actress']['age'], bins=bins)\n",
    "plt.legend(labels=['Actor', 'Actress'])\n",
    "plt.xticks(bins, rotation=90)\n",
    "plt.xlim(0, 100)\n",
    "plt.ylabel('density');\n",
    "plt.title('Ages of actors in the Action movies they are known for');"
   ]
  }
 ],
 "metadata": {
  "kernelspec": {
   "display_name": "Python 3",
   "language": "python",
   "name": "python3"
  },
  "language_info": {
   "codemirror_mode": {
    "name": "ipython",
    "version": 3
   },
   "file_extension": ".py",
   "mimetype": "text/x-python",
   "name": "python",
   "nbconvert_exporter": "python",
   "pygments_lexer": "ipython3",
   "version": "3.7.6"
  }
 },
 "nbformat": 4,
 "nbformat_minor": 2
}
