{
 "cells": [
  {
   "cell_type": "markdown",
   "metadata": {},
   "source": [
    "# Lecture 10 Supplemental Notebook\n",
    "\n",
    "Data 100, Summer 2020\n",
    "\n",
    "Suraj Rampure"
   ]
  },
  {
   "cell_type": "code",
   "execution_count": null,
   "metadata": {},
   "outputs": [],
   "source": [
    "import numpy as np\n",
    "import matplotlib.pyplot as plt\n",
    "import seaborn as sns\n",
    "import pandas as pd"
   ]
  },
  {
   "cell_type": "markdown",
   "metadata": {},
   "source": [
    "# Overplotting"
   ]
  },
  {
   "cell_type": "code",
   "execution_count": null,
   "metadata": {},
   "outputs": [],
   "source": [
    "df = pd.read_csv('baby.csv')"
   ]
  },
  {
   "cell_type": "code",
   "execution_count": null,
   "metadata": {},
   "outputs": [],
   "source": [
    "plt.figure(figsize=(8, 8))\n",
    "plt.scatter(df['Maternal Height'], df['Birth Weight']);\n",
    "plt.xlabel('Maternal Height')\n",
    "plt.ylabel('Birth Weight');"
   ]
  },
  {
   "cell_type": "code",
   "execution_count": null,
   "metadata": {},
   "outputs": [],
   "source": [
    "plt.figure(figsize=(8, 8))\n",
    "plt.scatter(df['Maternal Height'], df['Birth Weight'], alpha = 0.4);\n",
    "plt.xlabel('Maternal Height')\n",
    "plt.ylabel('Birth Weight');"
   ]
  },
  {
   "cell_type": "code",
   "execution_count": null,
   "metadata": {},
   "outputs": [],
   "source": [
    "plt.figure(figsize=(8, 8))\n",
    "r1 = np.random.randn(len(df))/3\n",
    "r2 = np.random.randn(len(df))/3\n",
    "plt.scatter(df['Maternal Height'] + r1, df['Birth Weight'] + r2, alpha = 0.4);\n",
    "plt.xlabel('Maternal Height')\n",
    "plt.ylabel('Birth Weight');"
   ]
  },
  {
   "cell_type": "markdown",
   "metadata": {},
   "source": [
    "# Kernel Density Estimates"
   ]
  },
  {
   "cell_type": "code",
   "execution_count": null,
   "metadata": {},
   "outputs": [],
   "source": [
    "points = [2.2, 2.8, 3.7, 5.3, 5.7]"
   ]
  },
  {
   "cell_type": "code",
   "execution_count": null,
   "metadata": {},
   "outputs": [],
   "source": [
    "plt.hist(points, bins=range(0, 10, 2), ec='w', density=True);"
   ]
  },
  {
   "cell_type": "markdown",
   "metadata": {},
   "source": [
    "Let's define some **kernels**. We will explain these formulas momentarily. We'll also define some helper functions for visualization purposes."
   ]
  },
  {
   "cell_type": "code",
   "execution_count": null,
   "metadata": {},
   "outputs": [],
   "source": [
    "def gaussian(x, z, a):\n",
    "    # Gaussian kernel\n",
    "    return (1/np.sqrt(2*np.pi*a**2)) * np.e ** (-(x - z)**2 / (2 * a**2))\n",
    "\n",
    "def boxcar(x, z, a):\n",
    "    # Boxcar kernel\n",
    "    if np.abs(x - z) <= a/2:\n",
    "        return 1/a\n",
    "    return 0"
   ]
  },
  {
   "cell_type": "code",
   "execution_count": null,
   "metadata": {},
   "outputs": [],
   "source": [
    "def create_kde(kernel, pts, a):\n",
    "    # Takes in a kernel, set of points, and alpha\n",
    "    # Returns the KDE as a function\n",
    "    def f(x):\n",
    "        output = 0\n",
    "        for pt in pts:\n",
    "            output += kernel(x, pt, a)\n",
    "        return output / len(pts) # Normalization factor\n",
    "    return f\n",
    "\n",
    "def plot_kde(kernel, pts, a):\n",
    "    # Calls create_kde and plots the corresponding KDE\n",
    "    f = create_kde(kernel, pts, a)\n",
    "    x = np.linspace(min(pts) - 5, max(pts) + 5, 1000)\n",
    "    y = [f(xi) for xi in x]\n",
    "    plt.plot(x, y);\n",
    "    \n",
    "def plot_separate_kernels(kernel, pts, a, norm=False):\n",
    "    # Plots individual kernels, which are then summed to create the KDE\n",
    "    x = np.linspace(min(pts) - 5, max(pts) + 5, 1000)\n",
    "    for pt in pts:\n",
    "        if norm:\n",
    "            y = [(1/len(pts)) * kernel(xi, pt, a) for xi in x]\n",
    "        else:\n",
    "            y = [kernel(xi, pt, a) for xi in x]\n",
    "        plt.plot(x, y)\n",
    "    \n",
    "    plt.show();"
   ]
  },
  {
   "cell_type": "markdown",
   "metadata": {},
   "source": [
    "Here are our five points."
   ]
  },
  {
   "cell_type": "code",
   "execution_count": null,
   "metadata": {},
   "outputs": [],
   "source": [
    "plt.figure(figsize=(8, 5))\n",
    "plt.xlim(-3, 10)\n",
    "plt.ylim(0, 0.5)\n",
    "sns.rugplot(points, height = 0.5);"
   ]
  },
  {
   "cell_type": "markdown",
   "metadata": {},
   "source": [
    "### Step 1: Place a kernel at each point\n",
    "\n",
    "We'll start with the Gaussian kernel."
   ]
  },
  {
   "cell_type": "code",
   "execution_count": null,
   "metadata": {
    "scrolled": true
   },
   "outputs": [],
   "source": [
    "plt.figure(figsize=(8, 5))\n",
    "plt.xlim(-3, 10)\n",
    "plt.ylim(0, 0.5)\n",
    "plot_separate_kernels(gaussian, points, a = 1);"
   ]
  },
  {
   "cell_type": "markdown",
   "metadata": {},
   "source": [
    "### Step 2: Normalize kernels so that total area is 1"
   ]
  },
  {
   "cell_type": "code",
   "execution_count": null,
   "metadata": {},
   "outputs": [],
   "source": [
    "plt.figure(figsize=(8, 5))\n",
    "plt.xlim(-3, 10)\n",
    "plt.ylim(0, 0.5)\n",
    "plot_separate_kernels(gaussian, points, a = 1, norm = True);"
   ]
  },
  {
   "cell_type": "markdown",
   "metadata": {},
   "source": [
    "### Step 3: Sum all kernels together"
   ]
  },
  {
   "cell_type": "code",
   "execution_count": null,
   "metadata": {},
   "outputs": [],
   "source": [
    "plt.figure(figsize=(8, 5))\n",
    "plt.xlim(-3, 10)\n",
    "plt.ylim(0, 0.5)\n",
    "plot_kde(gaussian, points, a = 1)"
   ]
  },
  {
   "cell_type": "markdown",
   "metadata": {},
   "source": [
    "This looks identical to the smooth curve that `sns.distplot` gives us (when we set the appropriate parameter):"
   ]
  },
  {
   "cell_type": "code",
   "execution_count": null,
   "metadata": {},
   "outputs": [],
   "source": [
    "plt.figure(figsize=(8, 5))\n",
    "plt.xlim(-3, 10)\n",
    "plt.ylim(0, 0.5)\n",
    "sns.distplot(points, kde_kws={'bw': 1});"
   ]
  },
  {
   "cell_type": "markdown",
   "metadata": {},
   "source": [
    "## Kernels\n",
    "\n",
    "**Gaussian**\n",
    "\n",
    "$$K_{\\alpha}(x, x_i) = \\frac{1}{\\sqrt{2 \\pi \\alpha^2}} e^{-\\frac{(x - x_i)^2}{2\\alpha^2}}$$\n",
    "\n",
    "\n",
    "**Boxcar**\n",
    "\n",
    "\n",
    "$$K_{\\alpha}(x, x_i) = \\begin {cases}\n",
    "\t\t\t\\frac{1}{\\alpha}, \\: \\: \\: |x - x_i| \\leq \\frac{\\alpha}{2}\\\\\n",
    "\t\t\t0, \\: \\: \\: \\text{else}\n",
    "\t\t\t\\end{cases}$$"
   ]
  },
  {
   "cell_type": "code",
   "execution_count": null,
   "metadata": {},
   "outputs": [],
   "source": [
    "plt.figure(figsize=(8, 5))\n",
    "plt.xlim(-3, 10)\n",
    "plt.ylim(0, 0.5)\n",
    "plt.title(r'KDE of toy data with Gaussian kernel and $\\alpha$ = 1')\n",
    "plot_kde(gaussian, points, a = 1)"
   ]
  },
  {
   "cell_type": "code",
   "execution_count": null,
   "metadata": {},
   "outputs": [],
   "source": [
    "plt.figure(figsize=(8, 5))\n",
    "plt.xlim(-3, 10)\n",
    "plt.ylim(0, 0.5)\n",
    "plt.title(r'KDE of toy data with Boxcar kernel and $\\alpha$ = 1')\n",
    "plot_kde(boxcar, points, a = 1)"
   ]
  },
  {
   "cell_type": "markdown",
   "metadata": {},
   "source": [
    "## Effect of bandwidth hyperparameter $\\alpha$\n",
    "\n",
    "Let's bring in some (different) toy data."
   ]
  },
  {
   "cell_type": "code",
   "execution_count": null,
   "metadata": {},
   "outputs": [],
   "source": [
    "tips = sns.load_dataset('tips')"
   ]
  },
  {
   "cell_type": "code",
   "execution_count": null,
   "metadata": {},
   "outputs": [],
   "source": [
    "tips.head()"
   ]
  },
  {
   "cell_type": "code",
   "execution_count": null,
   "metadata": {},
   "outputs": [],
   "source": [
    "vals = tips['total_bill']"
   ]
  },
  {
   "cell_type": "code",
   "execution_count": null,
   "metadata": {},
   "outputs": [],
   "source": [
    "plt.figure(figsize=(8, 5))\n",
    "plt.ylim(0, 0.15)\n",
    "plt.title(r'KDE of tips with Gaussian kernel and $\\alpha$ = 0.1')\n",
    "plot_kde(gaussian, vals, a = 0.1)"
   ]
  },
  {
   "cell_type": "code",
   "execution_count": null,
   "metadata": {},
   "outputs": [],
   "source": [
    "plt.figure(figsize=(8, 5))\n",
    "plt.ylim(0, 0.1)\n",
    "plt.title(r'KDE of tips with Gaussian kernel and $\\alpha$ = 1')\n",
    "plot_kde(gaussian, vals, a = 1)"
   ]
  },
  {
   "cell_type": "code",
   "execution_count": null,
   "metadata": {},
   "outputs": [],
   "source": [
    "plt.figure(figsize=(8, 5))\n",
    "plt.ylim(0, 0.1)\n",
    "plt.title(r'KDE of tips with Gaussian kernel and $\\alpha$ = 2')\n",
    "plot_kde(gaussian, vals, a = 2)"
   ]
  },
  {
   "cell_type": "code",
   "execution_count": null,
   "metadata": {},
   "outputs": [],
   "source": [
    "plt.figure(figsize=(8, 5))\n",
    "plt.ylim(0, 0.1)\n",
    "plt.title(r'KDE of tips with Gaussian kernel and $\\alpha$ = 10')\n",
    "plot_kde(gaussian, vals, a = 5)"
   ]
  },
  {
   "cell_type": "markdown",
   "metadata": {},
   "source": [
    "### KDE Formula\n",
    "\n",
    "$$f_{\\alpha}(x) = \\sum_{i = 1}^n \\frac{1}{n} \\cdot K_{\\alpha}(x, x_i) =  \\frac{1}{n} \\sum_{i = 1}^n K_{\\alpha}(x, x_i)$$"
   ]
  },
  {
   "cell_type": "markdown",
   "metadata": {},
   "source": [
    "# Transformations\n",
    "\n",
    "<img src='bulge.png' width=350>"
   ]
  },
  {
   "cell_type": "markdown",
   "metadata": {},
   "source": [
    "Let's generate data that follows $y = 2x^3$."
   ]
  },
  {
   "cell_type": "code",
   "execution_count": null,
   "metadata": {},
   "outputs": [],
   "source": [
    "x = np.array([t + np.random.random() for t in np.linspace(1, 10, 20)])\n",
    "y = 2*x**3"
   ]
  },
  {
   "cell_type": "code",
   "execution_count": null,
   "metadata": {},
   "outputs": [],
   "source": [
    "plt.scatter(x, y);"
   ]
  },
  {
   "cell_type": "markdown",
   "metadata": {},
   "source": [
    "The bulge diagram says to raise $x$ to a power, or to take the log of $y$.\n",
    "\n",
    "First, let's raise $x$ to a power:"
   ]
  },
  {
   "cell_type": "code",
   "execution_count": null,
   "metadata": {},
   "outputs": [],
   "source": [
    "plt.scatter(x**2, y);"
   ]
  },
  {
   "cell_type": "markdown",
   "metadata": {},
   "source": [
    "We used $x^2$ as the transformation. It's better, but still not linear.\n",
    "Let's try $x^3$."
   ]
  },
  {
   "cell_type": "code",
   "execution_count": null,
   "metadata": {},
   "outputs": [],
   "source": [
    "plt.scatter(x**3, y);"
   ]
  },
  {
   "cell_type": "markdown",
   "metadata": {},
   "source": [
    "That worked well, which makes sense: the original data was cubic in $x$. We can overdo it, too: let's try $x^5$."
   ]
  },
  {
   "cell_type": "code",
   "execution_count": null,
   "metadata": {},
   "outputs": [],
   "source": [
    "plt.scatter(x**5, y);"
   ]
  },
  {
   "cell_type": "markdown",
   "metadata": {},
   "source": [
    "Now, the data follows some sort of square root relationship. It's certainly not linear; this goes to show that not all power transformations work the same way, and you'll need some experimentation.\n",
    "\n",
    "Let's instead try taking the log of y from the original data."
   ]
  },
  {
   "cell_type": "code",
   "execution_count": null,
   "metadata": {},
   "outputs": [],
   "source": [
    "plt.scatter(x, np.log(y));"
   ]
  },
  {
   "cell_type": "markdown",
   "metadata": {},
   "source": [
    "On it's own, this didn't quite work! Since $y = 2x^3$, $\\log(y) = \\log(2) + 3\\log(x)$.\n",
    "\n",
    "That means we are essentially plotting `plt.scatter(x, np.log(x))`, which is not linear.\n",
    "\n",
    "In order for this to be linear, we need to take the log of $x$ as well:"
   ]
  },
  {
   "cell_type": "code",
   "execution_count": null,
   "metadata": {},
   "outputs": [],
   "source": [
    "plt.scatter(np.log(x), np.log(y));"
   ]
  },
  {
   "cell_type": "markdown",
   "metadata": {},
   "source": [
    "The relationship being visualized now is\n",
    "\n",
    "$$\\log(y) = \\log(2) + 3 \\log(x)$$"
   ]
  }
 ],
 "metadata": {
  "kernelspec": {
   "display_name": "Python 3",
   "language": "python",
   "name": "python3"
  },
  "language_info": {
   "codemirror_mode": {
    "name": "ipython",
    "version": 3
   },
   "file_extension": ".py",
   "mimetype": "text/x-python",
   "name": "python",
   "nbconvert_exporter": "python",
   "pygments_lexer": "ipython3",
   "version": "3.7.4"
  }
 },
 "nbformat": 4,
 "nbformat_minor": 2
}
